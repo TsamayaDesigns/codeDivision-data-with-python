{
  "nbformat": 4,
  "nbformat_minor": 0,
  "metadata": {
    "colab": {
      "provenance": [],
      "include_colab_link": true
    },
    "kernelspec": {
      "name": "python3",
      "display_name": "Python 3"
    },
    "language_info": {
      "name": "python"
    }
  },
  "cells": [
    {
      "cell_type": "markdown",
      "metadata": {
        "id": "view-in-github",
        "colab_type": "text"
      },
      "source": [
        "<a href=\"https://colab.research.google.com/github/TsamayaDesigns/codeDivision-data-with-python/blob/main/Data_Investigation_Project.ipynb\" target=\"_parent\"><img src=\"https://colab.research.google.com/assets/colab-badge.svg\" alt=\"Open In Colab\"/></a>"
      ]
    },
    {
      "cell_type": "markdown",
      "metadata": {
        "id": "hmwPnuX3KU5t"
      },
      "source": [
        "# Data investigation project\n",
        "---\n",
        "\n",
        "Use what you have learnt so far about reading data files and displaying rows, columns, unique values, etc, to investigate and produce some printed information from this data set: https://raw.githubusercontent.com/futureCodersSE/working-with-data/main/Data%20sets/housing_in_london_yearly_variables.csv"
      ]
    },
    {
      "cell_type": "code",
      "metadata": {
        "id": "Z1q5Ven3KUEL",
        "colab": {
          "base_uri": "https://localhost:8080/"
        },
        "outputId": "f638e6f4-6d1d-41fc-d1e2-a4b7b62ae8fb"
      },
      "source": [
        "import pandas as pd\n",
        "\n",
        "# Import CSV-data from GitHub\n",
        "def get_csv_data():\n",
        "  url = \"https://raw.githubusercontent.com/futureCodersSE/working-with-data/main/Data%20sets/housing_in_london_yearly_variables.csv\"\n",
        "  df = pd.read_csv(url)\n",
        "  return df\n",
        "\n",
        "london = get_csv_data()\n",
        "\n",
        "# Produce statistics from imported data\n",
        "def investigate_data(df):\n",
        "  head = london.head()\n",
        "\n",
        "\n",
        "  return {\n",
        "      \"1. Head: \": head\n",
        "\n",
        "\n",
        "  }\n",
        "\n",
        "statistics = investigate_data(london)\n",
        "\n",
        "print(\"\\nHousing in London Statistics\\n\")\n",
        "for key, value in statistics.items():\n",
        "  print(f\"{key}:\\n{value}\\n\")\n"
      ],
      "execution_count": 8,
      "outputs": [
        {
          "output_type": "stream",
          "name": "stdout",
          "text": [
            "\n",
            "Housing in London Statistics\n",
            "\n",
            "1. Head: :\n",
            "        code                  area        date  median_salary  \\\n",
            "0  E09000001        city of london  1999-12-01        33020.0   \n",
            "1  E09000002  barking and dagenham  1999-12-01        21480.0   \n",
            "2  E09000003                barnet  1999-12-01        19568.0   \n",
            "3  E09000004                bexley  1999-12-01        18621.0   \n",
            "4  E09000005                 brent  1999-12-01        18532.0   \n",
            "\n",
            "   life_satisfaction mean_salary recycling_pct  population_size  \\\n",
            "0                NaN       48922             0           6581.0   \n",
            "1                NaN       23620             3         162444.0   \n",
            "2                NaN       23128             8         313469.0   \n",
            "3                NaN       21386            18         217458.0   \n",
            "4                NaN       20911             6         260317.0   \n",
            "\n",
            "   number_of_jobs  area_size  no_of_houses  borough_flag  \n",
            "0             NaN        NaN           NaN             1  \n",
            "1             NaN        NaN           NaN             1  \n",
            "2             NaN        NaN           NaN             1  \n",
            "3             NaN        NaN           NaN             1  \n",
            "4             NaN        NaN           NaN             1  \n",
            "\n"
          ]
        }
      ]
    }
  ]
}