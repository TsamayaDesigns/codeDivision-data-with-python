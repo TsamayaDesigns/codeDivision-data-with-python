{
  "nbformat": 4,
  "nbformat_minor": 0,
  "metadata": {
    "colab": {
      "provenance": [],
      "include_colab_link": true
    },
    "kernelspec": {
      "name": "python3",
      "display_name": "Python 3"
    },
    "language_info": {
      "name": "python"
    }
  },
  "cells": [
    {
      "cell_type": "markdown",
      "metadata": {
        "id": "view-in-github",
        "colab_type": "text"
      },
      "source": [
        "<a href=\"https://colab.research.google.com/github/TsamayaDesigns/codeDivision-data-with-python/blob/main/00_Skill_assessment.ipynb\" target=\"_parent\"><img src=\"https://colab.research.google.com/assets/colab-badge.svg\" alt=\"Open In Colab\"/></a>"
      ]
    },
    {
      "cell_type": "markdown",
      "source": [
        "# How much do you already know, or can work out?\n",
        "\n",
        "The following 10 exercises and challenge are designed to help you, and us to get an idea of how much you already know.  \n",
        "\n",
        "If you can do the exercise without help or need to look anything up, you can type the code into the code cell, click the play button (top left) and run the code to get the expected output.  \n",
        "\n",
        "If you think you can work it out without too much help, you could use [w3schools](https://www.w3schools.com/python/default.asp) as a reference tool and look things up (if you have never come across Python but have done some coding before, in another language, this will be very possible).  \n",
        "\n",
        "If you have never done any coding, in any language, and are nervous about having a go, then you could do one of our introductory worksheets.  \n",
        "\n",
        "### See how far you can get here"
      ],
      "metadata": {
        "id": "zDFqeDzGfxX4"
      }
    },
    {
      "cell_type": "markdown",
      "metadata": {
        "id": "-vVXrDTXbDzp"
      },
      "source": [
        "### Exercise 1 - printing\n",
        "---\n",
        "Print \"hello world\"\n",
        "\n",
        "**Expected Output**  \n",
        "hello world"
      ]
    },
    {
      "cell_type": "code",
      "source": [
        "print('Hello World!')"
      ],
      "metadata": {
        "id": "pC10KQ7wSwh2",
        "outputId": "f1c301ba-c648-4c5f-cf13-10fff9bb3a38",
        "colab": {
          "base_uri": "https://localhost:8080/"
        }
      },
      "execution_count": 2,
      "outputs": [
        {
          "output_type": "stream",
          "name": "stdout",
          "text": [
            "Hello World!\n"
          ]
        }
      ]
    },
    {
      "cell_type": "markdown",
      "metadata": {
        "id": "n-u42LuZbPc2"
      },
      "source": [
        "### Exercise 2 - using input\n",
        "---\n",
        "Create an input that asks for the user's name, stores it in a variable called name, then will `print` it\n",
        "\n",
        "**Test Input**  \n",
        "Marianne\n",
        "\n",
        "**Expected Output**  \n",
        "Marianne"
      ]
    },
    {
      "cell_type": "code",
      "metadata": {
        "id": "02KvhKPdbZW-",
        "outputId": "74dc0be8-7f31-4521-fc88-c46ebd98794e",
        "colab": {
          "base_uri": "https://localhost:8080/"
        }
      },
      "source": [
        "name = input(\"What is your name? \")\n",
        "print(name)"
      ],
      "execution_count": 8,
      "outputs": [
        {
          "output_type": "stream",
          "name": "stdout",
          "text": [
            "What is your name? Eugene\n",
            "Eugene\n"
          ]
        }
      ]
    },
    {
      "cell_type": "markdown",
      "metadata": {
        "id": "oXpvEknHbZvz"
      },
      "source": [
        "### Exercise 3 - operators, datatypes and input\n",
        "---\n",
        "\n",
        "Create 2 variables called **num1** and **num2** which each get their values from an input function which asks for a whole number and stores it as an integer\n",
        "\n",
        "Create a third variable called **num3** which adds **num1** and **num2** together\n",
        "\n",
        "**Test Input**  \n",
        "11  \n",
        "22  \n",
        "\n",
        "**Expected Output**  \n",
        "33\n"
      ]
    },
    {
      "cell_type": "code",
      "metadata": {
        "id": "WVnfbWjdcJPD"
      },
      "source": [],
      "execution_count": 2,
      "outputs": []
    },
    {
      "cell_type": "code",
      "source": [
        "num1 = int(input(\"Please provide me with the first number: \"))\n",
        "num2 = int(input(\"Please provide me with the second number: \"))\n",
        "num3 = num1 + num2\n",
        "txt = \"The total is: {}\"\n",
        "\n",
        "print(txt.format(num3))\n",
        ""
      ],
      "metadata": {
        "id": "pC2WyqpqUUb_",
        "outputId": "e1814ea6-8942-4656-9c2e-f60561874362",
        "colab": {
          "base_uri": "https://localhost:8080/"
        }
      },
      "execution_count": 6,
      "outputs": [
        {
          "output_type": "stream",
          "name": "stdout",
          "text": [
            "Please provide me with the first number: 15\n",
            "Please provide me with the second number: 15\n",
            "The total is: 30\n"
          ]
        }
      ]
    },
    {
      "cell_type": "markdown",
      "metadata": {
        "id": "EDPftM6dcJzK"
      },
      "source": [
        "### Exercise 4 - using if/else\n",
        "---\n",
        "\n",
        "Create variables to hold two inputed integers (you did this in the previous exercise). Create a third variable to hold the sum of the two integers. Then, if the answer is between 15 to 20 print 20, else return the correct answer\n",
        "\n",
        "**Test Input**  \n",
        "3  \n",
        "15  \n",
        "\n",
        "**Expected Output**  \n",
        "20"
      ]
    },
    {
      "cell_type": "code",
      "source": [
        "num1 = int(input(\"Please provide me with the first number: \"))\n",
        "num2 = int(input(\"Please provide me with the second number: \"))\n",
        "num3 = num1 + num2\n",
        "\n",
        "if num3 > 15 and num3 < 21:\n",
        "  print(20)\n",
        "else:\n",
        "  print(num3)\n"
      ],
      "metadata": {
        "id": "Oj1ueCRwXcFA",
        "outputId": "f815983b-8772-413f-b81e-a50c3bae1feb",
        "colab": {
          "base_uri": "https://localhost:8080/"
        }
      },
      "execution_count": 12,
      "outputs": [
        {
          "output_type": "stream",
          "name": "stdout",
          "text": [
            "Please provide me with the first number: 5\n",
            "Please provide me with the second number: 5\n",
            "10\n"
          ]
        }
      ]
    },
    {
      "cell_type": "markdown",
      "metadata": {
        "id": "c7hKrWgIdPrr"
      },
      "source": [
        "### Exercise 5 - using for loops\n",
        "---\n",
        "`Print` each letter of the string \"supercalifragilistic\" using a `for` loop\n",
        "\n",
        "**Expected Output**   \n",
        "s  \n",
        "u  \n",
        "p  \n",
        "e  \n",
        "r  \n",
        "c  \n",
        "a  \n",
        "l  \n",
        "i  \n",
        "f  \n",
        "r  \n",
        "a  \n",
        "g  \n",
        "i  \n",
        "l  \n",
        "i  \n",
        "s  \n",
        "t  \n",
        "i  \n",
        "c  "
      ]
    },
    {
      "cell_type": "code",
      "metadata": {
        "id": "bxE5C2jYdg2w",
        "outputId": "634942ff-774c-43b6-9404-e2c61fbfd5b6",
        "colab": {
          "base_uri": "https://localhost:8080/"
        }
      },
      "source": [
        "txt = \"supercalifragilistic\"\n",
        "for x in str(txt):\n",
        "  print(x)\n",
        "\n"
      ],
      "execution_count": 15,
      "outputs": [
        {
          "output_type": "stream",
          "name": "stdout",
          "text": [
            "s\n",
            "u\n",
            "p\n",
            "e\n",
            "r\n",
            "c\n",
            "a\n",
            "l\n",
            "i\n",
            "f\n",
            "r\n",
            "a\n",
            "g\n",
            "i\n",
            "l\n",
            "i\n",
            "s\n",
            "t\n",
            "i\n",
            "c\n"
          ]
        }
      ]
    },
    {
      "cell_type": "markdown",
      "metadata": {
        "id": "Bf_wev6UdhPH"
      },
      "source": [
        "### Exercise 6 - using while loops\n",
        "---\n",
        "Write a program that asks the user to enter a positive number.\n",
        "`if` the number entered is not positive (ie it is less than 0) the user will be shown an error message and asked to enter the number again. `if` a positive number is entered, the program should print \"Thankyou, goodbye\"\n",
        "\n",
        "**Test Input**   \n",
        "-1   \n",
        "4\n",
        "\n",
        "\n",
        "**Expected Output**  \n",
        "Error   \n",
        "Thankyou, goodbye"
      ]
    },
    {
      "cell_type": "code",
      "metadata": {
        "id": "muSpMY4vdtfD"
      },
      "source": [],
      "execution_count": null,
      "outputs": []
    },
    {
      "cell_type": "markdown",
      "metadata": {
        "id": "Q-drRJ2kdt4g"
      },
      "source": [
        "### Exercise 7 - lists and using list functions\n",
        "---\n",
        "The `list.sort()` function will sort a list.\n",
        "Create a list of 5 numbers and use the sorted function to sort them, storing the sorted list in a variabled called **sorted_list**\n",
        "\n",
        "**Test Input**  \n",
        "[1, 87, -1, 8, 21]\n",
        "\n",
        "**Expected Output**  \n",
        "[-1, 1, 8, 21, 87]"
      ]
    },
    {
      "cell_type": "code",
      "metadata": {
        "id": "W4MxMJ1ieGqe"
      },
      "source": [],
      "execution_count": null,
      "outputs": []
    },
    {
      "cell_type": "markdown",
      "metadata": {
        "id": "ZL0wbkQPeG6j"
      },
      "source": [
        "### Exercise 8 - dictionaries\n",
        "---\n",
        "Create an empty **dictionary** for a person (name, age and postcode). Read a person's details using the `input()` function and store them in your dictionary.\n",
        "\n",
        "Make sure that the entered age is a number (you could write a while loop to do this)\n",
        "\n",
        "Print the dictionary.  \n",
        "\n",
        "**Test Input**  \n",
        "Dave  \n",
        "24  \n",
        "SE11AB  \n",
        "\n",
        "**Expected Output**  \n",
        "{'name': 'Dave', 'age': 24, 'postcode': 'SE11AB'}"
      ]
    },
    {
      "cell_type": "code",
      "metadata": {
        "id": "jZc7zRAkeglf"
      },
      "source": [
        "\n"
      ],
      "execution_count": null,
      "outputs": []
    },
    {
      "cell_type": "markdown",
      "metadata": {
        "id": "lpT0N5HqehHK"
      },
      "source": [
        "### Exercise 9 - functions, lists and loops\n",
        "---\n",
        "Write a function to create and `print` a list where the values are squares of numbers between 1 and 30 (both included).\n",
        "\n",
        "**Expected Output**  \n",
        "[0, 1, 4, 9, 16, 25, 36, 49, 64, 81, 100, 121, 144, 169, 196, 225, 256, 289, 324, 361, 400, 441, 484, 529, 576, 625, 676, 729, 784, 841, 900]\n"
      ]
    },
    {
      "cell_type": "code",
      "metadata": {
        "id": "_h6r0hAce7ro"
      },
      "source": [],
      "execution_count": null,
      "outputs": []
    },
    {
      "cell_type": "markdown",
      "metadata": {
        "id": "GPoXDPh2e8LB"
      },
      "source": [
        "### Exercise 10 - functions\n",
        "---\n",
        "Create one function called **show_mood** that will take a current mood as a **parameter** of the function and will `return` a sentence in the following format: \"Today, I am feeling {mood}\". However, `if` an empty string is passed, it will `return` \"Today, I am feeling neutral\".\n",
        "\n",
        "**Test input**  \n",
        "show_mood(\"happy\")    \n",
        "show_mood(\"sad\")  \n",
        "show_mood(\"\")   \n",
        "\n",
        "**Expected output**  \n",
        "\"Today, I am feeling happy\"  \n",
        "\"Today, I am feeling sad\"  \n",
        "\"Today, I am feeling neutral\"   \n",
        "\n"
      ]
    },
    {
      "cell_type": "code",
      "metadata": {
        "id": "SvF1CessfoqC"
      },
      "source": [],
      "execution_count": null,
      "outputs": []
    },
    {
      "cell_type": "markdown",
      "metadata": {
        "id": "9U9rREgKumh1"
      },
      "source": [
        "### OPTIONAL Challenge\n",
        "---\n",
        "Copy and modify the function called **show_mood** so that it will take a current mood as a **parameter** of the function and will `return` a sentence in the following format: \"Today, I am feeling {mood}\". **However, if *no argument* is passed, it will assume that the mood is neutral**.\n",
        "\n",
        "**Test input**  \n",
        "show_mood(\"happy\")    \n",
        "show_mood(\"sad\")  \n",
        "show_mood()   \n",
        "\n",
        "**Expected output**  \n",
        "\"Today, I am feeling happy\"  \n",
        "\"Today, I am feeling sad\"  \n",
        "\"Today, I am feeling neutral\"   "
      ]
    },
    {
      "cell_type": "code",
      "metadata": {
        "id": "B2fYBD0Ouw2E"
      },
      "source": [],
      "execution_count": null,
      "outputs": []
    }
  ]
}