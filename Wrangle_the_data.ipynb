{
  "nbformat": 4,
  "nbformat_minor": 0,
  "metadata": {
    "colab": {
      "provenance": [],
      "include_colab_link": true
    },
    "kernelspec": {
      "name": "python3",
      "display_name": "Python 3"
    },
    "language_info": {
      "name": "python"
    }
  },
  "cells": [
    {
      "cell_type": "markdown",
      "metadata": {
        "id": "view-in-github",
        "colab_type": "text"
      },
      "source": [
        "<a href=\"https://colab.research.google.com/github/TsamayaDesigns/codeDivision-data-with-python/blob/main/Wrangle_the_data.ipynb\" target=\"_parent\"><img src=\"https://colab.research.google.com/assets/colab-badge.svg\" alt=\"Open In Colab\"/></a>"
      ]
    },
    {
      "cell_type": "markdown",
      "metadata": {
        "id": "BKBQIxC4YPKX"
      },
      "source": [
        "# Merging dataframes, creating new columns, replacing with default or correctly formatted values\n",
        "---\n",
        "\n",
        "## Merging dataframes\n",
        "\n",
        "We often want to use data from a set of different data files, or a set of dataframes we have prepared, to combine into one dataframe.\n",
        "\n",
        "### To merge two dataframes together when both dataframes have column headings in common\n",
        "\n",
        "If `df1` and `df2` have some column headings in common, to combine the two into one dataframe we use:  \n",
        "\n",
        "`pd.concat([dataframes to combine])`\n",
        "\n",
        "This will create a new dataframe with all columns from the original two dataframes, which we can store in a new variable for later use.  Missing values are filled with null values.\n",
        "\n",
        "If we want only the column headings that appear in both tables, we can use join='inner':\n",
        "\n",
        "`pd.concat([dataframes to combine], join='inner')`\n",
        "\n",
        "We may also need to refactor the indexing, where two tables are indexed from 0 upwards, adding the two tables together will result in multiple occurences of the same index.  This can be overcome by using ignore_index=True:\n",
        "\n",
        "`pd.concat([dataframes to combine], join='inner', ignore_index=True)`\n",
        "\n",
        "\n"
      ]
    },
    {
      "cell_type": "markdown",
      "metadata": {
        "id": "g0mUEA5ugGyJ"
      },
      "source": [
        "### Exercise 1 - look at the data\n",
        "\n",
        "The Excel file at this URL https://github.com/futureCodersSE/working-with-data/blob/main/Data%20sets/Income-Data.xlsx?raw=true contains TWO data sheets named county-level and state-level.  \n",
        "\n",
        "In the code cell below, read the county-level sheet into a dataframe called county_level_df and display the contents to see what it looks like.\n",
        "\n",
        "Then, add more code to read the state-level sheet into a dataframe called state_level_df and display the contents to see what this one looks like."
      ]
    },
    {
      "cell_type": "code",
      "metadata": {
        "id": "s6qHNDn-YN0i",
        "colab": {
          "base_uri": "https://localhost:8080/"
        },
        "outputId": "73d196e7-83e2-4c2a-da80-2bdb248bb478"
      },
      "source": [
        "import pandas as pd\n",
        "pd.set_option('display.width', 240)\n",
        "\n",
        "def get_excel_data():\n",
        "  county_level_df = pd.read_excel(\"https://github.com/futureCodersSE/working-with-data/blob/main/Data%20sets/Income-Data.xlsx?raw=true\", \"county-level\")\n",
        "  state_level_df = pd.read_excel(\"https://github.com/futureCodersSE/working-with-data/blob/main/Data%20sets/Income-Data.xlsx?raw=true\", \"state-level\")\n",
        "\n",
        "  return county_level_df, state_level_df\n",
        "print(county_level_df)\n",
        "print(state_level_df.loc[:])"
      ],
      "execution_count": 15,
      "outputs": [
        {
          "output_type": "stream",
          "name": "stdout",
          "text": [
            "   State  County  Population  Age  Income\n",
            "0     TX       1          72   34      65\n",
            "1     TX       2          33   42      45\n",
            "2     TX       5          25   23      46\n",
            "3     TX       6          54   36      65\n",
            "4     TX       7          11   42      53\n",
            "5     TX       8          28   25      62\n",
            "6     TX       9          82   35      66\n",
            "7     TX      10           5   40      75\n",
            "8     MD      11          61   27      22\n",
            "9     MD       2           5   23      69\n",
            "10    MD       4          98   25      73\n",
            "11    MD       3          64   29      75\n",
            "12    MD       2          36   24      65\n",
            "13    MD       1          24   25      66\n",
            "14    MD       5          34   31      78\n",
            "15    MD       6          89   22      81\n",
            "16    MD       8          21   25      73\n",
            "17    MD       7          21   30      62\n",
            "  State    Pop  Age  Income  Education\n",
            "0    TX  23543   32      54       10.2\n",
            "1    MD  10343   29      69       10.3\n",
            "2    IN   5231   41      35       10.1\n",
            "3    CA  29587   35      67       10.4\n",
            "4    NY  18142   34      78       10.2\n"
          ]
        }
      ]
    },
    {
      "cell_type": "markdown",
      "metadata": {
        "id": "Ai3WPgDgg0Z-"
      },
      "source": [
        "### Exercise 2 - combine the two data sets\n",
        "\n",
        "Use `pd.concat([list of dataframes])` to combine the two dataframes into a new dataframe called **income_df**, filling missing values with null values.  \n",
        "\n",
        "**Test output**:  \n",
        "income_df.shape will be (23, 7)  \n",
        "The Pop and Education columns will contain NaN for the first 18 rows  \n",
        "The County and Population columns will contain NaN for the last 5 rows"
      ]
    },
    {
      "cell_type": "code",
      "metadata": {
        "id": "cNRmOB4Yhzdf",
        "colab": {
          "base_uri": "https://localhost:8080/"
        },
        "outputId": "465056dc-898c-4715-8bc6-384fa8285752"
      },
      "source": [
        "# Combine the two dataframes into a new dataframe called \"income_df\", filling missing values with null values\n",
        "income_df = pd.concat([county_level_df, state_level_df])\n",
        "\n",
        "def investigate_data(income_df):\n",
        "  # 1. Shape of df:\n",
        "  print(\"\\nShape: \\n\", income_df.shape)\n",
        "\n",
        "  # 2. Print df:\n",
        "  print(\"\\nDataFrame: \\n\", income_df)\n",
        "\n",
        "  # 3. Check for missing values:\n",
        "  print(\"\\nColumns with missing values: \\n\", income_df.isna().any())\n",
        "\n",
        "  # 4. Check for number of missing values:\n",
        "  print(\"\\nColumns with (number of) missing values: \\n\", income_df.isna().sum())\n",
        "investigate_data(income_df)"
      ],
      "execution_count": 43,
      "outputs": [
        {
          "output_type": "stream",
          "name": "stdout",
          "text": [
            "\n",
            "Shape: \n",
            " (23, 7)\n",
            "\n",
            "DataFrame: \n",
            "    State  County  Population  Age  Income      Pop  Education\n",
            "0     TX     1.0        72.0   34      65      NaN        NaN\n",
            "1     TX     2.0        33.0   42      45      NaN        NaN\n",
            "2     TX     5.0        25.0   23      46      NaN        NaN\n",
            "3     TX     6.0        54.0   36      65      NaN        NaN\n",
            "4     TX     7.0        11.0   42      53      NaN        NaN\n",
            "5     TX     8.0        28.0   25      62      NaN        NaN\n",
            "6     TX     9.0        82.0   35      66      NaN        NaN\n",
            "7     TX    10.0         5.0   40      75      NaN        NaN\n",
            "8     MD    11.0        61.0   27      22      NaN        NaN\n",
            "9     MD     2.0         5.0   23      69      NaN        NaN\n",
            "10    MD     4.0        98.0   25      73      NaN        NaN\n",
            "11    MD     3.0        64.0   29      75      NaN        NaN\n",
            "12    MD     2.0        36.0   24      65      NaN        NaN\n",
            "13    MD     1.0        24.0   25      66      NaN        NaN\n",
            "14    MD     5.0        34.0   31      78      NaN        NaN\n",
            "15    MD     6.0        89.0   22      81      NaN        NaN\n",
            "16    MD     8.0        21.0   25      73      NaN        NaN\n",
            "17    MD     7.0        21.0   30      62      NaN        NaN\n",
            "0     TX     NaN         NaN   32      54  23543.0       10.2\n",
            "1     MD     NaN         NaN   29      69  10343.0       10.3\n",
            "2     IN     NaN         NaN   41      35   5231.0       10.1\n",
            "3     CA     NaN         NaN   35      67  29587.0       10.4\n",
            "4     NY     NaN         NaN   34      78  18142.0       10.2\n",
            "\n",
            "Columns with missing values: \n",
            " State         False\n",
            "County         True\n",
            "Population     True\n",
            "Age           False\n",
            "Income        False\n",
            "Pop            True\n",
            "Education      True\n",
            "dtype: bool\n",
            "\n",
            "Columns with (number of) missing values: \n",
            " State          0\n",
            "County         5\n",
            "Population     5\n",
            "Age            0\n",
            "Income         0\n",
            "Pop           18\n",
            "Education     18\n",
            "dtype: int64\n"
          ]
        }
      ]
    },
    {
      "cell_type": "markdown",
      "metadata": {
        "id": "aekH_ewx7FM3"
      },
      "source": [
        "### Exercise 3 - ignoring index to get a new indexing system\n",
        "---\n",
        "\n",
        "All rows in each dataframe are indexed from 0 to one less than the number of rows.  You will have noticed that the concatenation in the previous exercise has kept the indexing from the individual tables.  \n",
        "\n",
        "If we are making a new table it may make sense to create a new set of indices, from 0 to one less than the length of the new table.   Do this by adding an extra paramater ignore_index=True.  ignore_index is False by default and all original indices are kept.\n",
        "\n",
        "Combine the dataframes `county_level_df` and `state_level_df` into a new dataframe called `income_df`, adding the parameter `ignore_index=True`."
      ]
    },
    {
      "cell_type": "code",
      "metadata": {
        "id": "Z5ABjwed8Rpo",
        "colab": {
          "base_uri": "https://localhost:8080/"
        },
        "outputId": "6c69f40b-c078-46fa-ab8b-be2f93eb8de5"
      },
      "source": [
        "# Combine the two dataframes into a new dataframe called \"income_df\", adding the parameter \"ignore_index=True\".\n",
        "income_df = pd.concat([county_level_df, state_level_df], ignore_index=True)\n",
        "\n",
        "# 1. Print df:\n",
        "print(\"\\nDataFrame: \\n\", income_df)"
      ],
      "execution_count": 45,
      "outputs": [
        {
          "output_type": "stream",
          "name": "stdout",
          "text": [
            "\n",
            "DataFrame: \n",
            "    State  County  Population  Age  Income      Pop  Education\n",
            "0     TX     1.0        72.0   34      65      NaN        NaN\n",
            "1     TX     2.0        33.0   42      45      NaN        NaN\n",
            "2     TX     5.0        25.0   23      46      NaN        NaN\n",
            "3     TX     6.0        54.0   36      65      NaN        NaN\n",
            "4     TX     7.0        11.0   42      53      NaN        NaN\n",
            "5     TX     8.0        28.0   25      62      NaN        NaN\n",
            "6     TX     9.0        82.0   35      66      NaN        NaN\n",
            "7     TX    10.0         5.0   40      75      NaN        NaN\n",
            "8     MD    11.0        61.0   27      22      NaN        NaN\n",
            "9     MD     2.0         5.0   23      69      NaN        NaN\n",
            "10    MD     4.0        98.0   25      73      NaN        NaN\n",
            "11    MD     3.0        64.0   29      75      NaN        NaN\n",
            "12    MD     2.0        36.0   24      65      NaN        NaN\n",
            "13    MD     1.0        24.0   25      66      NaN        NaN\n",
            "14    MD     5.0        34.0   31      78      NaN        NaN\n",
            "15    MD     6.0        89.0   22      81      NaN        NaN\n",
            "16    MD     8.0        21.0   25      73      NaN        NaN\n",
            "17    MD     7.0        21.0   30      62      NaN        NaN\n",
            "18    TX     NaN         NaN   32      54  23543.0       10.2\n",
            "19    MD     NaN         NaN   29      69  10343.0       10.3\n",
            "20    IN     NaN         NaN   41      35   5231.0       10.1\n",
            "21    CA     NaN         NaN   35      67  29587.0       10.4\n",
            "22    NY     NaN         NaN   34      78  18142.0       10.2\n"
          ]
        }
      ]
    },
    {
      "cell_type": "markdown",
      "metadata": {
        "id": "QOEffcMkhR_c"
      },
      "source": [
        "### Exercise 4 - combine just the columns which are common to both\n",
        "\n",
        "Add an extra parameter, `join='inner'` and combine the dataframes `county_level_df` and `state_level_df` into a new dataframe called `income_df`  \n",
        "\n",
        "**Test output**:  \n",
        "income_df.shape will be (23, 3)   \n",
        "Column headings will be State, Age, Income  \n",
        "There will be 23 rows indexed 0 to 22  \n"
      ]
    },
    {
      "cell_type": "code",
      "metadata": {
        "id": "hd1Ca5lAjERH",
        "colab": {
          "base_uri": "https://localhost:8080/"
        },
        "outputId": "44591d5d-2413-423f-d985-8b6e68b67405"
      },
      "source": [
        "# Combine the two dataframes into a new dataframe called \"income_df\", adding the parameter \"ignore_index=True\", add an extra parameter, join='inner'.\n",
        "income_df = pd.concat([county_level_df, state_level_df], join=\"inner\", ignore_index=True)\n",
        "\n",
        "# 1. Shape of df:\n",
        "print(\"\\nShape: \\n\", income_df.shape)\n",
        "\n",
        "# 2. Print df:\n",
        "print(\"\\nDataFrame: \\n\", income_df)"
      ],
      "execution_count": 47,
      "outputs": [
        {
          "output_type": "stream",
          "name": "stdout",
          "text": [
            "\n",
            "Shape: \n",
            " (23, 3)\n",
            "\n",
            "DataFrame: \n",
            "    State  Age  Income\n",
            "0     TX   34      65\n",
            "1     TX   42      45\n",
            "2     TX   23      46\n",
            "3     TX   36      65\n",
            "4     TX   42      53\n",
            "5     TX   25      62\n",
            "6     TX   35      66\n",
            "7     TX   40      75\n",
            "8     MD   27      22\n",
            "9     MD   23      69\n",
            "10    MD   25      73\n",
            "11    MD   29      75\n",
            "12    MD   24      65\n",
            "13    MD   25      66\n",
            "14    MD   31      78\n",
            "15    MD   22      81\n",
            "16    MD   25      73\n",
            "17    MD   30      62\n",
            "18    TX   32      54\n",
            "19    MD   29      69\n",
            "20    IN   41      35\n",
            "21    CA   35      67\n",
            "22    NY   34      78\n"
          ]
        }
      ]
    },
    {
      "cell_type": "markdown",
      "metadata": {
        "id": "4QAJS3TJCz_p"
      },
      "source": [
        "# Appending rows to a dataframe\n",
        "\n",
        "Where two dataframes have matching columns, we can append one to the other to add the records from one onto the end of the other.\n",
        "\n",
        "We do this using dataframe.append()\n",
        "\n",
        "income_2 = income.append()"
      ]
    },
    {
      "cell_type": "markdown",
      "metadata": {
        "id": "Cwarv13blWyg"
      },
      "source": [
        "### Exercise 5 - add new rows to the end of the income dataframe\n",
        "\n",
        "The sheet `income` in the Excel data file has 10 further records showing State, Age and Income only, so this table matches the income dataframe exactly.\n",
        "\n",
        "Read the data from sheet_name `income` in the same Excel data file into a new dataframe called income_new.  \n",
        "\n",
        "Display the data so that you can inspect it.  \n",
        "\n",
        "Now append this dataframe to the `income` dataframe to form a new dataframe called **income_df_v2**.  Use the ignore_index=True parameter to reindex.  \n",
        "\n",
        "**Test output**:  \n",
        "income_df_v2.shape = (33, 3)  \n",
        "Rows are indexed from 0 to 32  "
      ]
    },
    {
      "cell_type": "code",
      "metadata": {
        "id": "Exik-fYQ_ORy",
        "colab": {
          "base_uri": "https://localhost:8080/"
        },
        "outputId": "e3cf6642-236d-49c0-9f35-c85d4891817b"
      },
      "source": [
        "# Read the data from sheet_name \"income\" in the same Excel data file into a new dataframe called \"income_new\"\n",
        "income_new = pd.read_excel(\"https://github.com/futureCodersSE/working-with-data/blob/main/Data%20sets/Income-Data.xlsx?raw=true\", \"income\")\n",
        "\n",
        "def exercise_5(income_new):\n",
        "  # 1. Display the data:\n",
        "  print(\"\\nDataFrame (income_new): \\n\", income_new)\n",
        "\n",
        "  # 2. Append this (\"income_new\") dataframe to the \"income_df\" dataframe to form a new dataframe called \"income_df_v2\". Use the \"ignore_index=True\" parameter to reindex.\n",
        "  # income_df_v2 = income_df.append(income_new, ignore_index=True)\n",
        "  # The code above generated the following error:\n",
        "  # <ipython-input-65-f6a02e64b2c6>:10: FutureWarning: The frame.append method is deprecated and will be removed from pandas in a future version. Use pandas.concat instead.\n",
        "\n",
        "  # I've amended my code to use \"pandas.concat\" instead\n",
        "  income_df_v2 = pd.concat([income_df, income_new], join=\"inner\", ignore_index=True)\n",
        "\n",
        "  # 3. Shape of dataframe (income_df_v2)\n",
        "  print(\"\\nShape of dataframe (income_df_v2): \\n\", income_df_v2.shape)\n",
        "\n",
        "  # 4. Display dataframe (income_df_v2)\n",
        "  print(\"\\nDataFrame (income_df_v2): \\n\", income_df_v2)\n",
        "\n",
        "exercise_5(income_new)"
      ],
      "execution_count": 68,
      "outputs": [
        {
          "output_type": "stream",
          "name": "stdout",
          "text": [
            "\n",
            "DataFrame (income_new): \n",
            "   State  Age  Income\n",
            "0    TX   32      69\n",
            "1    MD   41      35\n",
            "2    IN   32      69\n",
            "3    CA   35      54\n",
            "4    NY   29      78\n",
            "5    TX   35      54\n",
            "6    MD   34      67\n",
            "7    IN   41      35\n",
            "8    CA   29      78\n",
            "9    NY   34      67\n",
            "\n",
            "Shape of dataframe (income_df_v2): \n",
            " (33, 3)\n",
            "\n",
            "DataFrame (income_df_v2): \n",
            "    State  Age  Income\n",
            "0     TX   34      65\n",
            "1     TX   42      45\n",
            "2     TX   23      46\n",
            "3     TX   36      65\n",
            "4     TX   42      53\n",
            "5     TX   25      62\n",
            "6     TX   35      66\n",
            "7     TX   40      75\n",
            "8     MD   27      22\n",
            "9     MD   23      69\n",
            "10    MD   25      73\n",
            "11    MD   29      75\n",
            "12    MD   24      65\n",
            "13    MD   25      66\n",
            "14    MD   31      78\n",
            "15    MD   22      81\n",
            "16    MD   25      73\n",
            "17    MD   30      62\n",
            "18    TX   32      54\n",
            "19    MD   29      69\n",
            "20    IN   41      35\n",
            "21    CA   35      67\n",
            "22    NY   34      78\n",
            "23    TX   32      69\n",
            "24    MD   41      35\n",
            "25    IN   32      69\n",
            "26    CA   35      54\n",
            "27    NY   29      78\n",
            "28    TX   35      54\n",
            "29    MD   34      67\n",
            "30    IN   41      35\n",
            "31    CA   29      78\n",
            "32    NY   34      67\n"
          ]
        }
      ]
    },
    {
      "cell_type": "markdown",
      "metadata": {
        "id": "X6W6V8P9Eo2A"
      },
      "source": [
        "### Exercise 6 - Create a new Pop column in county_level_df\n",
        "\n",
        "Looking at the tables country_level_df and state_level_df, each has a column containing data on population.  One column is headed *Population* and the other is headed *Pop*.  Ideally these would be merged into one column and this would minimise the number of NaN entries.  \n",
        "\n",
        "*  Add a new column called '`Pop`' to the `county_level_df` dataframe which contains a copy of all the values in the '`Population`' column  (`df['new_name'] = df['existing_name']`)  \n",
        "*  Drop the 'Population' column (`df.drop(column name, axis=1`) from `county_level_df` and store the result in a new dataframe called **county_level_df_v2**\n",
        "*  display the new dataframe"
      ]
    },
    {
      "cell_type": "code",
      "metadata": {
        "id": "Yb_FWSLbG_zo",
        "colab": {
          "base_uri": "https://localhost:8080/"
        },
        "outputId": "aadc0058-1b3b-4ebe-cb39-40569199199b"
      },
      "source": [
        "# Add a new column called 'Pop' to the county_level_df dataframe which contains a copy of all the values in the 'Population' column\n",
        "county_level_df[\"Pop\"] = county_level_df[\"Population\"]\n",
        "print(\"\\n\\\"Pop\\\" column added to DataFrame (county_level_df): \\n\", county_level_df)\n",
        "\n",
        "# Drop the \"Population\" column (df.drop(column name, axis=1) from \"county_level_df\" and store the result in a new dataframe called \"county_level_df_v2\"\n",
        "county_level_df_v2 = county_level_df.drop(\"Population\", axis=1)\n",
        "print(\"\\nDrop the \\\"Population\\\" column from DataFrame (county_level_df): \\n\", county_level_df_v2)"
      ],
      "execution_count": 71,
      "outputs": [
        {
          "output_type": "stream",
          "name": "stdout",
          "text": [
            "\n",
            "\"Pop\" column added to DataFrame (county_level_df): \n",
            "    State  County  Population  Age  Income  Pop\n",
            "0     TX       1          72   34      65   72\n",
            "1     TX       2          33   42      45   33\n",
            "2     TX       5          25   23      46   25\n",
            "3     TX       6          54   36      65   54\n",
            "4     TX       7          11   42      53   11\n",
            "5     TX       8          28   25      62   28\n",
            "6     TX       9          82   35      66   82\n",
            "7     TX      10           5   40      75    5\n",
            "8     MD      11          61   27      22   61\n",
            "9     MD       2           5   23      69    5\n",
            "10    MD       4          98   25      73   98\n",
            "11    MD       3          64   29      75   64\n",
            "12    MD       2          36   24      65   36\n",
            "13    MD       1          24   25      66   24\n",
            "14    MD       5          34   31      78   34\n",
            "15    MD       6          89   22      81   89\n",
            "16    MD       8          21   25      73   21\n",
            "17    MD       7          21   30      62   21\n",
            "\n",
            "Drop the \"Population\" column from DataFrame (county_level_df): \n",
            "    State  County  Age  Income  Pop\n",
            "0     TX       1   34      65   72\n",
            "1     TX       2   42      45   33\n",
            "2     TX       5   23      46   25\n",
            "3     TX       6   36      65   54\n",
            "4     TX       7   42      53   11\n",
            "5     TX       8   25      62   28\n",
            "6     TX       9   35      66   82\n",
            "7     TX      10   40      75    5\n",
            "8     MD      11   27      22   61\n",
            "9     MD       2   23      69    5\n",
            "10    MD       4   25      73   98\n",
            "11    MD       3   29      75   64\n",
            "12    MD       2   24      65   36\n",
            "13    MD       1   25      66   24\n",
            "14    MD       5   31      78   34\n",
            "15    MD       6   22      81   89\n",
            "16    MD       8   25      73   21\n",
            "17    MD       7   30      62   21\n"
          ]
        }
      ]
    },
    {
      "cell_type": "markdown",
      "metadata": {
        "id": "d9ku407dEU_3"
      },
      "source": [
        "## Exercise 7 - clean up the format of the Pop column in state_level_df\n",
        "\n",
        "Now that both dataframes hava a Pop column, we should make the data consisent in format for both dataframes.\n",
        "\n",
        "In `county_level_df_v2` the values in the `Pop` column are in 1000s.  In `state_level_df` the values in the `Pop` column are actual numbers.  Let's convert the `state_level_df` values to 1000s for consistency.  We can do this by performing an operation on a column ( `df[column name] = df[column name] / 1000 `)\n",
        "\n",
        "*  make a copy of `state_level_df` called **state_level_df_v2** (use df.copy())\n",
        "*  convert the values in the `Pop` column of the `state_level_df_v2` dataframe to numbers of 1000s from actual numbers, rounding to whole numbers\n",
        "*  convert the values in the 'Pop' column to int64 (df[column name].astype(int))\n",
        "\n",
        "\n",
        "**Test output**:\n",
        "24, 10, 5, 30, 18, dtype: int64\n",
        "\n",
        "\n",
        "\n",
        "\n"
      ]
    },
    {
      "cell_type": "code",
      "metadata": {
        "id": "k5xM8g68N-wY",
        "colab": {
          "base_uri": "https://localhost:8080/"
        },
        "outputId": "a37ea065-4934-4fe5-d7c8-c7cd045af718"
      },
      "source": [
        "# Convert the \"state_level_df\" values to 1000s for consistency. We can do this by performing an operation on a column ( df[column name] = df[column name] / 1000)\n",
        "\n",
        "# 1. Make a copy of \"state_level_df\" called \"state_level_df_v2\" (use df.copy())\n",
        "state_level_df_v2 = state_level_df.copy()\n",
        "print(\"\\nDataFrame (state_level_df_v2): \\n\", state_level_df_v2)\n",
        "\n",
        "# 2. Convert the values in the \"Pop\" column of the \"state_level_df_v2\" dataframe to numbers of 1000s from actual numbers, rounding to whole numbers\n",
        "state_level_df_v2[\"Pop\"] = round(state_level_df_v2[\"Pop\"] / 1000)\n",
        "print(\"\\nDataFrame (state_level_df_v2): \\n\", state_level_df_v2)\n",
        "\n",
        "# 3. Convert the values in the 'Pop' column to int64 (df[column name].astype(int))\n",
        "state_level_df_v2[\"Pop\"] = state_level_df_v2[\"Pop\"].astype(int)\n",
        "print(\"\\nDataFrame (state_level_df_v2): \\n\", state_level_df_v2.info())\n"
      ],
      "execution_count": 98,
      "outputs": [
        {
          "output_type": "stream",
          "name": "stdout",
          "text": [
            "\n",
            "DataFrame (state_level_df_v2): \n",
            "   State    Pop  Age  Income  Education\n",
            "0    TX  23543   32      54       10.2\n",
            "1    MD  10343   29      69       10.3\n",
            "2    IN   5231   41      35       10.1\n",
            "3    CA  29587   35      67       10.4\n",
            "4    NY  18142   34      78       10.2\n",
            "\n",
            "DataFrame (state_level_df_v2): \n",
            "   State   Pop  Age  Income  Education\n",
            "0    TX  24.0   32      54       10.2\n",
            "1    MD  10.0   29      69       10.3\n",
            "2    IN   5.0   41      35       10.1\n",
            "3    CA  30.0   35      67       10.4\n",
            "4    NY  18.0   34      78       10.2\n",
            "<class 'pandas.core.frame.DataFrame'>\n",
            "RangeIndex: 5 entries, 0 to 4\n",
            "Data columns (total 5 columns):\n",
            " #   Column     Non-Null Count  Dtype  \n",
            "---  ------     --------------  -----  \n",
            " 0   State      5 non-null      object \n",
            " 1   Pop        5 non-null      int64  \n",
            " 2   Age        5 non-null      int64  \n",
            " 3   Income     5 non-null      int64  \n",
            " 4   Education  5 non-null      float64\n",
            "dtypes: float64(1), int64(3), object(1)\n",
            "memory usage: 328.0+ bytes\n",
            "\n",
            "DataFrame (state_level_df_v2): \n",
            " None\n"
          ]
        }
      ]
    },
    {
      "cell_type": "markdown",
      "metadata": {
        "id": "rRoghwoOilff"
      },
      "source": [
        "### Exercise 8 - combine the two v2 dataframes\n",
        "\n",
        "Combine `county_level_df_v2` and `state_level_df_v2` to create a new dataframe called **income_df_v3**.  The join type should be 'inner' and ignore_index should be True"
      ]
    },
    {
      "cell_type": "code",
      "metadata": {
        "id": "Ppy_ZLUgq0cv",
        "colab": {
          "base_uri": "https://localhost:8080/"
        },
        "outputId": "6f73ef44-208a-455a-f42f-a210fa15203c"
      },
      "source": [
        "  # Combine \"county_level_df_v2\" and \"state_level_df_v2\" to create a new dataframe called \"income_df_v3\". The join type should be 'inner' and ignore_index should be True\n",
        "  income_df_v3 = pd.concat([county_level_df_v2, state_level_df_v2], join=\"inner\", ignore_index=True)\n",
        "  print(\"\\nDataFrame (income_df_v3): \\n\", income_df_v3)\n",
        "\n"
      ],
      "execution_count": 99,
      "outputs": [
        {
          "output_type": "stream",
          "name": "stdout",
          "text": [
            "\n",
            "DataFrame (income_df_v3): \n",
            "    State  Age  Income  Pop\n",
            "0     TX   34      65   72\n",
            "1     TX   42      45   33\n",
            "2     TX   23      46   25\n",
            "3     TX   36      65   54\n",
            "4     TX   42      53   11\n",
            "5     TX   25      62   28\n",
            "6     TX   35      66   82\n",
            "7     TX   40      75    5\n",
            "8     MD   27      22   61\n",
            "9     MD   23      69    5\n",
            "10    MD   25      73   98\n",
            "11    MD   29      75   64\n",
            "12    MD   24      65   36\n",
            "13    MD   25      66   24\n",
            "14    MD   31      78   34\n",
            "15    MD   22      81   89\n",
            "16    MD   25      73   21\n",
            "17    MD   30      62   21\n",
            "18    TX   32      54   24\n",
            "19    MD   29      69   10\n",
            "20    IN   41      35    5\n",
            "21    CA   35      67   30\n",
            "22    NY   34      78   18\n"
          ]
        }
      ]
    },
    {
      "cell_type": "markdown",
      "metadata": {
        "id": "y63N_gr2sHI2"
      },
      "source": [
        "###  Exercise 9 - create a function that does all the wrangling\n",
        "\n",
        "Create a function called **get_income_df()** which reads the three data sheets, creates the new versions of `county_level_df` and `state_level_df` and combines the new versions.\n",
        "\n",
        "This function should:\n",
        "\n",
        "*  read the three sheets into the dataframes `county_level_df`, `state_level_df` and `income_new_df`\n",
        "*  clean up the Population column of `county_level_df` so that it has the name Pop\n",
        "*  clean up the Pop column of `state_level_df` so that it contains values that are whole numbers of 1000s\n",
        "*  combine `county_level_df` and `state_level_df` with join='inner', ignoring index\n",
        "*  append income_new_df to the combined dataframe  \n",
        "*  SORT the final dataframe on Income in descending order\n",
        "*  return the final dataframe\n",
        "\n",
        "**Test output**:  \n",
        "dataframe shape = (33, 4)   \n",
        "first row = 10\tMD\t25\t73\t98     \n",
        "last row = 7\tTX\t40\t75\t5\n",
        "\n"
      ]
    },
    {
      "cell_type": "code",
      "metadata": {
        "id": "hIE8uGK1t50_"
      },
      "source": [
        "import pandas as pd\n",
        "pd.set_option('display.width', 240)\n",
        "\n",
        "def get_excel_data():\n",
        "  county_level_df = pd.read_excel(\"https://github.com/futureCodersSE/working-with-data/blob/main/Data%20sets/Income-Data.xlsx?raw=true\", \"county-level\")\n",
        "  state_level_df = pd.read_excel(\"https://github.com/futureCodersSE/working-with-data/blob/main/Data%20sets/Income-Data.xlsx?raw=true\", \"state-level\")\n",
        "  income_new_df = pd.read_excel(\"https://github.com/futureCodersSE/working-with-data/blob/main/Data%20sets/Income-Data.xlsx?raw=true\", \"income\")\n",
        "\n",
        "  return county_level_df, state_level_df, income_new_df\n",
        "\n",
        "def get_income_df():\n",
        "\n",
        "\n",
        "\n",
        "  return new_income_df\n",
        "\n",
        "print(\"\\nDataFrame shape (new_income_df): \\n\", new_income_df.shape)\n",
        "print(\"\\nDataFrame 1st row (new_income_df): \\n\", new_income_df.head(1))\n",
        "print(\"\\nDataFrame last row (new_income_df): \\n\", new_income_df.tail(1))"
      ],
      "execution_count": null,
      "outputs": []
    },
    {
      "cell_type": "markdown",
      "metadata": {
        "id": "giXsXFPq14Lm"
      },
      "source": [
        "### Exercise 10 - group by state and calculate statistics\n",
        "\n",
        "Run the function get_income_df() and store the result in a new dataframe called **income_df**.\n",
        "\n",
        "Group income_df by State and calculate some statistics on the groups.\n",
        "\n",
        "Add a description, in the cell below, of what the statistics show and why in the text box."
      ]
    },
    {
      "cell_type": "markdown",
      "metadata": {
        "id": "PBt8j7CQ558j"
      },
      "source": []
    },
    {
      "cell_type": "code",
      "metadata": {
        "id": "Ou9dt0MR56S3"
      },
      "source": [],
      "execution_count": null,
      "outputs": []
    }
  ]
}