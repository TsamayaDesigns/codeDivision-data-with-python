{
  "nbformat": 4,
  "nbformat_minor": 0,
  "metadata": {
    "colab": {
      "provenance": [],
      "include_colab_link": true
    },
    "kernelspec": {
      "name": "python3",
      "display_name": "Python 3"
    },
    "language_info": {
      "name": "python"
    }
  },
  "cells": [
    {
      "cell_type": "markdown",
      "metadata": {
        "id": "view-in-github",
        "colab_type": "text"
      },
      "source": [
        "<a href=\"https://colab.research.google.com/github/TsamayaDesigns/codeDivision-data-with-python/blob/main/Clean_the_data.ipynb\" target=\"_parent\"><img src=\"https://colab.research.google.com/assets/colab-badge.svg\" alt=\"Open In Colab\"/></a>"
      ]
    },
    {
      "cell_type": "markdown",
      "metadata": {
        "id": "8orImwy7DgGg"
      },
      "source": [
        "# Clean these data sets\n",
        "---\n",
        "\n",
        "\n",
        "The data in the following files has missing values, incorrectly formatted dates an incorrect data value, empty columns.\n",
        "\n",
        "Open each file, inspect the data, make decisions about how to deal with incorrect or missing data and clean the data set.  \n",
        "\n",
        "Make decisions about missing values - should the whole record be removed or is it obvious what the missing data should be?\n",
        "\n",
        "Remove rows where you have made the decision to do so.  \n",
        "Fill in values where you have made the decision to do so.  \n",
        "\n",
        "Remove empty columns.\n",
        "\n",
        "Format dates correctly (see [datetime worksheet](https://github.com/futureCodersSE/working-with-data/blob/main/Worksheet_functions_datetime.ipynb))    \n",
        "\n",
        "Once you have cleaned each data set, save the data set into a CSV file on your computer.\n",
        "\n",
        "To do this:  \n",
        "```\n",
        "from google.colab import files\n",
        "dataframe_name.to_csv('filename.csv')\n",
        "files.download('filename.csv')\n",
        "```\n",
        "\n",
        "---\n",
        "\n",
        "### Data set 1 - Calorie burning\n"
      ]
    },
    {
      "cell_type": "code",
      "metadata": {
        "id": "T182pRmGDd1o"
      },
      "source": [
        "import pandas as pd\n",
        "pd.set_option('display.width', 240)\n",
        "\n",
        "# Retrieve Data\n",
        "def get_csv_data():\n",
        "  url = \"https://raw.githubusercontent.com/futureCodersSE/working-with-data/main/Data%20sets/Data%20Cleaning%20Data%20Sets/dirtydata.csv\"\n",
        "  df = pd.read_csv(url)\n",
        "  return df\n",
        "\n",
        "cal_data = get_csv_data()"
      ],
      "execution_count": 51,
      "outputs": []
    },
    {
      "cell_type": "code",
      "source": [
        "# Inspect Data\n",
        "def inspect_data():\n",
        "  print(\"\\nInspect Data: \\nData set 1 - Calorie burning:\\n\")\n",
        "  print(cal_data.info())\n",
        "  print(\"\\nHead: \\n\", cal_data.head())\n",
        "  print(\"\\n'Date' column: \\n\", cal_data[\"Date\"])\n",
        "  print(\"\\n'Calories' column: \\n\", cal_data)\n",
        "\n",
        "inspect_data()"
      ],
      "metadata": {
        "colab": {
          "base_uri": "https://localhost:8080/"
        },
        "id": "fTC0WRPysiBk",
        "outputId": "65810390-9555-49be-f8a3-94b39a7cb62a"
      },
      "execution_count": 52,
      "outputs": [
        {
          "output_type": "stream",
          "name": "stdout",
          "text": [
            "\n",
            "Inspect Data: \n",
            "Data set 1 - Calorie burning:\n",
            "\n",
            "<class 'pandas.core.frame.DataFrame'>\n",
            "RangeIndex: 32 entries, 0 to 31\n",
            "Data columns (total 5 columns):\n",
            " #   Column    Non-Null Count  Dtype  \n",
            "---  ------    --------------  -----  \n",
            " 0   Duration  32 non-null     int64  \n",
            " 1   Date      31 non-null     object \n",
            " 2   Pulse     32 non-null     int64  \n",
            " 3   Maxpulse  32 non-null     int64  \n",
            " 4   Calories  30 non-null     float64\n",
            "dtypes: float64(1), int64(3), object(1)\n",
            "memory usage: 1.4+ KB\n",
            "None\n",
            "\n",
            "Head: \n",
            "    Duration          Date  Pulse  Maxpulse  Calories\n",
            "0        60  '2020/12/01'    110       130     409.1\n",
            "1        60  '2020/12/02'    117       145     479.0\n",
            "2        60  '2020/12/03'    103       135     340.0\n",
            "3        45  '2020/12/04'    109       175     282.4\n",
            "4        45  '2020/12/05'    117       148     406.0\n",
            "\n",
            "'Date' column: \n",
            " 0     '2020/12/01'\n",
            "1     '2020/12/02'\n",
            "2     '2020/12/03'\n",
            "3     '2020/12/04'\n",
            "4     '2020/12/05'\n",
            "5     '2020/12/06'\n",
            "6     '2020/12/07'\n",
            "7     '2020/12/08'\n",
            "8     '2020/12/09'\n",
            "9     '2020/12/10'\n",
            "10    '2020/12/11'\n",
            "11    '2020/12/12'\n",
            "12    '2020/12/12'\n",
            "13    '2020/12/13'\n",
            "14    '2020/12/14'\n",
            "15    '2020/12/15'\n",
            "16    '2020/12/16'\n",
            "17    '2020/12/17'\n",
            "18    '2020/12/18'\n",
            "19    '2020/12/19'\n",
            "20    '2020/12/20'\n",
            "21    '2020/12/21'\n",
            "22             NaN\n",
            "23    '2020/12/23'\n",
            "24    '2020/12/24'\n",
            "25    '2020/12/25'\n",
            "26        20201226\n",
            "27    '2020/12/27'\n",
            "28    '2020/12/28'\n",
            "29    '2020/12/29'\n",
            "30    '2020/12/30'\n",
            "31    '2020/12/31'\n",
            "Name: Date, dtype: object\n",
            "\n",
            "'Calories' column: \n",
            "     Duration          Date  Pulse  Maxpulse  Calories\n",
            "0         60  '2020/12/01'    110       130     409.1\n",
            "1         60  '2020/12/02'    117       145     479.0\n",
            "2         60  '2020/12/03'    103       135     340.0\n",
            "3         45  '2020/12/04'    109       175     282.4\n",
            "4         45  '2020/12/05'    117       148     406.0\n",
            "5         60  '2020/12/06'    102       127     300.0\n",
            "6         60  '2020/12/07'    110       136     374.0\n",
            "7        450  '2020/12/08'    104       134     253.3\n",
            "8         30  '2020/12/09'    109       133     195.1\n",
            "9         60  '2020/12/10'     98       124     269.0\n",
            "10        60  '2020/12/11'    103       147     329.3\n",
            "11        60  '2020/12/12'    100       120     250.7\n",
            "12        60  '2020/12/12'    100       120     250.7\n",
            "13        60  '2020/12/13'    106       128     345.3\n",
            "14        60  '2020/12/14'    104       132     379.3\n",
            "15        60  '2020/12/15'     98       123     275.0\n",
            "16        60  '2020/12/16'     98       120     215.2\n",
            "17        60  '2020/12/17'    100       120     300.0\n",
            "18        45  '2020/12/18'     90       112       NaN\n",
            "19        60  '2020/12/19'    103       123     323.0\n",
            "20        45  '2020/12/20'     97       125     243.0\n",
            "21        60  '2020/12/21'    108       131     364.2\n",
            "22        45           NaN    100       119     282.0\n",
            "23        60  '2020/12/23'    130       101     300.0\n",
            "24        45  '2020/12/24'    105       132     246.0\n",
            "25        60  '2020/12/25'    102       126     334.5\n",
            "26        60      20201226    100       120     250.0\n",
            "27        60  '2020/12/27'     92       118     241.0\n",
            "28        60  '2020/12/28'    103       132       NaN\n",
            "29        60  '2020/12/29'    100       132     280.0\n",
            "30        60  '2020/12/30'    102       129     380.3\n",
            "31        60  '2020/12/31'     92       115     243.0\n"
          ]
        }
      ]
    },
    {
      "cell_type": "code",
      "source": [
        "# Clean Data\n",
        "def clean_data():\n",
        "  cal_data.loc[22, \"Date\"] = \"'2020/12/22'\"\n",
        "  cal_data.loc[26, \"Date\"] = \"'2020/12/26'\"\n",
        "  print(\"\\nCLEANED 'Date' column: \\n\", cal_data[\"Date\"], \"\\n\")\n",
        "  print(cal_data.info())\n",
        "\n",
        "clean_data()"
      ],
      "metadata": {
        "colab": {
          "base_uri": "https://localhost:8080/"
        },
        "id": "INZDzVHr9gR6",
        "outputId": "86888ee4-389d-4205-fc4c-9560be2ebdaa"
      },
      "execution_count": 53,
      "outputs": [
        {
          "output_type": "stream",
          "name": "stdout",
          "text": [
            "\n",
            "CLEANED 'Date' column: \n",
            " 0     '2020/12/01'\n",
            "1     '2020/12/02'\n",
            "2     '2020/12/03'\n",
            "3     '2020/12/04'\n",
            "4     '2020/12/05'\n",
            "5     '2020/12/06'\n",
            "6     '2020/12/07'\n",
            "7     '2020/12/08'\n",
            "8     '2020/12/09'\n",
            "9     '2020/12/10'\n",
            "10    '2020/12/11'\n",
            "11    '2020/12/12'\n",
            "12    '2020/12/12'\n",
            "13    '2020/12/13'\n",
            "14    '2020/12/14'\n",
            "15    '2020/12/15'\n",
            "16    '2020/12/16'\n",
            "17    '2020/12/17'\n",
            "18    '2020/12/18'\n",
            "19    '2020/12/19'\n",
            "20    '2020/12/20'\n",
            "21    '2020/12/21'\n",
            "22    '2020/12/22'\n",
            "23    '2020/12/23'\n",
            "24    '2020/12/24'\n",
            "25    '2020/12/25'\n",
            "26    '2020/12/26'\n",
            "27    '2020/12/27'\n",
            "28    '2020/12/28'\n",
            "29    '2020/12/29'\n",
            "30    '2020/12/30'\n",
            "31    '2020/12/31'\n",
            "Name: Date, dtype: object \n",
            "\n",
            "<class 'pandas.core.frame.DataFrame'>\n",
            "RangeIndex: 32 entries, 0 to 31\n",
            "Data columns (total 5 columns):\n",
            " #   Column    Non-Null Count  Dtype  \n",
            "---  ------    --------------  -----  \n",
            " 0   Duration  32 non-null     int64  \n",
            " 1   Date      32 non-null     object \n",
            " 2   Pulse     32 non-null     int64  \n",
            " 3   Maxpulse  32 non-null     int64  \n",
            " 4   Calories  30 non-null     float64\n",
            "dtypes: float64(1), int64(3), object(1)\n",
            "memory usage: 1.4+ KB\n",
            "None\n"
          ]
        }
      ]
    },
    {
      "cell_type": "code",
      "source": [
        "# Save Data\n",
        "def save_data(x, y):\n",
        "  from google.colab import files\n",
        "  x.to_csv(y)\n",
        "  files.download(y)\n",
        "\n",
        "save_data(cal_data, 'cal_data.csv')"
      ],
      "metadata": {
        "colab": {
          "base_uri": "https://localhost:8080/",
          "height": 17
        },
        "id": "n3-RZgl5ATf7",
        "outputId": "16a270e5-5c8f-4a1a-e812-cd152d1039e2"
      },
      "execution_count": 70,
      "outputs": [
        {
          "output_type": "display_data",
          "data": {
            "text/plain": [
              "<IPython.core.display.Javascript object>"
            ],
            "application/javascript": [
              "\n",
              "    async function download(id, filename, size) {\n",
              "      if (!google.colab.kernel.accessAllowed) {\n",
              "        return;\n",
              "      }\n",
              "      const div = document.createElement('div');\n",
              "      const label = document.createElement('label');\n",
              "      label.textContent = `Downloading \"${filename}\": `;\n",
              "      div.appendChild(label);\n",
              "      const progress = document.createElement('progress');\n",
              "      progress.max = size;\n",
              "      div.appendChild(progress);\n",
              "      document.body.appendChild(div);\n",
              "\n",
              "      const buffers = [];\n",
              "      let downloaded = 0;\n",
              "\n",
              "      const channel = await google.colab.kernel.comms.open(id);\n",
              "      // Send a message to notify the kernel that we're ready.\n",
              "      channel.send({})\n",
              "\n",
              "      for await (const message of channel.messages) {\n",
              "        // Send a message to notify the kernel that we're ready.\n",
              "        channel.send({})\n",
              "        if (message.buffers) {\n",
              "          for (const buffer of message.buffers) {\n",
              "            buffers.push(buffer);\n",
              "            downloaded += buffer.byteLength;\n",
              "            progress.value = downloaded;\n",
              "          }\n",
              "        }\n",
              "      }\n",
              "      const blob = new Blob(buffers, {type: 'application/binary'});\n",
              "      const a = document.createElement('a');\n",
              "      a.href = window.URL.createObjectURL(blob);\n",
              "      a.download = filename;\n",
              "      div.appendChild(a);\n",
              "      a.click();\n",
              "      div.remove();\n",
              "    }\n",
              "  "
            ]
          },
          "metadata": {}
        },
        {
          "output_type": "display_data",
          "data": {
            "text/plain": [
              "<IPython.core.display.Javascript object>"
            ],
            "application/javascript": [
              "download(\"download_e15cdcf9-5d7c-446d-9d2a-5b5ac804c754\", \"cal_data.csv\", 1069)"
            ]
          },
          "metadata": {}
        }
      ]
    },
    {
      "cell_type": "markdown",
      "metadata": {
        "id": "blitvvRwGi_A"
      },
      "source": [
        "### Data set 2 - Presidential election voting\n",
        "---\n",
        "\n"
      ]
    },
    {
      "cell_type": "code",
      "metadata": {
        "id": "KT0Ybc2kGnV-"
      },
      "source": [
        "import pandas as pd\n",
        "pd.set_option('display.width', 240)\n",
        "\n",
        "# Retrieve Data\n",
        "def get_csv_data():\n",
        "  url = \"https://raw.githubusercontent.com/futureCodersSE/working-with-data/main/Data%20sets/Data%20Cleaning%20Data%20Sets/presDirty.csv\"\n",
        "  df = pd.read_csv(url)\n",
        "  return df\n",
        "\n",
        "vote_data = get_csv_data()"
      ],
      "execution_count": 55,
      "outputs": []
    },
    {
      "cell_type": "code",
      "source": [
        "# Inspect Data\n",
        "def inspect_data():\n",
        "  print(\"\\nInspect Data: \\nData set 2 - Presidential election voting:\")\n",
        "  print(\"\\nHead: \\n\", vote_data.head(), \"\\n\")\n",
        "  print(vote_data.info())\n",
        "  print(\"\\nNumber of 'NaN': \\n\", vote_data.isna().sum().plot(kind=\"barh\"))\n",
        "\n",
        "inspect_data()"
      ],
      "metadata": {
        "colab": {
          "base_uri": "https://localhost:8080/",
          "height": 1000
        },
        "id": "kn3maz1Usj4K",
        "outputId": "921fd573-ca06-4cac-dfa7-11594a762f90"
      },
      "execution_count": 56,
      "outputs": [
        {
          "output_type": "stream",
          "name": "stdout",
          "text": [
            "\n",
            "Inspect Data: \n",
            "Data set 2 - Presidential election voting:\n",
            "\n",
            "Head: \n",
            "    cycle     branch       model   modeldate candidate_inc candidate_chal  nat_voteshare_other_hi  national_voteshare_inc_lo  national_voteshare_chal_lo  national_voteshare_3rd_lo  nat_voteshare_other_lo  national_turnout  \\\n",
            "0   2020  President  polls-plus  11/03/2020         Trump          Biden                1.842986                   42.91262                    50.87952                        NaN                0.724433       157972048.0   \n",
            "1   2020  President  polls-plus  11/02/2020         Trump          Biden                1.842986                   42.91348                    50.88025                        NaN                0.724433       157972048.0   \n",
            "2   2020  President  polls-plus  11/02/2020         Trump          Biden                1.842986                   42.91348                    50.88025                        NaN                0.724433       157972048.0   \n",
            "3   2020  President  polls-plus  10/31/2020         Trump          Biden                1.835479                   42.98096                    50.74764                        NaN                0.689802       158044784.0   \n",
            "4   2020  President  polls-plus  10/30/2020         Trump          Biden                1.847821                   42.92510                    50.72821                        NaN                0.692837       156723120.0   \n",
            "\n",
            "   national_turnout_hi  national_turnout_lo         timestamp  simulations  \n",
            "0          168424640.0          147487920.0  03/11/2020 00:00        40000  \n",
            "1          168424640.0          147487920.0  02/11/2020 23:45        40000  \n",
            "2          168424640.0          147487920.0  02/11/2020 23:45        40000  \n",
            "3          168497376.0          147560672.0  31/10/2020 22:23        40000  \n",
            "4          167175712.0          146239008.0  30/10/2020 21:34        40000   \n",
            "\n",
            "<class 'pandas.core.frame.DataFrame'>\n",
            "RangeIndex: 156 entries, 0 to 155\n",
            "Data columns (total 16 columns):\n",
            " #   Column                      Non-Null Count  Dtype  \n",
            "---  ------                      --------------  -----  \n",
            " 0   cycle                       156 non-null    int64  \n",
            " 1   branch                      156 non-null    object \n",
            " 2   model                       156 non-null    object \n",
            " 3   modeldate                   156 non-null    object \n",
            " 4   candidate_inc               156 non-null    object \n",
            " 5   candidate_chal              156 non-null    object \n",
            " 6   nat_voteshare_other_hi      156 non-null    float64\n",
            " 7   national_voteshare_inc_lo   156 non-null    float64\n",
            " 8   national_voteshare_chal_lo  156 non-null    float64\n",
            " 9   national_voteshare_3rd_lo   0 non-null      float64\n",
            " 10  nat_voteshare_other_lo      156 non-null    float64\n",
            " 11  national_turnout            59 non-null     float64\n",
            " 12  national_turnout_hi         59 non-null     float64\n",
            " 13  national_turnout_lo         59 non-null     float64\n",
            " 14  timestamp                   156 non-null    object \n",
            " 15  simulations                 156 non-null    int64  \n",
            "dtypes: float64(8), int64(2), object(6)\n",
            "memory usage: 19.6+ KB\n",
            "None\n",
            "\n",
            "Number of 'NaN': \n",
            " Axes(0.125,0.11;0.775x0.77)\n"
          ]
        },
        {
          "output_type": "display_data",
          "data": {
            "text/plain": [
              "<Figure size 640x480 with 1 Axes>"
            ],
            "image/png": "[encoded data removed]"
          },
          "metadata": {}
        }
      ]
    },
    {
      "cell_type": "code",
      "source": [
        "# Clean Data\n",
        "def clean_data():\n",
        "  cleaned_vote_data = vote_data.drop(columns = [\"national_voteshare_3rd_lo\"])\n",
        "  print(\"\\nCLEANED: \\n\", cleaned_vote_data.head(), \"\\n\")\n",
        "  print(cleaned_vote_data.info())\n",
        "  print(\"\\nNumber of 'NaN' (dropped 'national_voteshare_3rd_lo'): \\n\", cleaned_vote_data.isna().sum().plot(kind=\"barh\"))\n",
        "\n",
        "clean_data()"
      ],
      "metadata": {
        "colab": {
          "base_uri": "https://localhost:8080/",
          "height": 1000
        },
        "id": "pzXe8yBgBYsB",
        "outputId": "18ac5e2a-8900-4640-deec-d44ee2b2b72d"
      },
      "execution_count": 67,
      "outputs": [
        {
          "output_type": "stream",
          "name": "stdout",
          "text": [
            "\n",
            "CLEANED: \n",
            "    cycle     branch       model   modeldate candidate_inc candidate_chal  nat_voteshare_other_hi  national_voteshare_inc_lo  national_voteshare_chal_lo  nat_voteshare_other_lo  national_turnout  national_turnout_hi  national_turnout_lo  \\\n",
            "0   2020  President  polls-plus  11/03/2020         Trump          Biden                1.842986                   42.91262                    50.87952                0.724433       157972048.0          168424640.0          147487920.0   \n",
            "1   2020  President  polls-plus  11/02/2020         Trump          Biden                1.842986                   42.91348                    50.88025                0.724433       157972048.0          168424640.0          147487920.0   \n",
            "2   2020  President  polls-plus  11/02/2020         Trump          Biden                1.842986                   42.91348                    50.88025                0.724433       157972048.0          168424640.0          147487920.0   \n",
            "3   2020  President  polls-plus  10/31/2020         Trump          Biden                1.835479                   42.98096                    50.74764                0.689802       158044784.0          168497376.0          147560672.0   \n",
            "4   2020  President  polls-plus  10/30/2020         Trump          Biden                1.847821                   42.92510                    50.72821                0.692837       156723120.0          167175712.0          146239008.0   \n",
            "\n",
            "          timestamp  simulations  \n",
            "0  03/11/2020 00:00        40000  \n",
            "1  02/11/2020 23:45        40000  \n",
            "2  02/11/2020 23:45        40000  \n",
            "3  31/10/2020 22:23        40000  \n",
            "4  30/10/2020 21:34        40000   \n",
            "\n",
            "<class 'pandas.core.frame.DataFrame'>\n",
            "RangeIndex: 156 entries, 0 to 155\n",
            "Data columns (total 15 columns):\n",
            " #   Column                      Non-Null Count  Dtype  \n",
            "---  ------                      --------------  -----  \n",
            " 0   cycle                       156 non-null    int64  \n",
            " 1   branch                      156 non-null    object \n",
            " 2   model                       156 non-null    object \n",
            " 3   modeldate                   156 non-null    object \n",
            " 4   candidate_inc               156 non-null    object \n",
            " 5   candidate_chal              156 non-null    object \n",
            " 6   nat_voteshare_other_hi      156 non-null    float64\n",
            " 7   national_voteshare_inc_lo   156 non-null    float64\n",
            " 8   national_voteshare_chal_lo  156 non-null    float64\n",
            " 9   nat_voteshare_other_lo      156 non-null    float64\n",
            " 10  national_turnout            59 non-null     float64\n",
            " 11  national_turnout_hi         59 non-null     float64\n",
            " 12  national_turnout_lo         59 non-null     float64\n",
            " 13  timestamp                   156 non-null    object \n",
            " 14  simulations                 156 non-null    int64  \n",
            "dtypes: float64(7), int64(2), object(6)\n",
            "memory usage: 18.4+ KB\n",
            "None\n",
            "\n",
            "Number of 'NaN' (dropped 'national_voteshare_3rd_lo'): \n",
            " Axes(0.125,0.11;0.775x0.77)\n"
          ]
        },
        {
          "output_type": "display_data",
          "data": {
            "text/plain": [
              "<Figure size 640x480 with 1 Axes>"
            ],
            "image/png": "[encoded data removed]"
          },
          "metadata": {}
        }
      ]
    },
    {
      "cell_type": "code",
      "source": [
        "# Save Data\n",
        "def save_data(x, y):\n",
        "  from google.colab import files\n",
        "  x.to_csv(y)\n",
        "  files.download(y)\n",
        "\n",
        "save_data(cleaned_vote_data, 'cleaned_vote_data.csv')"
      ],
      "metadata": {
        "colab": {
          "base_uri": "https://localhost:8080/",
          "height": 297
        },
        "id": "YUOxdRuvCkoM",
        "outputId": "0d071ddd-c5bd-4839-e57d-8c310d449407"
      },
      "execution_count": 71,
      "outputs": [
        {
          "output_type": "error",
          "ename": "AttributeError",
          "evalue": "'NoneType' object has no attribute 'to_csv'",
          "traceback": [
            "\u001b[0;31m---------------------------------------------------------------------------\u001b[0m",
            "\u001b[0;31mAttributeError\u001b[0m                            Traceback (most recent call last)",
            "\u001b[0;32m<ipython-input-71-c0834dea6d59>\u001b[0m in \u001b[0;36m<cell line: 7>\u001b[0;34m()\u001b[0m\n\u001b[1;32m      5\u001b[0m   \u001b[0mfiles\u001b[0m\u001b[0;34m.\u001b[0m\u001b[0mdownload\u001b[0m\u001b[0;34m(\u001b[0m\u001b[0my\u001b[0m\u001b[0;34m)\u001b[0m\u001b[0;34m\u001b[0m\u001b[0;34m\u001b[0m\u001b[0m\n\u001b[1;32m      6\u001b[0m \u001b[0;34m\u001b[0m\u001b[0m\n\u001b[0;32m----> 7\u001b[0;31m \u001b[0msave_data\u001b[0m\u001b[0;34m(\u001b[0m\u001b[0mcleaned_vote_data\u001b[0m\u001b[0;34m,\u001b[0m \u001b[0;34m'cleaned_vote_data.csv'\u001b[0m\u001b[0;34m)\u001b[0m\u001b[0;34m\u001b[0m\u001b[0;34m\u001b[0m\u001b[0m\n\u001b[0m",
            "\u001b[0;32m<ipython-input-71-c0834dea6d59>\u001b[0m in \u001b[0;36msave_data\u001b[0;34m(x, y)\u001b[0m\n\u001b[1;32m      2\u001b[0m \u001b[0;32mdef\u001b[0m \u001b[0msave_data\u001b[0m\u001b[0;34m(\u001b[0m\u001b[0mx\u001b[0m\u001b[0;34m,\u001b[0m \u001b[0my\u001b[0m\u001b[0;34m)\u001b[0m\u001b[0;34m:\u001b[0m\u001b[0;34m\u001b[0m\u001b[0;34m\u001b[0m\u001b[0m\n\u001b[1;32m      3\u001b[0m   \u001b[0;32mfrom\u001b[0m \u001b[0mgoogle\u001b[0m\u001b[0;34m.\u001b[0m\u001b[0mcolab\u001b[0m \u001b[0;32mimport\u001b[0m \u001b[0mfiles\u001b[0m\u001b[0;34m\u001b[0m\u001b[0;34m\u001b[0m\u001b[0m\n\u001b[0;32m----> 4\u001b[0;31m   \u001b[0mx\u001b[0m\u001b[0;34m.\u001b[0m\u001b[0mto_csv\u001b[0m\u001b[0;34m(\u001b[0m\u001b[0my\u001b[0m\u001b[0;34m)\u001b[0m\u001b[0;34m\u001b[0m\u001b[0;34m\u001b[0m\u001b[0m\n\u001b[0m\u001b[1;32m      5\u001b[0m   \u001b[0mfiles\u001b[0m\u001b[0;34m.\u001b[0m\u001b[0mdownload\u001b[0m\u001b[0;34m(\u001b[0m\u001b[0my\u001b[0m\u001b[0;34m)\u001b[0m\u001b[0;34m\u001b[0m\u001b[0;34m\u001b[0m\u001b[0m\n\u001b[1;32m      6\u001b[0m \u001b[0;34m\u001b[0m\u001b[0m\n",
            "\u001b[0;31mAttributeError\u001b[0m: 'NoneType' object has no attribute 'to_csv'"
          ]
        }
      ]
    }
  ]
}