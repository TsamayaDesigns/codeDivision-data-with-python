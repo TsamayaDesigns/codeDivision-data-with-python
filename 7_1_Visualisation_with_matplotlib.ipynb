{
  "nbformat": 4,
  "nbformat_minor": 0,
  "metadata": {
    "colab": {
      "provenance": [],
      "include_colab_link": true
    },
    "kernelspec": {
      "name": "python3",
      "display_name": "Python 3"
    },
    "language_info": {
      "name": "python"
    }
  },
  "cells": [
    {
      "cell_type": "markdown",
      "metadata": {
        "id": "view-in-github",
        "colab_type": "text"
      },
      "source": [
        "<a href=\"https://colab.research.google.com/github/TsamayaDesigns/codeDivision-data-with-python/blob/main/7_1_Visualisation_with_matplotlib.ipynb\" target=\"_parent\"><img src=\"https://colab.research.google.com/assets/colab-badge.svg\" alt=\"Open In Colab\"/></a>"
      ]
    },
    {
      "cell_type": "markdown",
      "metadata": {
        "id": "ovNHeS53QqEj"
      },
      "source": [
        "# Describing data visually\n",
        "---\n",
        "\n",
        "There are a good number of libraries available containing functions for visualising data with bar charts, pie charts, line plots, box plots, scatter plots and, in some libraries, with more image based visualisations.\n",
        "\n",
        "To keep it relatively simple, we will use **matplotlib**, a widely used library with a wide range of visualisation functions for data sets and mathematical equations.  It has the main functions we will use in this course:\n",
        "*  bar charts\n",
        "*  pie charts\n",
        "*  line plots\n",
        "*  box plots\n",
        "*  scatter plots\n",
        "*  histogram\n",
        "\n",
        "Each requires these things:  \n",
        "1. Select the data columns to be plotted\n",
        "2. Prepare the data (remove null values, clean formats, etc)  \n",
        "3. Run the function for the required plot\n",
        "\n",
        "Once you have the hang of these, you can start to look at labelling, colouring, etc.\n",
        "\n",
        "In order to begin creating visualisations, you need to:  \n",
        "* import **matplotlib** as **plt**\n",
        "\n",
        "Test output for Exercises 1 to 7 is in this [image](https://drive.google.com/file/d/1yuuDSBI2gES2ipRWTa8XAycNqVd2Eqov/view?usp=sharing)"
      ]
    },
    {
      "cell_type": "markdown",
      "source": [
        "# IMPORTANT\n",
        "---\n",
        "There has been an upgrade to a library needed for reading Excel files in a notebook.  To ensure that you have this upgrade, run the code in the cell below and then select 'Restart runtime' from the Runtime menu."
      ],
      "metadata": {
        "id": "uX9YmfpUZhdq"
      }
    },
    {
      "cell_type": "code",
      "source": [
        "!pip install --upgrade openpyxl"
      ],
      "metadata": {
        "id": "-0vA7oxsZ1xM",
        "colab": {
          "base_uri": "https://localhost:8080/"
        },
        "outputId": "adf346fb-acf0-4d6b-8281-e81a0c7a7b22"
      },
      "execution_count": 108,
      "outputs": [
        {
          "output_type": "stream",
          "name": "stdout",
          "text": [
            "Requirement already satisfied: openpyxl in /usr/local/lib/python3.10/dist-packages (3.1.2)\n",
            "Requirement already satisfied: et-xmlfile in /usr/local/lib/python3.10/dist-packages (from openpyxl) (1.1.0)\n"
          ]
        }
      ]
    },
    {
      "cell_type": "markdown",
      "metadata": {
        "id": "lcPED_VXSY5U"
      },
      "source": [
        "#  Bar charts and Line Plots\n",
        "---\n",
        "\n",
        "For these exercises, use the Excel data file:\n",
        "\n",
        "'public-use-talent-migration' looking at sheet_name 'Country Migration'  \n",
        "https://github.com/futureCodersSE/working-with-data/blob/main/Data%20sets/public_use-talent-migration.xlsx?raw=true\n",
        "\n",
        "**Example**:  \n",
        "\n",
        "Watch the video [here](https://drive.google.com/file/d/1eNOy7fhkB2CSfVdb66kqB66qXfoPfOpd/view?usp=sharing) - demonstration of creating a bar chart using the `matplotlib` library `pyplot`.  Then have a go at creating it yourself."
      ]
    },
    {
      "cell_type": "code",
      "metadata": {
        "id": "4YZeIq9dQoVD"
      },
      "source": [
        "# Retrieve Data\n",
        "import pandas as pd\n",
        "import matplotlib.pyplot as plt\n",
        "pd.set_option('display.width', 240)\n",
        "\n",
        "def get_excel_data():\n",
        "  url = \"https://github.com/futureCodersSE/working-with-data/blob/main/Data%20sets/public_use-talent-migration.xlsx?raw=true\"\n",
        "  df = pd.read_excel(url, sheet_name = \"Country Migration\")\n",
        "  return df\n",
        "\n",
        "data = get_excel_data()"
      ],
      "execution_count": 109,
      "outputs": []
    },
    {
      "cell_type": "code",
      "source": [
        "# Inspect Data\n",
        "def inspect_data():\n",
        "  print(\"\\nInspect Data: \\nExercise 1 - Line plot of net migration\\n\")\n",
        "  data.info()\n",
        "\n",
        "inspect_data()"
      ],
      "metadata": {
        "colab": {
          "base_uri": "https://localhost:8080/"
        },
        "id": "rsb977FY4N1m",
        "outputId": "40bf1e49-a565-4ee1-a52e-617b52e1dc97"
      },
      "execution_count": 110,
      "outputs": [
        {
          "output_type": "stream",
          "name": "stdout",
          "text": [
            "\n",
            "Inspect Data: \n",
            "Exercise 1 - Line plot of net migration\n",
            "\n",
            "<class 'pandas.core.frame.DataFrame'>\n",
            "RangeIndex: 4148 entries, 0 to 4147\n",
            "Data columns (total 17 columns):\n",
            " #   Column                    Non-Null Count  Dtype  \n",
            "---  ------                    --------------  -----  \n",
            " 0   base_country_code         4148 non-null   object \n",
            " 1   base_country_name         4148 non-null   object \n",
            " 2   base_lat                  4148 non-null   float64\n",
            " 3   base_long                 4148 non-null   float64\n",
            " 4   base_country_wb_income    4148 non-null   object \n",
            " 5   base_country_wb_region    4148 non-null   object \n",
            " 6   target_country_code       4148 non-null   object \n",
            " 7   target_country_name       4148 non-null   object \n",
            " 8   target_lat                4148 non-null   float64\n",
            " 9   target_long               4148 non-null   float64\n",
            " 10  target_country_wb_income  4148 non-null   object \n",
            " 11  target_country_wb_region  4148 non-null   object \n",
            " 12  net_per_10K_2015          4148 non-null   float64\n",
            " 13  net_per_10K_2016          4148 non-null   float64\n",
            " 14  net_per_10K_2017          4148 non-null   float64\n",
            " 15  net_per_10K_2018          4148 non-null   float64\n",
            " 16  net_per_10K_2019          4148 non-null   float64\n",
            "dtypes: float64(9), object(8)\n",
            "memory usage: 551.0+ KB\n"
          ]
        }
      ]
    },
    {
      "cell_type": "markdown",
      "metadata": {
        "id": "CBIUWI1WyvLx"
      },
      "source": [
        "### Exercise 1 - Line plot of net migration\n",
        "---\n",
        "\n",
        "Creating a line plot of mean net migration over the years 2015 to 2019\n",
        "\n",
        "* create a new dataframe containing only the five columns holding net migration\n",
        "* create a new data variable to hold the means of the five columns\n",
        "* create a labels variable to hold the keys (column headings)\n",
        "* use plt.plot(x, y) to plot your line chart\n",
        "\n",
        "***Presentation tips:***   \n",
        "Plot the chart, then add formatting, then show the plot   \n",
        "\n",
        "Rotate the x-axis labels in the plot:  \n",
        "`plt.xticks(rotation=45)`  \n",
        "\n",
        "Show the grid:  \n",
        "`plt.grid()`  \n",
        "\n",
        "When all formatting has been done, show the plot:   \n",
        "`plt.show()`"
      ]
    },
    {
      "cell_type": "code",
      "metadata": {
        "id": "JLOAv52Kx1ZZ",
        "colab": {
          "base_uri": "https://localhost:8080/",
          "height": 1000
        },
        "outputId": "ea9a7b84-e7fc-441f-9bb2-8fb9195dc0b1"
      },
      "source": [
        "print(\"\\nAnalyse Data: \\nExercise 1 - Line plot of net migration: \")\n",
        "# Analyse Data\n",
        "def analyse_data():\n",
        "  # 1. Create a new dataframe containing only the five columns holding net migration\n",
        "  net_migr_15_to_19 = data[[\"net_per_10K_2015\", \"net_per_10K_2016\", \"net_per_10K_2017\", \"net_per_10K_2018\", \"net_per_10K_2019\"]]\n",
        "  print(\"\\n1. Create a new dataframe containing only the five columns holding net migration: \\n\", net_migr_15_to_19.describe())\n",
        "\n",
        "  # 2. Create a new data variable to hold the means of the five columns\n",
        "  net_migr_15_to_19_means = net_migr_15_to_19.mean()\n",
        "  print(\"\\n2. Create a new data variable to hold the means of the five columns: \\n\", net_migr_15_to_19_means)\n",
        "\n",
        "  # 3. Create a labels variable to hold the keys (column headings)\n",
        "  net_migr_15_to_19_labels = net_migr_15_to_19.keys()\n",
        "  print(\"\\n3. Create a labels variable to hold the keys (column headings): \\n\", net_migr_15_to_19_labels)\n",
        "\n",
        "  # 4. Use plt.plot(x, y) to plot your line chart\n",
        "  print(\"\\n4. Use plt.plot(x, y) to plot your line chart: \\n\")\n",
        "  plt.plot(net_migr_15_to_19_labels, net_migr_15_to_19_means)\n",
        "  plt.xticks(rotation=90)\n",
        "  plt.grid()\n",
        "  plt.show()\n",
        "\n",
        "analyse_data()"
      ],
      "execution_count": 111,
      "outputs": [
        {
          "output_type": "stream",
          "name": "stdout",
          "text": [
            "\n",
            "Analyse Data: \n",
            "Exercise 1 - Line plot of net migration: \n",
            "\n",
            "1. Create a new dataframe containing only the five columns holding net migration: \n",
            "        net_per_10K_2015  net_per_10K_2016  net_per_10K_2017  net_per_10K_2018  net_per_10K_2019\n",
            "count       4148.000000       4148.000000       4148.000000       4148.000000       4148.000000\n",
            "mean           0.461757          0.150248         -0.080272         -0.040591         -0.022743\n",
            "std            5.006530          4.201118          3.203092          3.593876          3.633247\n",
            "min          -37.010000        -40.890000        -43.660000        -56.220000        -50.330000\n",
            "25%           -0.150000         -0.190000         -0.210000         -0.210000         -0.210000\n",
            "50%            0.000000          0.000000          0.000000          0.000000          0.000000\n",
            "75%            0.240000          0.220000          0.160000          0.170000          0.180000\n",
            "max          150.680000        124.480000         87.000000         91.410000         87.710000\n",
            "\n",
            "2. Create a new data variable to hold the means of the five columns: \n",
            " net_per_10K_2015    0.461757\n",
            "net_per_10K_2016    0.150248\n",
            "net_per_10K_2017   -0.080272\n",
            "net_per_10K_2018   -0.040591\n",
            "net_per_10K_2019   -0.022743\n",
            "dtype: float64\n",
            "\n",
            "3. Create a labels variable to hold the keys (column headings): \n",
            " Index(['net_per_10K_2015', 'net_per_10K_2016', 'net_per_10K_2017', 'net_per_10K_2018', 'net_per_10K_2019'], dtype='object')\n",
            "\n",
            "4. Use plt.plot(x, y) to plot your line chart: \n",
            "\n"
          ]
        },
        {
          "output_type": "display_data",
          "data": {
            "text/plain": [
              "<Figure size 640x480 with 1 Axes>"
            ],
            "image/png": "[encoded data removed]"
          },
          "metadata": {}
        }
      ]
    },
    {
      "cell_type": "markdown",
      "metadata": {
        "id": "tCATnnTDVB0f"
      },
      "source": [
        "### Exercise 2 - Creating a Bar chart for yearly migration\n",
        "---\n",
        "Create a bar chart which shows the total net migration for the years 2015-2019  \n",
        "\n",
        "* split the migration columns into a new dataframe\n",
        "* create a data variable from the max() of the five columns\n",
        "* create a labels variable, this time just create a list of the 5 years ['2015','2016','2017','2018','2019']\n",
        "* plot the bar chart\n",
        "\n",
        "***Presentation tips***:\n",
        "* use plt.xlabel('Year') and plt.ylabel('Total net migration') to name your axis\n",
        "* display your bar graph with plt.show()"
      ]
    },
    {
      "cell_type": "code",
      "metadata": {
        "id": "HFpx3cFOhbKo",
        "colab": {
          "base_uri": "https://localhost:8080/",
          "height": 958
        },
        "outputId": "fca6f146-3524-4c52-cf2e-d2c9c7b9cba2"
      },
      "source": [
        "print(\"\\nAnalyse Data: \\nExercise 2 - Creating a Bar chart for yearly migration: \")\n",
        "# Analyse Data\n",
        "def analyse_data():\n",
        "  # 1. Split the migration columns into a new dataframe\n",
        "  migr_15_to_19 = data[[\"net_per_10K_2015\", \"net_per_10K_2016\", \"net_per_10K_2017\", \"net_per_10K_2018\", \"net_per_10K_2019\"]]\n",
        "  print(\"\\n1. Create a new dataframe containing only the five columns holding net migration: \\n\", migr_15_to_19.describe())\n",
        "\n",
        "  # 2. Create a data variable from the max() of the five columns\n",
        "  migr_15_to_19_max = migr_15_to_19.max()\n",
        "  print(\"\\n2. Create a new data variable to hold the means of the five columns: \\n\", migr_15_to_19_max)\n",
        "\n",
        "  # 3. Create a labels variable to hold the keys (column headings)\n",
        "  migr_15_to_19_labels = [\"2015\",\"2016\",\"2017\",\"2018\",\"2019\"]\n",
        "  print(\"\\n3. Create a labels variable, this time just create a list of the 5 years ['2015','2016','2017','2018','2019']: \\n\", migr_15_to_19_labels)\n",
        "\n",
        "  # 4. Plot the bar chart\n",
        "  print(\"\\n4. Plot the bar chart: \\n\")\n",
        "  plt.bar(migr_15_to_19_labels, migr_15_to_19_max)\n",
        "  plt.xlabel(\"Year\")\n",
        "  plt.ylabel(\"Total Net Migration\")\n",
        "  plt.title(\"Net Migration by Year\")\n",
        "  plt.show()\n",
        "\n",
        "analyse_data()"
      ],
      "execution_count": 112,
      "outputs": [
        {
          "output_type": "stream",
          "name": "stdout",
          "text": [
            "\n",
            "Analyse Data: \n",
            "Exercise 2 - Creating a Bar chart for yearly migration: \n",
            "\n",
            "1. Create a new dataframe containing only the five columns holding net migration: \n",
            "        net_per_10K_2015  net_per_10K_2016  net_per_10K_2017  net_per_10K_2018  net_per_10K_2019\n",
            "count       4148.000000       4148.000000       4148.000000       4148.000000       4148.000000\n",
            "mean           0.461757          0.150248         -0.080272         -0.040591         -0.022743\n",
            "std            5.006530          4.201118          3.203092          3.593876          3.633247\n",
            "min          -37.010000        -40.890000        -43.660000        -56.220000        -50.330000\n",
            "25%           -0.150000         -0.190000         -0.210000         -0.210000         -0.210000\n",
            "50%            0.000000          0.000000          0.000000          0.000000          0.000000\n",
            "75%            0.240000          0.220000          0.160000          0.170000          0.180000\n",
            "max          150.680000        124.480000         87.000000         91.410000         87.710000\n",
            "\n",
            "2. Create a new data variable to hold the means of the five columns: \n",
            " net_per_10K_2015    150.68\n",
            "net_per_10K_2016    124.48\n",
            "net_per_10K_2017     87.00\n",
            "net_per_10K_2018     91.41\n",
            "net_per_10K_2019     87.71\n",
            "dtype: float64\n",
            "\n",
            "3. Create a labels variable, this time just create a list of the 5 years ['2015','2016','2017','2018','2019']: \n",
            " ['2015', '2016', '2017', '2018', '2019']\n",
            "\n",
            "4. Plot the bar chart: \n",
            "\n"
          ]
        },
        {
          "output_type": "display_data",
          "data": {
            "text/plain": [
              "<Figure size 640x480 with 1 Axes>"
            ],
            "image/png": "[encoded data removed]"
          },
          "metadata": {}
        }
      ]
    },
    {
      "cell_type": "markdown",
      "metadata": {
        "id": "h7XzURfOzZfm"
      },
      "source": [
        "### Exercise 3 - creating a bar graph using grouped data\n",
        "---\n",
        "\n",
        "Create a horizontal bar chart of 2019 mean immigration for each income level ('`target_country_wb_income`')\n",
        "\n",
        "* create a data variable which contains the means, grouped by '`target_country_wb_income`'\n",
        "* extract your labels (x) using the .keys() function\n",
        "* use the plt.barh(x, y) to create a horizontal bar graph\n",
        "* add labels to the axes (eg. 'Net Migration','Income level')  \n",
        "* show the plot  \n",
        "\n",
        "Try using plt.bar(x,y) - can you see why horizontally is more appropriate?"
      ]
    },
    {
      "cell_type": "code",
      "metadata": {
        "id": "WW0np_MNmwou",
        "colab": {
          "base_uri": "https://localhost:8080/",
          "height": 767
        },
        "outputId": "1295fa8e-52f8-471b-da69-c754cab4e2a2"
      },
      "source": [
        "print(\"\\nAnalyse Data: \\nExercise 3 - creating a bar graph using grouped data: \")\n",
        "# Analyse Data\n",
        "def analyse_data():\n",
        "  # 1. Create a data variable which contains the means, grouped by 'target_country_wb_income'\n",
        "  means = data.groupby(\"target_country_wb_income\")[\"net_per_10K_2019\"].mean()\n",
        "  print(\"\\n1. Create a data variable which contains the means, grouped by 'target_country_wb_income': \\n\", means)\n",
        "\n",
        "  # 2. Extract your labels (x) using the .keys() function\n",
        "  labels = means.keys()\n",
        "  print(\"\\n2. Extract your labels (x) using the .keys() function: \\n\", labels)\n",
        "\n",
        "  # 3. Plot the bar chart\n",
        "  print(\"\\n3. Plot the bar chart: \\n\")\n",
        "  plt.barh(labels, means.values)\n",
        "  plt.xlabel(\"Net Migration\")\n",
        "  plt.ylabel(\"Income Level\")\n",
        "  plt.title(\"Net Migration by Income Level\")\n",
        "  plt.show()\n",
        "\n",
        "analyse_data()"
      ],
      "execution_count": 155,
      "outputs": [
        {
          "output_type": "stream",
          "name": "stdout",
          "text": [
            "\n",
            "Analyse Data: \n",
            "Exercise 3 - creating a bar graph using grouped data: \n",
            "\n",
            "1. Create a data variable which contains the means, grouped by 'target_country_wb_income': \n",
            " target_country_wb_income\n",
            "High Income           -0.467458\n",
            "Low Income             0.072162\n",
            "Lower Middle Income    0.940092\n",
            "Upper Middle Income    0.455128\n",
            "Name: net_per_10K_2019, dtype: float64\n",
            "\n",
            "2. Extract your labels (x) using the .keys() function: \n",
            " Index(['High Income', 'Low Income', 'Lower Middle Income', 'Upper Middle Income'], dtype='object', name='target_country_wb_income')\n",
            "\n",
            "3. Plot the bar chart: \n",
            "\n"
          ]
        },
        {
          "output_type": "display_data",
          "data": {
            "text/plain": [
              "<Figure size 640x480 with 1 Axes>"
            ],
            "image/png": "[encoded data removed]"
          },
          "metadata": {}
        }
      ]
    },
    {
      "cell_type": "markdown",
      "metadata": {
        "id": "49JShRy_vWib"
      },
      "source": [
        "# Pie Charts, Box Plots, Scatter Plots and Histograms\n",
        "---\n",
        "\n",
        "For these exercises you will use the Psychology dataset: \"https://github.com/lilaceri/Working-with-data-/blob/b157a2feceb7709cf82426932385706d65446270/Data%20Sets%20for%20code%20divisio/Positive_Psychology_2017.csv?raw=true\"\n",
        "\n",
        "To get the data ready:\n",
        "\n",
        "* read csv file above and save into a new variable called `psych_data`"
      ]
    },
    {
      "cell_type": "markdown",
      "metadata": {
        "id": "EMq3ymhwlcYR"
      },
      "source": [
        "### Exercise 4 - Creating a pie chart of stress data\n",
        "---\n",
        "Create a pie chart which shows how stressed students who speak different languages are.   \n",
        "\n",
        "To do this:\n",
        "\n",
        "* similar to Exercise 2 - create a variable which groups the means of data by firstlanguage  \n",
        "* store the means for 'Stress' in a variable called data\n",
        "* extract your labels using the keys() function\n",
        "* plot your pie chart using plt.pie(data, labels = labels)\n",
        "* write a comment noting anything interesting about the visualisation\n",
        "\n",
        "\n"
      ]
    },
    {
      "cell_type": "code",
      "metadata": {
        "id": "4mbOBPE-nU7o"
      },
      "source": [],
      "execution_count": null,
      "outputs": []
    },
    {
      "cell_type": "markdown",
      "metadata": {
        "id": "dLNPuH5zuq7Y"
      },
      "source": [
        "### Exercise 5 - Creating a box plot of Wellbeing\n",
        "---\n",
        "A box plot is used to visualise summary infomation about a data series such as the min, max and median.\n",
        "\n",
        "Create a box plot of the Wellbeing scores\n",
        "\n",
        "*  split off the wellbeing column  \n",
        "*  use plt.boxplot(data, labels=[\"Wellbeing\"]) to create the boxplot\n",
        "*  show the boxplot"
      ]
    },
    {
      "cell_type": "code",
      "metadata": {
        "id": "i7fctsOQlcGR"
      },
      "source": [],
      "execution_count": null,
      "outputs": []
    },
    {
      "cell_type": "markdown",
      "metadata": {
        "id": "ecS9uzAs3AuV"
      },
      "source": [
        "### Exercise 6 - Histograms of  age\n",
        "---\n",
        "\n",
        "Create a histogram which shows the frequency distribution for '`Wellbeing`'.\n",
        "\n",
        "* split the `Wellbeing` column off to provide the data\n",
        "* plot the histogram using `plt.hist(data)`\n",
        "* add labels using `plt.xlabel()` and `plt.ylabel()`\n",
        "* change the colours of the bars - try plt.hist(x, color = 'red')\n",
        "* show the plot\n"
      ]
    },
    {
      "cell_type": "code",
      "metadata": {
        "id": "Iuo3TJOG3ASF"
      },
      "source": [],
      "execution_count": null,
      "outputs": []
    },
    {
      "cell_type": "markdown",
      "metadata": {
        "id": "7ijbVqHZ1YhP"
      },
      "source": [
        "### Exercise 7 - Create a scatterplot of Wellbeing and Stress with line of best fit\n",
        "---\n",
        "\n",
        "Assuming that Stress is fairly closely associated with Wellbeing:\n",
        "\n",
        "Create a scatterplot of Wellbeing and Stress data.\n",
        "\n",
        "* create **x** from the `Stress` column\n",
        "* create *y* from the `Wellbeing` column\n",
        "* use `plt.scatter(x,y)` to create a scatterplot\n",
        "* add x axis and y axis labels using `plt.xlabel('Stress')` and `plt.ylabel('Wellbeing')`\n",
        "*  \n",
        "\n",
        "Adding a line of best fit:   \n",
        "* the code cell below already has the linregress function imported from the scipy.stats library\n",
        "* create a regression variable and assign the result of using linregress (`regression = linregress(x,y)` )\n",
        "* store the slope and intercept (`slope = regression.slope`, `intercept = regression.intercept`)\n",
        "* plot a line using `plt.plot(x, slope*x + intercept)`\n",
        "\n",
        "Show the plots.\n",
        "\n",
        "Write a short data story ( a description of the data.  What conclusion could be reached from the chart?  How confident could you be in this conclusion and why?\n",
        "\n",
        "\n"
      ]
    },
    {
      "cell_type": "code",
      "source": [
        "from scipy.stats import linregress"
      ],
      "metadata": {
        "id": "CR0KIjt4WXLF"
      },
      "execution_count": null,
      "outputs": []
    },
    {
      "cell_type": "markdown",
      "source": [
        "### Exercise 8 - Create a set of charts from a data set\n",
        "---\n",
        "Use the student exam scores dataset here: https://raw.githubusercontent.com/lilaceri/Working-with-data-/main/Data%20Sets%20for%20code%20divisio/student_scores.csv\n",
        "\n",
        "Investigate the data and create a set of charts.  \n",
        "\n",
        "Create each chart in a new code cell.\n",
        "\n",
        "Add a text cell below each visualisation to explain what the chart is showing.\n"
      ],
      "metadata": {
        "id": "ZMecHxIPT4Jh"
      }
    },
    {
      "cell_type": "code",
      "source": [],
      "metadata": {
        "id": "jNXPk52pWNT5"
      },
      "execution_count": null,
      "outputs": []
    },
    {
      "cell_type": "markdown",
      "metadata": {
        "id": "FWli4XMmsAPo"
      },
      "source": [
        "# Further reference on w3schools\n",
        "\n",
        "[Matplotlib on w3schools](https://www.w3schools.com/python/matplotlib_intro.**asp**)"
      ]
    }
  ]
}