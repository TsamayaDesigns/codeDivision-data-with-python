{
  "nbformat": 4,
  "nbformat_minor": 0,
  "metadata": {
    "colab": {
      "provenance": [],
      "include_colab_link": true
    },
    "kernelspec": {
      "name": "python3",
      "display_name": "Python 3"
    }
  },
  "cells": [
    {
      "cell_type": "markdown",
      "metadata": {
        "id": "view-in-github",
        "colab_type": "text"
      },
      "source": [
        "<a href=\"https://colab.research.google.com/github/TsamayaDesigns/codeDivision-data-with-python/blob/main/How_happy_is_the_world.ipynb\" target=\"_parent\"><img src=\"https://colab.research.google.com/assets/colab-badge.svg\" alt=\"Open In Colab\"/></a>"
      ]
    },
    {
      "cell_type": "markdown",
      "metadata": {
        "id": "EfHTHqgybeJD"
      },
      "source": [
        "# How happy is the world?\n",
        "\n",
        "![HappinessImage-Benjamin Scott](https://drive.google.com/uc?id=1wWdXTclLAjPpZUiKkR8XGg0Sl7iD1u8T)  \n",
        "\n",
        "(Image by Benjamin Scott, [source](https://www.natureindex.com/news-blog/data-visualization-these-are-the-happiest-countries-world-happiness-report-twenty-nineteen))   \n",
        "\n",
        "The Sustainable Development Solutions Network (SDSN) collects data across the world relating to happiness.  They use this data to rank countries in order of happiness factor.\n",
        "\n",
        "This is not an exact science but can give food for thought in terms of what factors might have the most impact on a nation's happiness levels.\n",
        "\n",
        "Data is taken from the Gallup World Poll, so not collected directly by SDSN.  \n",
        "Countries are grouped by region.  \n",
        "\n",
        "### The factors included are:\n",
        "Economy (measured in GDP per Capita)\n",
        "Family (support systems)\n",
        "Health (measured by Life Expectancy)\n",
        "Freedom (sense of)\n",
        "Trust (Government Corruption)\n",
        "Generosity (charitable inclinations)\n",
        "Dystopia Residual\n",
        "*  Dystopic is the theoretical most unhappy country with the lowest levels in all six of the above factors  \n",
        "*  The Residual measure is a calculated as the average of the six distances from lowest\n",
        "\n",
        "Let's take a look at the data\n"
      ]
    },
    {
      "cell_type": "markdown",
      "metadata": {
        "id": "YT8CcbwXhH8B"
      },
      "source": [
        "---\n",
        "### Open a data set\n",
        "\n",
        "Open the data set, an Excel file with only one sheet (so sheet_name is not necessary) from here: https://github.com/futureCodersSE/working-with-data/blob/main/Happiness-Data/2015.xlsx?raw=true\n",
        "\n",
        "Interrogate the data (head, tail, iloc) to get to know what it contains.\n"
      ]
    },
    {
      "cell_type": "code",
      "metadata": {
        "id": "W1zTAPp6jZ8h",
        "colab": {
          "base_uri": "https://localhost:8080/"
        },
        "outputId": "1edd0475-ca65-4d09-f7a9-26f6f62a131c"
      },
      "source": [
        "import pandas as pd\n",
        "pd.set_option('display.width', 240)\n",
        "\n",
        "def get_excel_data():\n",
        "  url = \"https://github.com/futureCodersSE/working-with-data/blob/main/Happiness-Data/2015.xlsx?raw=true\"\n",
        "  df = pd.read_excel(url)\n",
        "  return df\n",
        "\n",
        "data = get_excel_data()\n",
        "\n",
        "# Interrogate data\n",
        "info = data.iloc[:]\n",
        "shape = data.shape\n",
        "columns = data.columns\n",
        "\n",
        "print(f\"\\nInfo (iloc): \\n{info}\\n\\nShape: \\n{shape}\\n\\nColumns: \\n{columns}\\n\")\n"
      ],
      "execution_count": 17,
      "outputs": [
        {
          "output_type": "stream",
          "name": "stdout",
          "text": [
            "\n",
            "Info (iloc): \n",
            "         Country                           Region  Happiness Rank  Happiness Score  Standard Error  Economy (GDP per Capita)   Family  Health (Life Expectancy)  Freedom  Trust (Government Corruption)  Generosity  Dystopia Residual\n",
            "0    Switzerland                   Western Europe               1            7.587         0.03411                   1.39651  1.34951                   0.94143  0.66557                        0.41978     0.29678            2.51738\n",
            "1        Iceland                   Western Europe               2            7.561         0.04884                   1.30232  1.40223                   0.94784  0.62877                        0.14145     0.43630            2.70201\n",
            "2        Denmark                   Western Europe               3            7.527         0.03328                   1.32548  1.36058                   0.87464  0.64938                        0.48357     0.34139            2.49204\n",
            "3         Norway                   Western Europe               4            7.522         0.03880                   1.45900  1.33095                   0.88521  0.66973                        0.36503     0.34699            2.46531\n",
            "4         Canada                    North America               5            7.427         0.03553                   1.32629  1.32261                   0.90563  0.63297                        0.32957     0.45811            2.45176\n",
            "..           ...                              ...             ...              ...             ...                       ...      ...                       ...      ...                            ...         ...                ...\n",
            "153       Rwanda               Sub-Saharan Africa             154            3.465         0.03464                   0.22208  0.77370                   0.42864  0.59201                        0.55191     0.22628            0.67042\n",
            "154        Benin               Sub-Saharan Africa             155            3.340         0.03656                   0.28665  0.35386                   0.31910  0.48450                        0.08010     0.18260            1.63328\n",
            "155        Syria  Middle East and Northern Africa             156            3.006         0.05015                   0.66320  0.47489                   0.72193  0.15684                        0.18906     0.47179            0.32858\n",
            "156      Burundi               Sub-Saharan Africa             157            2.905         0.08658                   0.01530  0.41587                   0.22396  0.11850                        0.10062     0.19727            1.83302\n",
            "157         Togo               Sub-Saharan Africa             158            2.839         0.06727                   0.20868  0.13995                   0.28443  0.36453                        0.10731     0.16681            1.56726\n",
            "\n",
            "[158 rows x 12 columns]\n",
            "\n",
            "Shape: \n",
            "(158, 12)\n",
            "\n",
            "Columns: \n",
            "Index(['Country', 'Region', 'Happiness Rank', 'Happiness Score', 'Standard Error', 'Economy (GDP per Capita)', 'Family', 'Health (Life Expectancy)', 'Freedom', 'Trust (Government Corruption)', 'Generosity', 'Dystopia Residual'], dtype='object')\n",
            "\n"
          ]
        }
      ]
    },
    {
      "cell_type": "markdown",
      "metadata": {
        "id": "edKDv8BEssvV"
      },
      "source": [
        "---\n",
        "### Sort the data in different ways\n",
        "\n",
        "The data is currently sorted in order of rank.  To sort the data in the table, run the code below, which identifies the column on which to sort in the brackets.\n",
        "\n",
        "Then, **try sorting on other columns** *Note: you must type the column heading in the quotes and exactly as it appears in the table (including capitalisation)*.  To sort on multiple columns, enter a list of column headings in the brackets (e.g. `.sort_values(['Region','Freedom'])`\n",
        "\n"
      ]
    },
    {
      "cell_type": "code",
      "metadata": {
        "id": "15Z98xp9teAs"
      },
      "source": [
        "sorted_table = happiness.sort_values(['Family'])\n",
        "sorted_table  # output the table below"
      ],
      "execution_count": null,
      "outputs": []
    },
    {
      "cell_type": "markdown",
      "metadata": {
        "id": "jb19pDCGumzc"
      },
      "source": [
        "---\n",
        "### Summarising the data\n",
        "\n",
        "Look at the happiness dataframe.  Create new dataframes from a range of rows, columns, statistical information, etc.\n",
        "\n",
        "For each dataframe, add a text cell to explain what it is showing"
      ]
    },
    {
      "cell_type": "code",
      "metadata": {
        "id": "vTZZn7qZu1vC"
      },
      "source": [],
      "execution_count": null,
      "outputs": []
    },
    {
      "cell_type": "markdown",
      "metadata": {
        "id": "vmqpqnmi6J8S"
      },
      "source": [
        "---\n",
        "### Next steps\n",
        "\n",
        "There are data sets for the years 2015 to 2019 available.  To access and try out other years, change 2015 to the required year in the URL in the first code cell.  Leave the rest exactly as it is.  \n",
        "\n",
        "Other years may have different column headings and so there will be different data to play with."
      ]
    }
  ]
}