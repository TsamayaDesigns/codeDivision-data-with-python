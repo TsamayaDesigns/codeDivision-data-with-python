{
  "nbformat": 4,
  "nbformat_minor": 0,
  "metadata": {
    "colab": {
      "provenance": [],
      "include_colab_link": true
    },
    "kernelspec": {
      "name": "python3",
      "display_name": "Python 3"
    },
    "language_info": {
      "name": "python"
    }
  },
  "cells": [
    {
      "cell_type": "markdown",
      "metadata": {
        "id": "view-in-github",
        "colab_type": "text"
      },
      "source": [
        "<a href=\"https://colab.research.google.com/github/TsamayaDesigns/codeDivision-data-with-python/blob/main/Data_cleaning_with_normalisation_challenges.ipynb\" target=\"_parent\"><img src=\"https://colab.research.google.com/assets/colab-badge.svg\" alt=\"Open In Colab\"/></a>"
      ]
    },
    {
      "cell_type": "markdown",
      "metadata": {
        "id": "qKkgkBgnagnq"
      },
      "source": [
        "#  Normalisation challenges"
      ]
    },
    {
      "cell_type": "markdown",
      "metadata": {
        "id": "gHU4-ADHU4eq"
      },
      "source": [
        "### Challenge 1 - prepare dataset for normalisation\n",
        "---\n",
        "1. Read Covid vaccination data from the `by_country` sheet in the Excel file at this link : https://github.com/lilaceri/Working-with-data-/blob/342abab10d93c4bf23b5c55a50f189f12a137c5f/Data%20Sets%20for%20code%20divisio/Covid%20Vaccination%20Data.xlsx?raw=true\n",
        "2. Use .info() to find out which columns have missing values\n",
        "3. Remove all rows with missing data in the total_vaccinations column\n",
        "4. Find the median total vaccinations per hundred\n",
        "5. display the mean people vaccinated per hundred for each country in descending order\n",
        "6. find the range of total_vaccinations across the dataframe\n",
        "\n",
        "\n",
        "**Test output**:  \n",
        "1. dataframe is saved in a variable\n",
        "2.\n",
        "```\n",
        "RangeIndex: 14994 entries, 0 to 14993\n",
        "Data columns (total 15 columns):\n",
        "    Column                               Non-Null Count  Dtype         \n",
        "                                \n",
        " 0   country                              14994 non-null  object        \n",
        " 1   iso_code                             14994 non-null  object        \n",
        " 2   date                                 14994 non-null  datetime64[ns]\n",
        " 3   total_vaccinations                   9011 non-null   float64       \n",
        " 4   people_vaccinated                    8370 non-null   float64       \n",
        " 5   people_fully_vaccinated              6158 non-null   float64       \n",
        " 6   daily_vaccinations_raw               7575 non-null   float64       \n",
        " 7   daily_vaccinations                   14796 non-null  float64       \n",
        " 8   total_vaccinations_per_hundred       9011 non-null   float64       \n",
        " 9   people_vaccinated_per_hundred        8370 non-null   float64       \n",
        " 10  people_fully_vaccinated_per_hundred  6158 non-null   float64       \n",
        " 11  daily_vaccinations_per_million       14796 non-null  float64       \n",
        " 12  vaccines                             14994 non-null  object        \n",
        " 13  source_name                          14994 non-null  object        \n",
        " 14  source_website                       14994 non-null  object        \n",
        "dtypes: datetime64[ns](1), float64(9), object(5)\n",
        "memory usage: 1.7+ MB\n",
        "```\n",
        "3. 9011 rows × 15 columns\n",
        "4. 6.3\n",
        "5.\n",
        "```\n",
        "country\n",
        "Gibraltar                           64.975699\n",
        "Bhutan                              55.961892\n",
        "Falkland Islands                    51.063333\n",
        "Saint Helena                        44.880000\n",
        "Seychelles                          44.005686\n",
        "                                      ...    \n",
        "China                                     NaN\n",
        "Ethiopia                                  NaN\n",
        "Saint Vincent and the Grenadines          NaN\n",
        "Samoa                                     NaN\n",
        "Saudi Arabia                              NaN\n",
        "Name: people_vaccinated_per_hundred, Length: 195, dtype: float64\n",
        "```\n",
        "6. 275338000.0\n"
      ]
    },
    {
      "cell_type": "code",
      "metadata": {
        "id": "Hb36AOCAbJIR"
      },
      "source": [
        "# Retrieve Data\n",
        "import pandas as pd\n",
        "pd.set_option('display.width', 240)\n",
        "\n",
        "def get_excel_data():\n",
        "  url = \"https://github.com/lilaceri/Working-with-data-/blob/342abab10d93c4bf23b5c55a50f189f12a137c5f/Data%20Sets%20for%20code%20divisio/Covid%20Vaccination%20Data.xlsx?raw=true\"\n",
        "  df = pd.read_excel(url, sheet_name = \"by_country\")\n",
        "  return df\n",
        "\n",
        "# 1. Save dataframe to a variable (\"data\")\n",
        "data = get_excel_data()"
      ],
      "execution_count": 2,
      "outputs": []
    },
    {
      "cell_type": "code",
      "source": [
        "# Inspect Data\n",
        "def inspect_data():\n",
        "  print(\"\\nChallenge 1 - Prepare dataset for normalisation\\n\")\n",
        "  print(\"2. Use .info() to find columns with missing values\\n\")\n",
        "  data.info()\n",
        "\n",
        "  # *** EXTRA *** Below is extra steps to inspect the dataframe *** EXTRA ***\n",
        "  # 2.2 Use .isna().any() to find out which columns have missing values\n",
        "  # print(\"\\n*** EXTRA *** Columns with missing values: \\n\", data.isna().any())\n",
        "\n",
        "  # 2.3 Use .isna().sum() to find out number of missing values by column\n",
        "  # print(\"\\n*** EXTRA *** Missing values per column: \\n\", data.isna().sum())\n",
        "\n",
        "inspect_data()"
      ],
      "metadata": {
        "colab": {
          "base_uri": "https://localhost:8080/"
        },
        "id": "VOCzgZaE8ToO",
        "outputId": "64b1f645-d274-4dc6-8ab1-ad358dfb2738"
      },
      "execution_count": 3,
      "outputs": [
        {
          "output_type": "stream",
          "name": "stdout",
          "text": [
            "\n",
            "Challenge 1 - Prepare dataset for normalisation\n",
            "\n",
            "2. Use .info() to find columns with missing values\n",
            "\n",
            "<class 'pandas.core.frame.DataFrame'>\n",
            "RangeIndex: 14994 entries, 0 to 14993\n",
            "Data columns (total 15 columns):\n",
            " #   Column                               Non-Null Count  Dtype         \n",
            "---  ------                               --------------  -----         \n",
            " 0   country                              14994 non-null  object        \n",
            " 1   iso_code                             14994 non-null  object        \n",
            " 2   date                                 14994 non-null  datetime64[ns]\n",
            " 3   total_vaccinations                   9011 non-null   float64       \n",
            " 4   people_vaccinated                    8370 non-null   float64       \n",
            " 5   people_fully_vaccinated              6158 non-null   float64       \n",
            " 6   daily_vaccinations_raw               7575 non-null   float64       \n",
            " 7   daily_vaccinations                   14796 non-null  float64       \n",
            " 8   total_vaccinations_per_hundred       9011 non-null   float64       \n",
            " 9   people_vaccinated_per_hundred        8370 non-null   float64       \n",
            " 10  people_fully_vaccinated_per_hundred  6158 non-null   float64       \n",
            " 11  daily_vaccinations_per_million       14796 non-null  float64       \n",
            " 12  vaccines                             14994 non-null  object        \n",
            " 13  source_name                          14994 non-null  object        \n",
            " 14  source_website                       14994 non-null  object        \n",
            "dtypes: datetime64[ns](1), float64(9), object(5)\n",
            "memory usage: 1.7+ MB\n"
          ]
        }
      ]
    },
    {
      "cell_type": "code",
      "source": [
        "# Clean Data\n",
        "def clean_data():\n",
        "  # 3. Remove all rows with missing data in the \"total_vaccinations\" column\n",
        "  df_tot_vac_dropna = data.dropna(subset=\"total_vaccinations\")\n",
        "\n",
        "  print(\"\\n3. Remove all rows with missing data in the \\\"total_vaccinations\\\" column\\n\")\n",
        "  df_tot_vac_dropna.info()\n",
        "\n",
        "  # *** EXTRA *** Below is extra steps to inspect the dataframe *** EXTRA ***\n",
        "  # print(\"\\nColumns with missing values (note \\\"total_vaccinations\\\"): \")\n",
        "  # print(df_tot_vac_dropna.isna().any())\n",
        "\n",
        "  return df_tot_vac_dropna\n",
        "\n",
        "clean_data = clean_data()"
      ],
      "metadata": {
        "colab": {
          "base_uri": "https://localhost:8080/"
        },
        "id": "pFDQDoo48Z4O",
        "outputId": "2d2669de-aa85-4651-deb5-5d4cd3a473bf"
      },
      "execution_count": 4,
      "outputs": [
        {
          "output_type": "stream",
          "name": "stdout",
          "text": [
            "\n",
            "3. Remove all rows with missing data in the \"total_vaccinations\" column\n",
            "\n",
            "<class 'pandas.core.frame.DataFrame'>\n",
            "Int64Index: 9011 entries, 0 to 14993\n",
            "Data columns (total 15 columns):\n",
            " #   Column                               Non-Null Count  Dtype         \n",
            "---  ------                               --------------  -----         \n",
            " 0   country                              9011 non-null   object        \n",
            " 1   iso_code                             9011 non-null   object        \n",
            " 2   date                                 9011 non-null   datetime64[ns]\n",
            " 3   total_vaccinations                   9011 non-null   float64       \n",
            " 4   people_vaccinated                    8294 non-null   float64       \n",
            " 5   people_fully_vaccinated              6157 non-null   float64       \n",
            " 6   daily_vaccinations_raw               7575 non-null   float64       \n",
            " 7   daily_vaccinations                   8816 non-null   float64       \n",
            " 8   total_vaccinations_per_hundred       9011 non-null   float64       \n",
            " 9   people_vaccinated_per_hundred        8294 non-null   float64       \n",
            " 10  people_fully_vaccinated_per_hundred  6157 non-null   float64       \n",
            " 11  daily_vaccinations_per_million       8816 non-null   float64       \n",
            " 12  vaccines                             9011 non-null   object        \n",
            " 13  source_name                          9011 non-null   object        \n",
            " 14  source_website                       9011 non-null   object        \n",
            "dtypes: datetime64[ns](1), float64(9), object(5)\n",
            "memory usage: 1.1+ MB\n"
          ]
        }
      ]
    },
    {
      "cell_type": "code",
      "source": [
        "# Analyse Data\n",
        "def analyse_data(clean_data):\n",
        "  # 4. Find the median total vaccinations per hundred\n",
        "  med_vac_per_100 = clean_data[\"total_vaccinations_per_hundred\"].median()\n",
        "  print(\"\\n4. Find the median total vaccinations per hundred: \\n\", med_vac_per_100)\n",
        "\n",
        "  # 5. Display the mean people vaccinated per hundred for each country in descending order\n",
        "  mean_people_vac_per_100 = clean_data.groupby(\"country\")[\"people_vaccinated_per_hundred\"].mean().sort_values(ascending = False)\n",
        "  print(\"\\n5. Display the mean people vaccinated per hundred for each country in descending order: \\n\", mean_people_vac_per_100)\n",
        "\n",
        "  # 6. Find the range of total_vaccinations across the dataframe\n",
        "  range_tot_vacs = clean_data[\"total_vaccinations\"].max() - clean_data[\"total_vaccinations\"].min()\n",
        "  print(\"\\n6. Find the range of total_vaccinations across the dataframe: \\n\", range_tot_vacs)\n",
        "\n",
        "analyse_data(clean_data)"
      ],
      "metadata": {
        "colab": {
          "base_uri": "https://localhost:8080/"
        },
        "id": "-dI4RbC58di7",
        "outputId": "fdc72da9-4df8-4df9-b65c-4ed4b9cfddb0"
      },
      "execution_count": 5,
      "outputs": [
        {
          "output_type": "stream",
          "name": "stdout",
          "text": [
            "\n",
            "4. Find the median total vaccinations per hundred: \n",
            " 6.3\n",
            "\n",
            "5. Display the mean people vaccinated per hundred for each country in descending order: \n",
            " country\n",
            "Gibraltar                           64.975699\n",
            "Bhutan                              55.961892\n",
            "Falkland Islands                    51.063333\n",
            "Saint Helena                        44.880000\n",
            "Seychelles                          44.005686\n",
            "                                      ...    \n",
            "China                                     NaN\n",
            "Ethiopia                                  NaN\n",
            "Saint Vincent and the Grenadines          NaN\n",
            "Samoa                                     NaN\n",
            "Saudi Arabia                              NaN\n",
            "Name: people_vaccinated_per_hundred, Length: 195, dtype: float64\n",
            "\n",
            "6. Find the range of total_vaccinations across the dataframe: \n",
            " 275338000.0\n"
          ]
        }
      ]
    },
    {
      "cell_type": "markdown",
      "metadata": {
        "id": "G8yHJH706Cd9"
      },
      "source": [
        "### Challenge 2 - normalise daily vaccinations\n",
        "---\n",
        "\n",
        "1. Find the median daily vaccinations per million\n",
        "2. Write a function to normalise daily vaccinations per million, where values greater than or equal to median = 1 and values less than median = 0\n",
        "\n",
        "**Test output**:\n",
        "\n",
        "1. 1475.0\n",
        "2. using describe()\n",
        "```\n",
        "count    14994.000000\n",
        "mean         0.493464\n",
        "std          0.499974\n",
        "min          0.000000\n",
        "25%          0.000000\n",
        "50%          0.000000\n",
        "75%          1.000000\n",
        "max          1.000000\n",
        "Name: daily_vaccinations_per_million, dtype: float64\n",
        "```"
      ]
    },
    {
      "cell_type": "code",
      "metadata": {
        "id": "nwmvVLa0aYli",
        "colab": {
          "base_uri": "https://localhost:8080/"
        },
        "outputId": "f41a0528-69a9-4a6c-fe54-28f6bd65b3f4"
      },
      "source": [
        "# 1. Find the median daily vaccinations per million\n",
        "med_dly_vacs_per_mil = data[\"daily_vaccinations_per_million\"].median()\n",
        "print(\"\\n1. Find the median daily vaccinations per million: \\n\", med_dly_vacs_per_mil)\n"
      ],
      "execution_count": 20,
      "outputs": [
        {
          "output_type": "stream",
          "name": "stdout",
          "text": [
            "\n",
            "1. Find the median daily vaccinations per million: \n",
            " 1475.0\n"
          ]
        }
      ]
    },
    {
      "cell_type": "markdown",
      "metadata": {
        "id": "KznNiO1ooEcw"
      },
      "source": [
        "### Challenge 3 - Normalising total vaccinations   \n",
        "---\n",
        "The United Kingdom has been praised for its fast vaccine rollout.\n",
        "1. Find the minimum total vaccinations for the United Kingdom\n",
        "2. Save this value in a variable rounded down to an integer\n",
        "3. Write a function to normalise total_vaccinations column so that all values less than the UK's min are 0 and all values greater than or equal to the UK's min are coded as 1\n",
        "4. Display the countries for which total vaccinated is at the same rate or more than the UK\n",
        "\n",
        "**Test output**:\n",
        "\n",
        "1. 1402432.0\n",
        "2. 1402432\n",
        "3. `df['total_vaccinations']` should output:\n",
        "```\n",
        "0        0\n",
        "6        0\n",
        "22       0\n",
        "44       0\n",
        "59       0\n",
        "        ..\n",
        "14989    0\n",
        "14990    0\n",
        "14991    0\n",
        "14992    0\n",
        "14993    0\n",
        "Name: total_vaccinations, Length: 9011, dtype: int64\n",
        "```\n",
        "4.\n",
        "```\n",
        "array(['Argentina', 'Australia', 'Austria', 'Azerbaijan', 'Bangladesh',\n",
        "       'Belgium', 'Brazil', 'Cambodia', 'Canada', 'Chile', 'China',\n",
        "       'Colombia', 'Czechia', 'Denmark', 'Dominican Republic', 'England',\n",
        "       'Finland', 'France', 'Germany', 'Greece', 'Hong Kong', 'Hungary',\n",
        "       'India', 'Indonesia', 'Ireland', 'Israel', 'Italy', 'Japan',\n",
        "       'Kazakhstan', 'Malaysia', 'Mexico', 'Morocco', 'Nepal',\n",
        "       'Netherlands', 'Norway', 'Pakistan', 'Peru', 'Philippines',\n",
        "       'Poland', 'Portugal', 'Qatar', 'Romania', 'Russia', 'Saudi Arabia',\n",
        "       'Scotland', 'Serbia', 'Singapore', 'Slovakia', 'South Korea',\n",
        "       'Spain', 'Sweden', 'Switzerland', 'Thailand', 'Turkey',\n",
        "       'United Arab Emirates', 'United Kingdom', 'United States',\n",
        "       'Uruguay', 'Wales'], dtype=object)\n",
        "```\n",
        "\n",
        "\n"
      ]
    },
    {
      "cell_type": "code",
      "metadata": {
        "id": "D6-QmeusbTIx"
      },
      "source": [],
      "execution_count": 6,
      "outputs": []
    },
    {
      "cell_type": "markdown",
      "metadata": {
        "id": "9upnqmDO9Yko"
      },
      "source": [
        "### Challenge 4 - create new series of total vaccinations for each manufacturer\n",
        "---\n",
        "\n",
        "To create a new column in your dataframe:\n",
        "\n",
        "`df['new_column'] = ...`\n",
        "\n",
        "For example:\n",
        "\n",
        "* to duplicate an existing column\n",
        "  * `df['new_column'] = df['old_column']`\n",
        "* to add two columns together\n",
        "  * `df['new_column'] = df['column1'] + df['column2']`\n",
        "* to make a percentages column\n",
        "  * `df['new_column'] = (df['column1']/df['column1].sum()) * 100`\n",
        "\n",
        "  \n",
        "1. read data from 'by_manufacturer' sheet from Covid data\n",
        "2. find the sum of total vaccinations for each manufacturer\n",
        "3. create a new column that has the total vaccinations as a percentage of the overall sum of total vaccinations\n",
        "4. find the median percentage\n",
        "5. create a new column called 'normalised_percentages' which duplicates the percentages column\n",
        "6. normalise the normalised_percentages column so that any values greater than or equal to the median percentage = 1 and any lesser than = 0\n",
        "\n",
        "\n",
        "**Test output**:\n",
        "\n",
        "1.\n",
        "2.\n",
        "```\n",
        "vaccine\n",
        "Johnson&Johnson        264839828\n",
        "Moderna               5548036383\n",
        "Oxford/AstraZeneca     539433203\n",
        "Pfizer/BioNTech       8690461304\n",
        "Sinovac                604660293\n",
        "Name: total_vaccinations, dtype: int64\n",
        "```\n",
        "3.\n",
        "```\n",
        "\tlocation\tdate\tvaccine\ttotal_vaccinations\tpercentages\n",
        "0\tChile\t2020-12-24\tPfizer/BioNTech\t420\t0.000003\n",
        "1\tChile\t2020-12-25\tPfizer/BioNTech\t5198\t0.000033\n",
        "2\tChile\t2020-12-26\tPfizer/BioNTech\t8338\t0.000053\n",
        "3\tChile\t2020-12-27\tPfizer/BioNTech\t8649\t0.000055\n",
        "4\tChile\t2020-12-28\tPfizer/BioNTech\t8649\t0.000055\n",
        "...\t...\t...\t...\t...\t...\n",
        "3291\tUnited States\t2021-05-01\tModerna\t105947940\t0.677095\n",
        "3292\tUnited States\t2021-05-01\tPfizer/BioNTech\t129013657\t0.824504\n",
        "3293\tUnited States\t2021-05-02\tJohnson&Johnson\t8374395\t0.053519\n",
        "3294\tUnited States\t2021-05-02\tModerna\t106780082\t0.682413\n",
        "3295\tUnited States\t2021-05-02\tPfizer/BioNTech\t130252779\t0.832423\n",
        "3296 rows × 5 columns\n",
        "```\n",
        "4. 0.0011110194374896931\n",
        "5.\n",
        "6.\n",
        "```\n",
        "\tlocation\tdate\tvaccine\ttotal_vaccinations\tpercentages\tnormalise\tnormalised\n",
        "0\tChile\t2020-12-24\tPfizer/BioNTech\t420\t0.000003\t0.000003\t0\n",
        "1\tChile\t2020-12-25\tPfizer/BioNTech\t5198\t0.000033\t0.000033\t0\n",
        "2\tChile\t2020-12-26\tPfizer/BioNTech\t8338\t0.000053\t0.000053\t0\n",
        "3\tChile\t2020-12-27\tPfizer/BioNTech\t8649\t0.000055\t0.000055\t0\n",
        "4\tChile\t2020-12-28\tPfizer/BioNTech\t8649\t0.000055\t0.000055\t0\n",
        "...\t...\t...\t...\t...\t...\t...\t...\n",
        "3291\tUnited States\t2021-05-01\tModerna\t105947940\t0.677095\t0.677095\t1\n",
        "3292\tUnited States\t2021-05-01\tPfizer/BioNTech\t129013657\t0.824504\t0.824504\t1\n",
        "3293\tUnited States\t2021-05-02\tJohnson&Johnson\t8374395\t0.053519\t0.053519\t1\n",
        "3294\tUnited States\t2021-05-02\tModerna\t106780082\t0.682413\t0.682413\t1\n",
        "3295\tUnited States\t2021-05-02\tPfizer/BioNTech\t130252779\t0.832423\t0.832423\t1\n",
        "3296 rows × 7 columns\n",
        "```\n",
        "\n"
      ]
    },
    {
      "cell_type": "code",
      "metadata": {
        "id": "SOR5I5cIbTx5"
      },
      "source": [],
      "execution_count": 6,
      "outputs": []
    },
    {
      "cell_type": "markdown",
      "source": [
        "\n",
        "# Reflection\n",
        "---\n",
        "\n",
        "\n"
      ],
      "metadata": {
        "id": "1DXiB-sDsDtW"
      }
    },
    {
      "cell_type": "markdown",
      "source": [
        "## What skills have you demonstrated in completing this notebook?"
      ],
      "metadata": {
        "id": "Ql_W3m3qsZed"
      }
    },
    {
      "cell_type": "markdown",
      "source": [
        "Your answer:\n"
      ],
      "metadata": {
        "id": "MJ90gkVusIrl"
      }
    },
    {
      "cell_type": "markdown",
      "source": [
        "## What caused you the most difficulty?"
      ],
      "metadata": {
        "id": "SXYf-PnKsK33"
      }
    },
    {
      "cell_type": "markdown",
      "source": [
        "Your answer:"
      ],
      "metadata": {
        "id": "EfnBrQnzsNs-"
      }
    }
  ]
}