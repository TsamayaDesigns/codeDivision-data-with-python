{
  "nbformat": 4,
  "nbformat_minor": 0,
  "metadata": {
    "colab": {
      "provenance": [],
      "include_colab_link": true
    },
    "kernelspec": {
      "name": "python3",
      "display_name": "Python 3"
    },
    "language_info": {
      "name": "python"
    }
  },
  "cells": [
    {
      "cell_type": "markdown",
      "metadata": {
        "id": "view-in-github",
        "colab_type": "text"
      },
      "source": [
        "<a href=\"https://colab.research.google.com/github/TsamayaDesigns/codeDivision-data-with-python/blob/main/Describing_data.ipynb\" target=\"_parent\"><img src=\"https://colab.research.google.com/assets/colab-badge.svg\" alt=\"Open In Colab\"/></a>"
      ]
    },
    {
      "cell_type": "markdown",
      "metadata": {
        "id": "mM0KF3nvGREF"
      },
      "source": [
        "# Describing data with summary statistics\n",
        "---\n",
        "\n",
        "This worksheet is tied to the Pandas Getting Started Tutorials, picking out particular tutorials to link them into a theme here.\n",
        "\n",
        "We will focus on describing data.  This is the least risky in terms of bias and inaccurate conclusions as it should focus just on what data is presented to us.\n",
        "\n",
        "Each exercise will ask you to work through on tutorial on the Getting Started page, to try the code from the tutorial here and to try a second, similar action."
      ]
    },
    {
      "cell_type": "markdown",
      "metadata": {
        "id": "kTyelqrywYQl"
      },
      "source": [
        "---\n",
        "\n",
        "The practice data from the tutorials comes from a dataset on Titanic passengers.\n"
      ]
    },
    {
      "cell_type": "markdown",
      "metadata": {
        "id": "Cb3JAeCCOeN9"
      },
      "source": [
        "### Exercise 1 - open the Titanic dataset\n",
        "---\n",
        "\n",
        "The Titanic dataset is stored at this URL:\n",
        "https://raw.githubusercontent.com/pandas-dev/pandas/master/doc/data/titanic.csv\n",
        "\n",
        "Read the dataset into a pandas dataframe that you will call **titanic**.\n",
        "\n",
        "**Test output**:  \n",
        "The shape of the dataframe will be (891, 12)"
      ]
    },
    {
      "cell_type": "code",
      "metadata": {
        "id": "bEhmZCf7GPzn",
        "colab": {
          "base_uri": "https://localhost:8080/"
        },
        "outputId": "805a179c-c9cc-4bfa-dbd6-3b401e44e899"
      },
      "source": [
        "import pandas as pd\n",
        "\n",
        "# Import CSV-data from GitHub\n",
        "def get_csv_data():\n",
        "  url = \" https://raw.githubusercontent.com/pandas-dev/pandas/master/doc/data/titanic.csv\"\n",
        "  df = pd.read_csv(url)\n",
        "  return df\n",
        "\n",
        "data = get_csv_data()\n",
        "\n",
        "# Exercise 1\n",
        "print(data.shape)"
      ],
      "execution_count": 31,
      "outputs": [
        {
          "output_type": "stream",
          "name": "stdout",
          "text": [
            "(891, 12)\n"
          ]
        }
      ]
    },
    {
      "cell_type": "markdown",
      "metadata": {
        "id": "bNNZCv5DQWAU"
      },
      "source": [
        "### Exercise 2 - get summary information about the dataframe\n",
        "---\n",
        "\n",
        "Read through the tutorials:  \n",
        "[What kind of data does pandas handle?](https://pandas.pydata.org/docs/getting_started/intro_tutorials/01_table_oriented.html#)  \n",
        "[How do I read and write tabular data?](https://pandas.pydata.org/docs/getting_started/intro_tutorials/02_read_write.html)\n",
        "\n",
        "Use panda functions to display the following:\n",
        "1.  A technical summary of the data (info())\n",
        "2.  A description of the numerical data (describe())\n",
        "3.  Display the Series 'Age'\n",
        "\n",
        "**Test output**:   \n",
        "1.  The info should show that there are only 204 values in the Cabin series, out of 891 records.  \n",
        "2.  The description should show 7 columns and a mean age of 29.699118\n",
        "3.  The Age series should have values of type float64 and Length 891"
      ]
    },
    {
      "cell_type": "code",
      "metadata": {
        "id": "puw-h7O0RJlk",
        "colab": {
          "base_uri": "https://localhost:8080/"
        },
        "outputId": "7bccc03c-1d1d-4fa6-e314-6f583dd9a3e7"
      },
      "source": [
        "# Exercise 2\n",
        "# 1. info()\n",
        "tech_summary = data[\"Cabin\"].info()\n",
        "print(\"\\nTechnical Summary: \\n\", tech_summary)\n",
        "\n",
        "# 2. describe()\n",
        "data_descript = data.describe()\n",
        "print(\"\\nData Description: \\n\", data_descript)\n",
        "\n",
        "# 3. Display the Series 'Age'\n",
        "data_age = data[\"Age\"]\n",
        "print(\"\\nDisplay the Series 'Age': \\n\", data_age)"
      ],
      "execution_count": 32,
      "outputs": [
        {
          "output_type": "stream",
          "name": "stdout",
          "text": [
            "<class 'pandas.core.series.Series'>\n",
            "RangeIndex: 891 entries, 0 to 890\n",
            "Series name: Cabin\n",
            "Non-Null Count  Dtype \n",
            "--------------  ----- \n",
            "204 non-null    object\n",
            "dtypes: object(1)\n",
            "memory usage: 7.1+ KB\n",
            "\n",
            "Technical Summary: \n",
            " None\n",
            "\n",
            "Data Description: \n",
            "        PassengerId    Survived      Pclass         Age       SibSp  \\\n",
            "count   891.000000  891.000000  891.000000  714.000000  891.000000   \n",
            "mean    446.000000    0.383838    2.308642   29.699118    0.523008   \n",
            "std     257.353842    0.486592    0.836071   14.526497    1.102743   \n",
            "min       1.000000    0.000000    1.000000    0.420000    0.000000   \n",
            "25%     223.500000    0.000000    2.000000   20.125000    0.000000   \n",
            "50%     446.000000    0.000000    3.000000   28.000000    0.000000   \n",
            "75%     668.500000    1.000000    3.000000   38.000000    1.000000   \n",
            "max     891.000000    1.000000    3.000000   80.000000    8.000000   \n",
            "\n",
            "            Parch        Fare  \n",
            "count  891.000000  891.000000  \n",
            "mean     0.381594   32.204208  \n",
            "std      0.806057   49.693429  \n",
            "min      0.000000    0.000000  \n",
            "25%      0.000000    7.910400  \n",
            "50%      0.000000   14.454200  \n",
            "75%      0.000000   31.000000  \n",
            "max      6.000000  512.329200  \n",
            "\n",
            "Display the Series 'Age': \n",
            " 0      22.0\n",
            "1      38.0\n",
            "2      26.0\n",
            "3      35.0\n",
            "4      35.0\n",
            "       ... \n",
            "886    27.0\n",
            "887    19.0\n",
            "888     NaN\n",
            "889    26.0\n",
            "890    32.0\n",
            "Name: Age, Length: 891, dtype: float64\n"
          ]
        }
      ]
    },
    {
      "cell_type": "markdown",
      "metadata": {
        "id": "g3EzF12i0m1a"
      },
      "source": [
        "### Exercise 3 - aggregating statistics\n",
        "---\n",
        "\n",
        "Read through the tutorial:  \n",
        "[How to calculate summary statistics?](https://pandas.pydata.org/docs/getting_started/intro_tutorials/06_calculate_statistics.html#)  \n",
        "\n",
        "Use panda functions to display the following summary statistics from the titanic dataset:  \n",
        "\n",
        "1.  The average (mean) age of passengers  \n",
        "2.  The median age and fare  \n",
        "3.  The mean fare\n",
        "4.  The modal fare and gender\n",
        "\n",
        "**Test output**:   \n",
        "29.699118, Age 28.0000 Fare 14.4542, 32.2042079685746, Fare 8.05 Sex male\n"
      ]
    },
    {
      "cell_type": "code",
      "metadata": {
        "id": "D7jFHvO42UL5",
        "colab": {
          "base_uri": "https://localhost:8080/"
        },
        "outputId": "ad5e4073-a97c-4985-f878-ff4e77d8aba1"
      },
      "source": [
        "# Exercise 3\n",
        "# 1. The average (mean) age of passengers\n",
        "pass_mean_age = data[\"Age\"].mean()\n",
        "print(\"\\nDisplay (mean) age of passengers: \\n\", pass_mean_age)\n",
        "\n",
        "# 2. The median age and fare\n",
        "median_age_fare = data[[\"Age\", \"Fare\"]].median()\n",
        "print(\"\\nDisplay median age and fare: \\n\", median_age_fare)\n",
        "\n",
        "# 3. The mean fare\n",
        "mean_fare = data[\"Fare\"].mean()\n",
        "print(\"\\nDisplay (mean) age of passengers: \\n\", mean_fare)\n",
        "\n",
        "# 4. The modal \"mode()\" fare and gender\n",
        "modal_fare_gender = data[[\"Fare\", \"Sex\"]].mode()\n",
        "print(\"\\nDisplay modal fare and gender: \\n\", modal_fare_gender)\n"
      ],
      "execution_count": 33,
      "outputs": [
        {
          "output_type": "stream",
          "name": "stdout",
          "text": [
            "\n",
            "Display (mean) age of passengers: \n",
            " 29.69911764705882\n",
            "\n",
            "Display median age and fare: \n",
            " Age     28.0000\n",
            "Fare    14.4542\n",
            "dtype: float64\n",
            "\n",
            "Display (mean) age of passengers: \n",
            " 32.204207968574636\n",
            "\n",
            "Display modal fare and gender: \n",
            "    Fare   Sex\n",
            "0  8.05  male\n"
          ]
        }
      ]
    },
    {
      "cell_type": "markdown",
      "metadata": {
        "id": "moYrHf2s2UrP"
      },
      "source": [
        "### Exercise 4 - displaying other statistics\n",
        "---\n",
        "\n",
        "Take a look at the list of methods available for giving summary statistics [here](https://pandas.pydata.org/docs/user_guide/basics.html#basics-stats)\n",
        "\n",
        "Use panda functions, and your existing knowledge, to display the following summary statistics from the titanic dataset:\n",
        "\n",
        "1.  The total number of passengers on the titanic\n",
        "2.  The age of the youngest passenger\n",
        "3.  The most expensive ticket price\n",
        "4.  The range of ticket prices\n",
        "5.  The number of passenges with cabins\n",
        "6.  The code for the port where the highest number of passengers embarked\n",
        "7.  The most populous gender\n",
        "8.  The standard deviation for age and fare\n",
        "\n",
        "**Tests**:  \n",
        "891, 0.42, 512.3292, 512.3292, 204, S, male, Age 14.526497 Fare 49.693429"
      ]
    },
    {
      "cell_type": "code",
      "metadata": {
        "id": "AqDs2Xfw3upQ",
        "colab": {
          "base_uri": "https://localhost:8080/"
        },
        "outputId": "fcc28e30-0912-4ca6-8998-77740b93821b"
      },
      "source": [
        "def investigate_data(data):\n",
        "  # The total number of passengers on the titanic\n",
        "  tot_pass = data[\"PassengerId\"].count()\n",
        "\n",
        "  # The age of the youngest passenger\n",
        "  youngest_pass = data[\"Age\"].min()\n",
        "\n",
        "  # The most expensive ticket price\n",
        "  most_exp_ticket = data[\"Fare\"].max()\n",
        "\n",
        "  # The range of ticket prices\n",
        "  ticket_price_ranges = data[\"Fare\"].max() - data[\"Fare\"].min()\n",
        "\n",
        "  # The number of passengers with cabins\n",
        "  cabin_pass = data[\"Cabin\"].count()\n",
        "\n",
        "  # The code for the port where the highest number of passengers embarked\n",
        "  port_highest_embark = data[\"Embarked\"].mode()\n",
        "\n",
        "  # The most populous gender\n",
        "  most_populous_gender = data[\"Sex\"].mode()\n",
        "\n",
        "  # The standard deviation for age and fare\n",
        "  std_deviation_age_fare = data[[\"Age\", \"Fare\"]].std()\n",
        "\n",
        "\n",
        "  return {\n",
        "      \"The total number of passengers on the titanic: \": tot_pass,\n",
        "      \"The age of the youngest passenger: \": youngest_pass,\n",
        "      \"The most expensive ticket price: \": most_exp_ticket,\n",
        "      \"The range of ticket prices: \": ticket_price_ranges,\n",
        "      \"The number of passengers with cabins: \": cabin_pass,\n",
        "      \"The code for the port where the highest number of passengers embarked: \": port_highest_embark[0],\n",
        "      \"The most populous gender: \": most_populous_gender[0],\n",
        "      \"The standard deviation for age and fare: \": std_deviation_age_fare,\n",
        "  }\n",
        "\n",
        "statistics_4 = investigate_data(data)\n",
        "\n",
        "print(\"\\nExercise 4 - displaying other statistics\\n\")\n",
        "for key, value in statistics_4.items():\n",
        "  print(f\"{key}:\\n{value}\\n\")\n"
      ],
      "execution_count": 34,
      "outputs": [
        {
          "output_type": "stream",
          "name": "stdout",
          "text": [
            "\n",
            "Exercise 4 - displaying other statistics\n",
            "\n",
            "The total number of passengers on the titanic: :\n",
            "891\n",
            "\n",
            "The age of the youngest passenger: :\n",
            "0.42\n",
            "\n",
            "The most expensive ticket price: :\n",
            "512.3292\n",
            "\n",
            "The range of ticket prices: :\n",
            "512.3292\n",
            "\n",
            "The number of passengers with cabins: :\n",
            "204\n",
            "\n",
            "The code for the port where the highest number of passengers embarked: :\n",
            "S\n",
            "\n",
            "The most populous gender: :\n",
            "male\n",
            "\n",
            "The standard deviation for age and fare: :\n",
            "Age     14.526497\n",
            "Fare    49.693429\n",
            "dtype: float64\n",
            "\n"
          ]
        }
      ]
    },
    {
      "cell_type": "markdown",
      "metadata": {
        "id": "Q6s13LaY4_QC"
      },
      "source": [
        "### Exercise 5 - aggregating statistics grouped by category\n",
        "---\n",
        "\n",
        "Refer again to the tutorial  \n",
        "[How to calculate summary statistics?](https://pandas.pydata.org/docs/getting_started/intro_tutorials/06_calculate_statistics.html#)   \n",
        "looking particularly at the section on Aggregating statistics grouped by category.\n",
        "\n",
        "1.  What is the mean age for male versus female Titanic passengers?\n",
        "2.  What is the mean ticket fare price for each of the sex and cabin class combinations?\n",
        "3.  What is the mean ticket fare price for passengers who embarked at each port?\n",
        "4.  Which passenger class had the highest number of survivors (for now, just show the statistics - it may not be meaningful yet)?\n",
        "\n",
        "**Test output**:  \n",
        "1.  female 27.915709 male 30.726645\n",
        "2.  \n",
        "```\n",
        "female  1         106.125798\n",
        "            2          21.970121\n",
        "            3          16.118810\n",
        "male    1          67.226127\n",
        "            2          19.741782\n",
        "            3          12.661633\n",
        "```\n",
        "3.  \n",
        "```\n",
        "C    59.954144\n",
        "Q    13.276030\n",
        "S    27.079812\n",
        "```\n",
        "4.\n",
        "\n",
        "```\n",
        "Survived  Pclass\n",
        "\n",
        "0         1          80\n",
        "          2          97\n",
        "          3         372\n",
        "1         1         136\n",
        "          2          87\n",
        "          3         119\n",
        "```\n",
        "\n",
        "\n",
        "\n",
        "\n"
      ]
    },
    {
      "cell_type": "code",
      "metadata": {
        "id": "hH4-UZxH_omw",
        "colab": {
          "base_uri": "https://localhost:8080/"
        },
        "outputId": "88d1c282-c87e-42d8-9375-d5038b84ce9c"
      },
      "source": [
        "def investigate_data(data):\n",
        "  # 1. What is the mean age for male versus female Titanic passengers?\n",
        "  mean_age_by_gender = data[[\"Sex\", \"Age\"]].groupby(\"Sex\").mean()\n",
        "\n",
        "  # 2. What is the mean ticket fare price for each of the sex and cabin class combinations?\n",
        "  mean_fare_by_sex_cabin = data.groupby([\"Sex\", \"Pclass\"])[\"Fare\"].mean()\n",
        "\n",
        "  # 3. What is the mean ticket fare price for passengers who embarked at each port?\n",
        "  mean_fare_by_port = data.groupby([\"Embarked\"])[\"Fare\"].mean()\n",
        "\n",
        "  # 4. Which passenger class had the highest number of survivors (for now, just show the statistics - it may not be meaningful yet)?\n",
        "  survival_by_pclass = data.groupby([\"Survived\", \"Pclass\"])[\"Survived\"].count()\n",
        "\n",
        "  return {\n",
        "    \"1. What is the mean age for male versus female Titanic passengers?: \": mean_age_by_gender,\n",
        "    \"2. What is the mean ticket fare price for each of the sex and cabin class combinations?: \": mean_fare_by_sex_cabin,\n",
        "    \"3. What is the mean ticket fare price for passengers who embarked at each port?: \": mean_fare_by_port,\n",
        "    \"4. Which passenger class had the highest number of survivors?: \": survival_by_pclass,\n",
        "  }\n",
        "\n",
        "statistics_5 = investigate_data(data)\n",
        "\n",
        "print(\"\\nExercise 5 - aggregating statistics grouped by category\\n\")\n",
        "for key, value in statistics_5.items():\n",
        "  print(f\"{key}:\\n{value}\\n\")\n"
      ],
      "execution_count": 35,
      "outputs": [
        {
          "output_type": "stream",
          "name": "stdout",
          "text": [
            "\n",
            "Exercise 5 - aggregating statistics grouped by category\n",
            "\n",
            "1. What is the mean age for male versus female Titanic passengers?: :\n",
            "              Age\n",
            "Sex              \n",
            "female  27.915709\n",
            "male    30.726645\n",
            "\n",
            "2. What is the mean ticket fare price for each of the sex and cabin class combinations?: :\n",
            "Sex     Pclass\n",
            "female  1         106.125798\n",
            "        2          21.970121\n",
            "        3          16.118810\n",
            "male    1          67.226127\n",
            "        2          19.741782\n",
            "        3          12.661633\n",
            "Name: Fare, dtype: float64\n",
            "\n",
            "3. What is the mean ticket fare price for passengers who embarked at each port?: :\n",
            "Embarked\n",
            "C    59.954144\n",
            "Q    13.276030\n",
            "S    27.079812\n",
            "Name: Fare, dtype: float64\n",
            "\n",
            "4. Which passenger class had the highest number of survivors?: :\n",
            "Survived  Pclass\n",
            "0         1          80\n",
            "          2          97\n",
            "          3         372\n",
            "1         1         136\n",
            "          2          87\n",
            "          3         119\n",
            "Name: Survived, dtype: int64\n",
            "\n"
          ]
        }
      ]
    },
    {
      "cell_type": "markdown",
      "metadata": {
        "id": "uG42G7oPCaVT"
      },
      "source": [
        "### Exercise 6 - an aggregation of different statistics\n",
        "---\n",
        "\n",
        "Use the function titanic.agg() as shown in the tutorial  \n",
        "[How to calculate summary statistics?](https://pandas.pydata.org/docs/getting_started/intro_tutorials/06_calculate_statistics.html#)  \n",
        "\n",
        "1.  Display\n",
        "\n",
        "```\n",
        "     {\n",
        "         \"Age\": [\"min\", \"max\", \"median\", \"skew\"],\n",
        "         \"Fare\": [\"min\", \"max\", \"median\", \"mean\"]\n",
        "     }\n",
        "```\n",
        "2.  Display:  \n",
        "min, max and mean for Age  \n",
        "min, max and standard deviation for Fare  \n",
        "count for Cabin\n",
        "\n",
        "**Test output**:   \n",
        "1.\n",
        "```\n",
        "                  Age\t      Fare  \n",
        "max\t   80.000000\t512.329200  \n",
        "mean\t  NaN\t      32.204208  \n",
        "median\t28.000000\t14.454200  \n",
        "min\t   0.420000\t 0.000000  \n",
        "skew\t  0.389108\t NaN\n",
        "```\n",
        "\n",
        "2.   \n",
        "```\n",
        "\t        Age\t    Fare\t   Cabin\n",
        "count  NaN\t    NaN\t    204.0\n",
        "max\t80.000000  512.329200 NaN\n",
        "mean   29.699118  NaN        NaN\n",
        "min\t0.420000   0.000000   NaN\n",
        "std\tNaN        49.693429  NaN\n",
        "```\n",
        "\n",
        "\n"
      ]
    },
    {
      "cell_type": "code",
      "metadata": {
        "id": "2hqgzlZgZnzx",
        "colab": {
          "base_uri": "https://localhost:8080/"
        },
        "outputId": "4eafd590-1426-45d1-bf52-1a0ed1f859e0"
      },
      "source": [
        "# Exercise 6 - an aggregation of different statistics\n",
        "# 1.\n",
        "aggregation_1 = data.agg(\n",
        "    {\n",
        "      \"Age\": [\"max\", \"median\", \"min\", \"skew\"],\n",
        "      \"Fare\": [\"max\", \"mean\", \"median\", \"min\"]\n",
        "    }\n",
        ")\n",
        "\n",
        "# Define new index order\n",
        "new_index_1 = [\"max\", \"mean\", \"median\", \"min\",\"skew\"]\n",
        "\n",
        "# Reorder rows/index\n",
        "aggr_1_reindexed = aggregation_1.reindex(new_index_1)\n",
        "\n",
        "print(f\"\\nExercise 6.1:\\n {aggr_1_reindexed}\\n\")\n",
        "\n",
        "# 2.\n",
        "aggregation_2 = data.agg(\n",
        "    {\n",
        "      \"Age\": [\"min\", \"max\", \"mean\"],\n",
        "      \"Fare\": [\"min\",\"max\", \"std\"],\n",
        "      \"Cabin\": [\"count\"]\n",
        "    }\n",
        ")\n",
        "\n",
        "# Define new index order\n",
        "new_index_2 = [\"count\",\"max\",\"mean\",\"min\",\"std\"]\n",
        "\n",
        "# Reorder rows/index\n",
        "aggr_2_reindexed = aggregation_2.reindex(new_index_2)\n",
        "\n",
        "print(f\"\\nExercise 6.2:\\n {aggr_2_reindexed}\\n\")"
      ],
      "execution_count": 36,
      "outputs": [
        {
          "output_type": "stream",
          "name": "stdout",
          "text": [
            "\n",
            "Exercise 6.1:\n",
            "               Age        Fare\n",
            "max     80.000000  512.329200\n",
            "mean          NaN   32.204208\n",
            "median  28.000000   14.454200\n",
            "min      0.420000    0.000000\n",
            "skew     0.389108         NaN\n",
            "\n",
            "\n",
            "Exercise 6.2:\n",
            "              Age        Fare  Cabin\n",
            "count        NaN         NaN  204.0\n",
            "max    80.000000  512.329200    NaN\n",
            "mean   29.699118         NaN    NaN\n",
            "min     0.420000    0.000000    NaN\n",
            "std          NaN   49.693429    NaN\n",
            "\n"
          ]
        }
      ]
    },
    {
      "cell_type": "markdown",
      "metadata": {
        "id": "cucQCpY1SwUj"
      },
      "source": [
        "### Exercise 7 - count by category\n",
        "---\n",
        "\n",
        "Read the section Count number of records by category in the tutorial  \n",
        "[How to calculate summary statistics?](https://pandas.pydata.org/docs/getting_started/intro_tutorials/06_calculate_statistics.html#)\n",
        "\n",
        "1. Display the number of passengers of each gender who had a ticket\n",
        "2. Display the number of passengers who embarked at each port and had a ticket\n",
        "3. Calculate the percentage of PassengerIds who survived the sinking of the Titanic (*Hint:  try getting the PassengerIds with a count for survived or not.  Store this value in a new variable, which will contain a list/array.  The second item in this list will be the number who survived.  You can use this number and the count of PassengerIds to calculate the percentage*)\n",
        "\n",
        "**Test output**:  \n",
        "1.  female 314, male 577\n",
        "2.  C 168, Q 77, S 644\n",
        "3.  38.38383838383838\n",
        "\n"
      ]
    },
    {
      "cell_type": "code",
      "metadata": {
        "id": "NkZHxv_nTj-o",
        "colab": {
          "base_uri": "https://localhost:8080/"
        },
        "outputId": "2b8c9754-b35d-4449-83fa-f14172ca5413"
      },
      "source": [
        "import pandas as pd\n",
        "\n",
        "# Import CSV-data from GitHub\n",
        "def get_csv_data():\n",
        "  url = \" https://raw.githubusercontent.com/pandas-dev/pandas/master/doc/data/titanic.csv\"\n",
        "  df = pd.read_csv(url)\n",
        "  return df\n",
        "\n",
        "data = get_csv_data()\n",
        "\n",
        "def investigate_data(data):\n",
        "  # 1. Display the number of passengers of each gender who had a ticket:\n",
        "  ticket_by_gender = data.groupby([\"Sex\"])[\"Ticket\"].count()\n",
        "\n",
        "  # 2. Display the number of passengers who embarked at each port and had a ticket:\n",
        "  no_embarked = data.groupby([\"Embarked\"])[\"Ticket\"].count()\n",
        "\n",
        "  # 3. Calculate the percentage of PassengerIds who survived the sinking of the Titanic:\n",
        "  # Count Passengers\n",
        "  no_of_pass = data[\"PassengerId\"].count()\n",
        "\n",
        "  # Count Survived\n",
        "  survived = data[\"Survived\"].value_counts()\n",
        "\n",
        "  # Calculate Survival Percentage\n",
        "  survival_percentage = (survived[1] / no_of_pass) * 100\n",
        "\n",
        "  return {\n",
        "    \"1. Display the number of passengers of each gender who had a ticket: \": ticket_by_gender,\n",
        "    \"2. Display the number of passengers who embarked at each port and had a ticket: \": no_embarked,\n",
        "    \"3. Calculate the percentage of PassengerIds who survived the sinking of the Titanic: \": survival_percentage,\n",
        "  }\n",
        "\n",
        "statistics_7 = investigate_data(data)\n",
        "\n",
        "\n",
        "print(\"\\nExercise 7 - count by category\\n\")\n",
        "for key, value in statistics_7.items():\n",
        "  print(f\"{key}:\\n{value}\\n\")"
      ],
      "execution_count": 81,
      "outputs": [
        {
          "output_type": "stream",
          "name": "stdout",
          "text": [
            "\n",
            "Exercise 7 - count by category\n",
            "\n",
            "1. Display the number of passengers of each gender who had a ticket: :\n",
            "Sex\n",
            "female    314\n",
            "male      577\n",
            "Name: Ticket, dtype: int64\n",
            "\n",
            "2. Display the number of passengers who embarked at each port and had a ticket: :\n",
            "Embarked\n",
            "C    168\n",
            "Q     77\n",
            "S    644\n",
            "Name: Ticket, dtype: int64\n",
            "\n",
            "3. Calculate the percentage of PassengerIds who survived the sinking of the Titanic: :\n",
            "38.38383838383838\n",
            "\n"
          ]
        }
      ]
    },
    {
      "cell_type": "markdown",
      "metadata": {
        "id": "Y2aTzdTlLjlI"
      },
      "source": [
        "### Exercise 8 - summary happiness statistics\n",
        "---\n",
        "\n",
        "Open the data set here: https://github.com/futureCodersSE/working-with-data/blob/main/Happiness-Data/2019.xlsx?raw=true\n",
        "\n",
        "It contains data on people's perception of happiness levels in a number of countries across the world.\n",
        "\n",
        "1.  Display the number of records in the set  \n",
        "2.  Display the description of the numerical data  \n",
        "3.  Display the highest GDP and life expectancy  \n",
        "4.  Display the mean, max and min for Freedom,  mean, max, min and skew for Generosity and mean, max, min and std for GDP  \n",
        "\n",
        "**Test output**:  \n",
        "1.  156\n",
        "2.  Table showing count, mean, std, min, 25%, 50%, 75%, max for 8 columns\n",
        "3.  GDP 1.684, life expectancy 1.141  \n",
        "4.  \n",
        "\n",
        "\n",
        "```\n",
        "\t   Freedom to make life choices\tGenerosity\tGDP per capita\n",
        "max\t 0.631000\t                   0.566000\t  1.684000\n",
        "mean\t0.392571\t                   0.184846\t  0.905147\n",
        "min\t 0.000000\t                   0.000000  \t0.000000\n",
        "skew\tNaN\t                        0.745942\t  NaN\n",
        "std\t NaN\t                        NaN\t       0.398389\n",
        "```\n",
        "\n",
        "\n"
      ]
    },
    {
      "cell_type": "code",
      "metadata": {
        "id": "ISwIDuuAL6qo"
      },
      "source": [],
      "execution_count": null,
      "outputs": []
    },
    {
      "cell_type": "markdown",
      "metadata": {
        "id": "X3vlyA6zRdXs"
      },
      "source": [
        "### Exercise 9 - migration data\n",
        "---\n",
        "\n",
        "Open the dataset at this url: https://github.com/futureCodersSE/working-with-data/blob/main/Data%20sets/public_use-talent-migration.xlsx?raw=true  Open the sheet named *Country Migration*\n",
        "\n",
        "1.  Describe the dataset  \n",
        "2.  Show summary information\n",
        "3.  Display the mean net per 10K migration in each of the years 2015 to 2019\n",
        "4.  Display the mean, max and min migration for the year 2019 for each of the regions (*base_country_wb_region*)\n",
        "5.  Display the median net migration for the years 2015 and 2019 for the base countries by income level\n",
        "6.  Display the number of target countries in each income level\n",
        "7.  Display the mean net migration for all five years, for each income level\n",
        "\n",
        "**Test output**:  \n",
        "1  count, mean, std, min, 25%, 50%, 75%, max for 9 columns\n",
        "\n",
        "2  shows 16 columns with non-null count of 4148 in each column\n",
        "\n",
        "3  \n",
        "```\n",
        "net_per_10K_2015    0.461757\n",
        "net_per_10K_2016    0.150248\n",
        "net_per_10K_2017   -0.080272\n",
        "net_per_10K_2018   -0.040591\n",
        "net_per_10K_2019   -0.022743\n",
        "dtype: float64\n",
        "```\n",
        "\n",
        "4  \n",
        "```\n",
        "\tnet_per_10K_2019\n",
        "mean\tmax\tmin\n",
        "base_country_wb_region\n",
        "East Asia & Pacific\t0.198827\t21.57\t-9.88\n",
        "Europe & Central Asia\t0.208974\t87.71\t-21.34\n",
        "Latin America & Caribbean\t-0.904602\t21.15\t-31.75\n",
        "Middle East & North Africa\t-0.107655\t55.60\t-50.33\n",
        "North America\t0.239246\t23.20\t-0.29\n",
        "South Asia\t-0.514577\t13.72\t-24.89\n",
        "Sub-Saharan Africa\t-0.279729\t37.11\t-21.54\n",
        "```\n",
        "\n",
        "5  \n",
        "```\n",
        "\tnet_per_10K_2015\tnet_per_10K_2019\n",
        "base_country_wb_income\n",
        "High Income\t0.02\t0.04\n",
        "Low Income\t0.42\t-0.05\n",
        "Lower Middle Income\t-0.02\t-0.07\n",
        "Upper Middle Income\t-0.03\t-0.08\n",
        "```\n",
        "\n",
        "6  \n",
        "```\n",
        "base_country_wb_income\n",
        "High Income            2415\n",
        "Low Income              185\n",
        "Lower Middle Income     653\n",
        "Upper Middle Income     895\n",
        "Name: target_country_name, dtype: int64\n",
        "```\n",
        "\n",
        "7  \n",
        "```\n",
        "net_per_10K_2015\tnet_per_10K_2016\tnet_per_10K_2017\tnet_per_10K_2018\tnet_per_10K_2019\n",
        "base_country_wb_income\n",
        "High Income\t0.505482\t0.391379\t0.314178\t0.379201\t0.401470\n",
        "Low Income\t1.876432\t0.798270\t-0.684865\t-0.677784\t-0.681459\n",
        "Lower Middle Income\t0.591654\t-0.029893\t-0.519433\t-0.527136\t-0.476616\n",
        "Upper Middle Income\t-0.043419\t-0.502916\t-0.699240\t-0.686626\t-0.700101\n",
        "```\n",
        "\n",
        "\n",
        "\n",
        "\n"
      ]
    },
    {
      "cell_type": "code",
      "metadata": {
        "id": "yk8cfjUvIj5x"
      },
      "source": [],
      "execution_count": null,
      "outputs": []
    },
    {
      "cell_type": "markdown",
      "metadata": {
        "id": "UqBCMK6dIkS-"
      },
      "source": [
        "### Exercise 10 - calculating range over a grouped series\n",
        "\n",
        "Open the dataset at this url: https://github.com/futureCodersSE/working-with-data/blob/main/Data%20sets/public_use-talent-migration.xlsx?raw=true Open the sheet named *Skill Migration*\n",
        "\n",
        "1.  Display the max for each skill group category of net migration for the year 2017\n",
        "2.  Assign the max for each skill group category of net migration for the year 2017 to a variable called **max_skill_migration** and print `max_skill_migration`\n",
        "3.  Create a second variable called **min_skill_migration** and assign to it the min for each skill group category of net migration for the year 2017, print `min_skill_migration`\n",
        "\n",
        "4.  You now have two series `max_skill_migration` and `min_skill_migration` each of which is a numpy array.  You can perfom calculations on these two series in the same way as you would individual data items.\n",
        "\n",
        "So, you can calculate the range for each skill category by subtracting the `min_skill_migration` from `max_skill_migration` to get a new series **skill_migration_range**\n",
        "\n",
        "skill_migration_range = max_skill_migration - min_skill_migration\n",
        "\n",
        "Try it out.\n",
        "\n",
        "5.  Now calculate the range for the year 2019\n",
        "6.  Now calculate the range for countries grouped by base country income level for the year 2015\n",
        "\n",
        "Test output:  \n",
        "1 and 2  \n",
        "```\n",
        "skill_group_category\n",
        "Business Skills                1048.20\n",
        "Disruptive Tech Skills         1478.56\n",
        "Soft Skills                    1572.35\n",
        "Specialized Industry Skills    1906.14\n",
        "Tech Skills                    1336.78\n",
        "Name: net_per_10K_2017, dtype: float64\n",
        "```\n",
        "\n",
        "3    \n",
        "```\n",
        "skill_group_category\n",
        "Business Skills               -3471.35\n",
        "Disruptive Tech Skills        -2646.19\n",
        "Soft Skills                   -2542.23\n",
        "Specialized Industry Skills   -6604.67\n",
        "Tech Skills                   -6060.98\n",
        "Name: net_per_10K_2017, dtype: float64\n",
        "```\n",
        "\n",
        "4  \n",
        "```\n",
        "skill_group_category\n",
        "Business Skills                4519.55\n",
        "Disruptive Tech Skills         4124.75\n",
        "Soft Skills                    4114.58\n",
        "Specialized Industry Skills    8510.81\n",
        "Tech Skills                    7397.76\n",
        "Name: net_per_10K_2017, dtype: float64\n",
        "```\n",
        "\n",
        "5  \n",
        "```\n",
        "skill_group_category\n",
        "Business Skills                4543.96\n",
        "Disruptive Tech Skills         3651.81\n",
        "Soft Skills                    5528.47\n",
        "Specialized Industry Skills    4036.44\n",
        "Tech Skills                    3424.45\n",
        "Name: net_per_10K_2019, dtype: float64\n",
        "```\n",
        "\n",
        "6  \n",
        "```\n",
        "wb_income\n",
        "High income            4246.50\n",
        "Low income             4556.42\n",
        "Lower middle income    2148.36\n",
        "Upper middle income    4045.43\n",
        "Name: net_per_10K_2015, dtype: float64\n",
        "```\n",
        "\n",
        "\n",
        "\n"
      ]
    },
    {
      "cell_type": "code",
      "metadata": {
        "id": "1_2brpLnKIBt"
      },
      "source": [],
      "execution_count": null,
      "outputs": []
    }
  ]
}