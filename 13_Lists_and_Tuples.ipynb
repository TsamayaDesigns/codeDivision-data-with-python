{
  "nbformat": 4,
  "nbformat_minor": 0,
  "metadata": {
    "colab": {
      "provenance": [],
      "include_colab_link": true
    },
    "kernelspec": {
      "name": "python3",
      "display_name": "Python 3"
    },
    "language_info": {
      "name": "python"
    }
  },
  "cells": [
    {
      "cell_type": "markdown",
      "metadata": {
        "id": "view-in-github",
        "colab_type": "text"
      },
      "source": [
        "<a href=\"https://colab.research.google.com/github/TsamayaDesigns/codeDivision-data-with-python/blob/main/13_Lists_and_Tuples.ipynb\" target=\"_parent\"><img src=\"https://colab.research.google.com/assets/colab-badge.svg\" alt=\"Open In Colab\"/></a>"
      ]
    },
    {
      "cell_type": "markdown",
      "metadata": {
        "id": "Z-M-RCWATK71"
      },
      "source": [
        "# Lists and tuples\n",
        "\n",
        "Often we need to store a number of single items of data together so that they can be processed together. This might be because all the data refers to one person (e.g. name, age, gender, etc) OR it might be because we have a set of data (e.g. all the items that should be displayed in a drop down list, such as all the years from this year back to 100 years ago so that someone can select their year of birth)\n",
        "\n",
        "Python has a range of data structures available including:\n",
        "*   lists  \n",
        "*   tuples  \n",
        "*   dictionaries  \n",
        "*   sets\n",
        "\n",
        "This worksheet looks at lists and tuples.\n",
        "\n",
        "## List\n",
        "A list is a set of related, individual data objects, that are indexed and can be processed as a whole, as subsets or as individual items.  Lists are stored, essentially, as contiguous items in memory so that access can be as quick as possible.  However, they are mutable (they can be changed after they are created and stored) and so those mechanisms need to include extra functionality to deal with changing list sizes.\n",
        "\n",
        "## Tuple\n",
        "Essentially the same as a list but it is immutable.  Once it has been created it can't be changed.  It is stored in memory as contiguous items, with the size required being fixed right from the start.  This makes it faster to access.\n",
        "\n",
        "The code below will create two lists and a tuple.\n",
        "*   the first list contains 1000 random numbers between 1 and 100\n",
        "*   the second list is of random length (up to 5000) and each item is one of the 9 characteristics that are protected under the Equality Act in the UK.\n",
        "*   the tuple contains the 9 protected characteristics\n",
        "\n",
        "Before you start the exercises, run the code below.  It will generate the lists and tuple so that you can use them in the exercises.  If you need to recreate the lists again (because you have changed them and need to work on the originals, just run this cell again).\n",
        "\n",
        "***Note:***  *a list variable contains a reference to the start of the list in memory, rather than storing the list itself.  This means that if you assign the list to another variable (to make a copy), it will only copy across the reference.  If you change the copy, you change the original list.*\n",
        "\n",
        "*If you need to make a copy of the list you will need to use a loop to create a new list and copy all items across.*"
      ]
    },
    {
      "cell_type": "code",
      "metadata": {
        "id": "BDRckXeQXFMT"
      },
      "source": [
        "from random import randint, choice\n",
        "\n",
        "def get_num_list():\n",
        "  num_list = [randint(1,100) for n in range(1000)]\n",
        "  return num_list\n",
        "\n",
        "def get_protected_characteristics():\n",
        "  characteristics_tuple = ('age','disability','gender reassignment','marriage and civil partnership','pregnancy and maternity','race','religion or belief','sex','sexual orientation')\n",
        "  return characteristics_tuple\n",
        "\n",
        "def get_protected_characteristic_list(protected_characteristics):\n",
        "  char_list = [choice(protected_characteristics) for ch in range(randint(1,5000))]\n",
        "  return char_list\n",
        "\n",
        "nums = get_num_list()\n",
        "protected_characteristics = get_protected_characteristics()\n",
        "characteristics = get_protected_characteristic_list(protected_characteristics)"
      ],
      "execution_count": 2,
      "outputs": []
    },
    {
      "cell_type": "markdown",
      "metadata": {
        "id": "xXT38-4ZV45n"
      },
      "source": [
        "## The exercises below will use the lists:  \n",
        "*   **nums** (a list of between 1 and 1000 random numbers, each number is between 0 and 1000)\n",
        "*   **characteristics** (a list of 5000 random protected_characteristics)\n",
        "\n",
        "and the tuple:\n",
        "*  **protected_characteristics** (a set of the 9 protected characteristics identified in the Equality Act)\n",
        "\n",
        "## You can run the cell above any number of times to generate new lists."
      ]
    },
    {
      "cell_type": "markdown",
      "metadata": {
        "id": "Ft0dXl7fUuaK"
      },
      "source": [
        "---\n",
        "### Exercise 1 - list head, tail and shape\n",
        "\n",
        "Write a function, **describe_list()** which will:\n",
        "*  print the length of the list `nums`\n",
        "*  print the first 10 items in `nums`  \n",
        "*  print the last 5 items in `nums`"
      ]
    },
    {
      "cell_type": "code",
      "metadata": {
        "id": "jUcZD7mmTJdA",
        "colab": {
          "base_uri": "https://localhost:8080/"
        },
        "outputId": "64967829-0369-465a-fa13-f428c84f33c9"
      },
      "source": [
        "def describe_list():\n",
        "  length_of_nums = len(nums)\n",
        "  print(\"Length of nums-list: \", length_of_nums)\n",
        "\n",
        "  # Print first 10 items\n",
        "  print(\"The first 10 items: \")\n",
        "  i = 0\n",
        "  while i < 10:\n",
        "    print(nums[i])\n",
        "    i = i + 1\n",
        "\n",
        "  # Print last 5 items\n",
        "  print(\"The last 5 items: \")\n",
        "  for n in nums[-1:-6:-1]:\n",
        "    print(n)\n",
        "\n",
        "describe_list()"
      ],
      "execution_count": 119,
      "outputs": [
        {
          "output_type": "stream",
          "name": "stdout",
          "text": [
            "Length of nums-list:  1000\n",
            "The first 10 items: \n",
            "83\n",
            "59\n",
            "30\n",
            "2\n",
            "100\n",
            "87\n",
            "24\n",
            "77\n",
            "47\n",
            "81\n",
            "The last 5 items: \n",
            "66\n",
            "19\n",
            "37\n",
            "72\n",
            "1\n"
          ]
        }
      ]
    },
    {
      "cell_type": "markdown",
      "metadata": {
        "id": "yNWg08k6bXv0"
      },
      "source": [
        "---\n",
        "### Exercise 2 - show tuple items\n",
        "\n",
        "Write a function which will:\n",
        "*   use a loop to print the list of protected characteristics from the `protected_characteristics` tuple.\n"
      ]
    },
    {
      "cell_type": "code",
      "metadata": {
        "id": "P2HnCG9pb1BS",
        "colab": {
          "base_uri": "https://localhost:8080/"
        },
        "outputId": "06bee9d6-b870-41b9-eec8-557d9905c08d"
      },
      "source": [
        "def show_tuple_items():\n",
        "  for i in protected_characteristics:\n",
        "    print(i)\n",
        "    i += i\n",
        "\n",
        "show_tuple_items()"
      ],
      "execution_count": 118,
      "outputs": [
        {
          "output_type": "stream",
          "name": "stdout",
          "text": [
            "age\n",
            "disability\n",
            "gender reassignment\n",
            "marriage and civil partnership\n",
            "pregnancy and maternity\n",
            "race\n",
            "religion or belief\n",
            "sex\n",
            "sexual orientation\n"
          ]
        }
      ]
    },
    {
      "cell_type": "markdown",
      "metadata": {
        "id": "RTSuQZs4b1JU"
      },
      "source": [
        "---\n",
        "### Exercise 3 - list a random subset\n",
        "\n",
        "Write a function which will:\n",
        "*  calculate the position of the middle item in the `characteristics` list   \n",
        "(*Hint: use len() to help with this*)\n",
        "*  calculate the position of the item that is 5 places before the middle item\n",
        "*  calculate the position of the item that is 5 places after the middle item\n",
        "*  print the part of the list that includes the items from 5 places before to 5 places after.  \n",
        "\n",
        "Expected output:  \n",
        "Your list will include 11 items."
      ]
    },
    {
      "cell_type": "code",
      "metadata": {
        "id": "OwhFnH2kdC11",
        "colab": {
          "base_uri": "https://localhost:8080/"
        },
        "outputId": "0d06895f-54a1-4efd-94a1-2b22ce85738b"
      },
      "source": [
        "# Calculate the middle of list\n",
        "def position_of_middle_item():\n",
        "  length_of_list = len(characteristics)\n",
        "  middle_of_list = length_of_list // 2\n",
        "\n",
        "  if (length_of_list % 2) >= 0.5:\n",
        "    middle_of_list += 1\n",
        "  return middle_of_list\n",
        "\n",
        "position_of_middle_item()\n",
        "\n",
        "# Find 5 places BEFORE middle\n",
        "def five_before():\n",
        "  five_places_before = (middle - 5)\n",
        "  return five_places_before\n",
        "\n",
        "five_before()\n",
        "\n",
        "# Find 5 places AFTER middle\n",
        "def five_after():\n",
        "  five_places_after = (middle + 6)\n",
        "  return five_places_after\n",
        "\n",
        "five_after()\n",
        "\n",
        "middle = position_of_middle_item()\n",
        "begin = five_before()\n",
        "end = five_after()\n",
        "\n",
        "message = \"List begins at position: {}, and ends at position: {} (this is to make provision for using \\\"range()\\\" in the \\\"for\\\" loop).\\nThe middle of the list is at position: {}.\\n\"\n",
        "print(message.format(begin, end, middle))\n",
        "\n",
        "# Print the part of the list that includes the items from 5 places before to 5 places after:\n",
        "def print_range():\n",
        "  print(\"The items from 5 places BEFORE to 5 places AFTER the middle of the list are:\")\n",
        "  for i in range(begin, end):\n",
        "    print(characteristics[i])\n",
        "\n",
        "print_range()\n",
        "\n"
      ],
      "execution_count": 117,
      "outputs": [
        {
          "output_type": "stream",
          "name": "stdout",
          "text": [
            "List begins at position: 341, and ends at position: 352 (this is to make provision for using \"range()\" in the \"for\" loop).\n",
            "The middle of the list is at position: 346.\n",
            "\n",
            "The items from 5 places BEFORE to 5 places AFTER the middle of the list are:\n",
            "religion or belief\n",
            "age\n",
            "gender reassignment\n",
            "sexual orientation\n",
            "race\n",
            "pregnancy and maternity\n",
            "sexual orientation\n",
            "pregnancy and maternity\n",
            "gender reassignment\n",
            "age\n",
            "disability\n"
          ]
        }
      ]
    },
    {
      "cell_type": "markdown",
      "metadata": {
        "id": "KS0x3oFNePI9"
      },
      "source": [
        "---\n",
        "### Exercise 4 - create a copy\n",
        "\n",
        "Write a function which will: use a for loop to create a copy of the `nums` list:\n",
        "\n",
        "*   create a new, empty, list called **new_nums**  (*Hint: an empty list is [ ]*)\n",
        "*   use a for loop which uses the following syntax:  `for num in nums:`\n",
        "*   each time round the loop append `num` to `new_nums`  ( *`new_nums.append(num)`*)\n",
        "*   print the first 10 items of `new_nums`\n",
        "*   print the first 10 items of `nums`\n",
        "*   print the length of both lists"
      ]
    },
    {
      "cell_type": "code",
      "metadata": {
        "id": "mpK1Ip3we-uC",
        "colab": {
          "base_uri": "https://localhost:8080/"
        },
        "outputId": "b526a662-655b-45bd-edce-fc85e63a0457"
      },
      "source": [
        "def create_copy():\n",
        "  new_nums = []\n",
        "\n",
        "  for num in nums:\n",
        "    new_nums.append(num)\n",
        "\n",
        "  print(\"Items in \\\"new_nums\\\": \", len(new_nums))\n",
        "  print(\"First 10 items of \\\"new_nums\\\": \")\n",
        "\n",
        "  for i in range(1, 11):\n",
        "    print(new_nums[i])\n",
        "\n",
        "  print(\"\\nItems in \\\"nums\\\": \", len(nums))\n",
        "  print(\"First 10 items of \\\"nums\\\": \")\n",
        "\n",
        "  for i in range(1, 11):\n",
        "    print(nums[i])\n",
        "\n",
        "create_copy()"
      ],
      "execution_count": 116,
      "outputs": [
        {
          "output_type": "stream",
          "name": "stdout",
          "text": [
            "Items in \"new_nums\":  1000\n",
            "First 10 items of \"new_nums\": \n",
            "59\n",
            "30\n",
            "2\n",
            "100\n",
            "87\n",
            "24\n",
            "77\n",
            "47\n",
            "81\n",
            "88\n",
            "\n",
            "Items in \"nums\":  1000\n",
            "First 10 items of \"nums\": \n",
            "59\n",
            "30\n",
            "2\n",
            "100\n",
            "87\n",
            "24\n",
            "77\n",
            "47\n",
            "81\n",
            "88\n"
          ]
        }
      ]
    },
    {
      "cell_type": "markdown",
      "metadata": {
        "id": "deUIFWjRe-3G"
      },
      "source": [
        "\n",
        "\n",
        "```\n",
        "# This is formatted as code\n",
        "```\n",
        "\n",
        "---\n",
        "### Exercise 5 - count the occurrence of age in characteristics\n",
        "\n",
        "Write a function which will use the list method:\n",
        "\n",
        "`num_items = list_name.count(item)`\n",
        "\n",
        "to count the number of occurrences of 'age' in the `characteristics` list.  Print the result."
      ]
    },
    {
      "cell_type": "code",
      "metadata": {
        "id": "b9TrHQ9hfoIU",
        "colab": {
          "base_uri": "https://localhost:8080/"
        },
        "outputId": "d3f62fe0-f9bb-45ef-e91a-c208c4506b9f"
      },
      "source": [
        "def count_occurence():\n",
        "  item = \"age\"\n",
        "  list_name = characteristics\n",
        "  num_items = list_name.count(item)\n",
        "  print(num_items, \"occurrences.\")\n",
        "\n",
        "count_occurence()"
      ],
      "execution_count": 127,
      "outputs": [
        {
          "output_type": "stream",
          "name": "stdout",
          "text": [
            "60 occurrences.\n"
          ]
        }
      ]
    },
    {
      "cell_type": "markdown",
      "metadata": {
        "id": "zm2VI5RmfoSy"
      },
      "source": [
        "---\n",
        "### Exercise 6 - sort the nums list\n",
        "\n",
        "Write a function which will:\n",
        "*   call the function `get_num_list()` and store the result in a new list called **sort_nums**\n",
        "*   print the first, and last, 20 items in the `sort_nums` list\n",
        "*   use the `list_name.sort()` method to sort the `sort_nums` list into ascending order\n",
        "*   print the first, and last, 20 items again  \n",
        "*   use the `list_name.sort()` method again to sort the `sort_nums` list into descending order\n",
        "*   print the first, and last, 20 items again"
      ]
    },
    {
      "cell_type": "code",
      "metadata": {
        "id": "Fksgpj9JgWDs",
        "colab": {
          "base_uri": "https://localhost:8080/"
        },
        "outputId": "67ebc8eb-5483-4302-8219-6885dac27008"
      },
      "source": [
        "def sort_nums_list():\n",
        "  sort_nums = get_num_list()\n",
        "  print(sort_nums)\n",
        "# Print first 20 items\n",
        "  print(\"First 20 items of \\\"sort_nums\\\": \")\n",
        "\n",
        "  for i in range(0, 20):\n",
        "    print(sort_nums[i])\n",
        "\n",
        "# Print last 20 items\n",
        "  print(\"\\nLast 20 items of \\\"sort_nums\\\": \")\n",
        "\n",
        "  for i in range(len(sort_nums) - 20, len(sort_nums)):\n",
        "    print(sort_nums[i])\n",
        "\n",
        "# Sort list into ascending order\n",
        "  sort_ascending = sort_nums.sort()\n",
        "  print(sort_ascending)\n",
        "\n",
        "# # Print first 20 items\n",
        "#   print(\"First 20 items of \\\"sort_ascending\\\": \")\n",
        "\n",
        "#   for i in range(1, 21):\n",
        "#     print(sort_ascending[i])\n",
        "\n",
        "# # Print last 20 items\n",
        "#   print(\"\\nLast 20 items of \\\"sort_ascending\\\": \")\n",
        "\n",
        "#   for i in range(-21, -1):\n",
        "#     print(sort_ascending[i])\n",
        "\n",
        "sort_nums_list()"
      ],
      "execution_count": 141,
      "outputs": [
        {
          "output_type": "stream",
          "name": "stdout",
          "text": [
            "[81, 43, 3, 60, 32, 89, 24, 12, 86, 25, 88, 49, 47, 95, 64, 17, 85, 41, 18, 33, 27, 64, 36, 26, 12, 76, 57, 83, 1, 93, 8, 32, 80, 30, 25, 97, 15, 97, 93, 89, 6, 51, 29, 89, 74, 75, 20, 87, 80, 65, 42, 44, 50, 74, 70, 56, 62, 50, 66, 71, 24, 85, 57, 58, 4, 65, 47, 5, 96, 78, 26, 83, 97, 25, 58, 98, 11, 100, 93, 73, 43, 22, 63, 36, 13, 63, 24, 98, 18, 88, 89, 70, 50, 76, 41, 90, 66, 86, 29, 36, 15, 58, 66, 7, 2, 53, 77, 72, 48, 81, 11, 43, 67, 76, 85, 17, 24, 73, 36, 98, 88, 76, 32, 44, 25, 59, 32, 33, 61, 22, 63, 84, 86, 38, 14, 13, 30, 8, 88, 70, 75, 9, 49, 59, 8, 50, 60, 75, 87, 72, 33, 46, 53, 26, 83, 31, 66, 31, 78, 21, 54, 16, 70, 81, 33, 65, 11, 27, 61, 52, 25, 47, 16, 70, 7, 43, 54, 72, 21, 57, 1, 75, 76, 42, 49, 23, 30, 82, 14, 58, 51, 70, 100, 92, 100, 52, 97, 81, 68, 47, 34, 41, 18, 3, 59, 78, 54, 8, 97, 57, 26, 33, 81, 5, 38, 14, 84, 34, 92, 80, 1, 59, 30, 25, 73, 80, 39, 68, 70, 54, 46, 92, 73, 57, 12, 71, 68, 86, 25, 16, 15, 54, 62, 28, 88, 97, 70, 53, 39, 93, 42, 91, 89, 77, 81, 52, 47, 97, 22, 28, 79, 43, 72, 2, 66, 67, 84, 89, 77, 88, 57, 45, 87, 71, 45, 88, 35, 32, 10, 55, 94, 34, 59, 33, 3, 5, 76, 4, 68, 38, 18, 68, 24, 43, 58, 43, 76, 61, 26, 42, 67, 91, 97, 9, 78, 85, 38, 92, 80, 100, 82, 85, 11, 93, 45, 86, 93, 74, 52, 56, 49, 59, 68, 87, 55, 25, 44, 74, 32, 37, 74, 37, 33, 56, 29, 51, 53, 62, 31, 77, 67, 81, 74, 17, 34, 63, 12, 55, 74, 70, 100, 75, 78, 85, 74, 16, 48, 87, 38, 92, 89, 51, 95, 99, 23, 94, 70, 30, 32, 52, 41, 46, 14, 30, 47, 28, 82, 95, 92, 76, 28, 44, 13, 77, 10, 36, 27, 23, 81, 66, 71, 93, 7, 47, 30, 1, 67, 98, 71, 93, 17, 74, 53, 96, 28, 8, 17, 45, 57, 87, 100, 45, 18, 99, 16, 32, 40, 48, 69, 39, 13, 63, 60, 58, 4, 47, 35, 79, 67, 100, 31, 74, 5, 21, 75, 43, 22, 9, 36, 58, 9, 19, 9, 89, 75, 51, 86, 16, 41, 5, 76, 50, 18, 17, 61, 73, 21, 1, 31, 35, 59, 91, 89, 29, 41, 20, 70, 88, 21, 50, 97, 20, 7, 43, 47, 6, 62, 45, 19, 65, 29, 75, 25, 70, 98, 81, 34, 59, 96, 63, 90, 47, 70, 39, 59, 73, 40, 53, 97, 30, 10, 78, 48, 32, 81, 26, 26, 64, 8, 27, 70, 38, 55, 23, 1, 35, 88, 31, 17, 40, 28, 99, 28, 31, 36, 61, 57, 33, 86, 19, 56, 89, 76, 70, 33, 94, 61, 39, 22, 68, 16, 25, 57, 50, 1, 85, 88, 9, 86, 77, 34, 3, 31, 76, 98, 39, 76, 30, 24, 78, 57, 77, 86, 88, 14, 33, 37, 49, 18, 48, 64, 15, 81, 71, 57, 10, 47, 56, 3, 85, 19, 8, 33, 16, 29, 56, 45, 32, 19, 86, 65, 9, 38, 66, 79, 87, 83, 33, 46, 35, 30, 70, 62, 98, 43, 57, 53, 65, 21, 83, 81, 26, 35, 61, 10, 73, 92, 35, 82, 99, 34, 79, 63, 85, 51, 76, 27, 3, 63, 82, 16, 38, 23, 34, 23, 56, 82, 72, 85, 78, 23, 32, 59, 74, 1, 100, 21, 61, 83, 68, 100, 60, 81, 41, 86, 15, 24, 11, 8, 27, 62, 54, 38, 42, 54, 28, 12, 39, 49, 56, 85, 39, 93, 66, 3, 18, 24, 96, 6, 83, 67, 31, 81, 47, 93, 83, 46, 88, 11, 96, 93, 68, 12, 72, 61, 76, 78, 84, 29, 70, 72, 79, 3, 49, 11, 69, 47, 80, 71, 83, 37, 79, 53, 28, 84, 85, 68, 81, 14, 24, 19, 85, 12, 79, 11, 61, 53, 88, 21, 36, 71, 3, 13, 97, 84, 41, 40, 13, 88, 96, 20, 24, 76, 30, 38, 28, 27, 62, 92, 78, 70, 84, 80, 68, 19, 71, 85, 30, 70, 19, 59, 88, 30, 97, 83, 89, 92, 10, 73, 59, 42, 99, 94, 27, 30, 46, 83, 42, 65, 95, 90, 3, 93, 14, 52, 73, 40, 70, 17, 69, 82, 79, 19, 58, 55, 95, 92, 25, 74, 50, 45, 34, 43, 73, 36, 96, 20, 56, 40, 68, 44, 38, 28, 23, 52, 68, 11, 99, 76, 90, 15, 55, 77, 57, 17, 70, 33, 15, 42, 46, 62, 44, 19, 25, 61, 10, 10, 14, 3, 64, 20, 25, 84, 81, 43, 4, 75, 81, 81, 8, 97, 1, 1, 96, 3, 6, 28, 62, 39, 50, 4, 44, 22, 37, 9, 56, 20, 96, 94, 49, 67, 32, 41, 35, 77, 75, 34, 55, 20, 38, 79, 86, 37, 30, 92, 63, 54, 41, 15, 90, 77, 53, 71, 100, 11, 38, 17, 83, 61, 61, 23, 87, 4, 56, 78, 45, 19, 50, 43, 82, 58, 35, 6, 36, 73, 44, 24, 9, 93, 36, 45, 98, 72, 50, 42, 47, 86, 82, 44, 10, 64, 5, 56, 8, 98, 9, 66, 12, 52, 42, 8, 84, 7, 7, 8, 59, 92, 70, 62, 88, 7, 45, 3, 45, 93, 8, 13, 90, 29, 18, 32, 78, 96, 47, 99, 22, 68, 88, 14, 62, 10, 80, 85, 51, 37, 34, 31, 60, 56, 74, 39, 7, 41, 9, 80, 93, 28, 40, 63, 78, 61, 35, 21, 70, 52, 97, 73, 26, 22, 41]\n",
            "First 20 items of \"sort_nums\": \n",
            "81\n",
            "43\n",
            "3\n",
            "60\n",
            "32\n",
            "89\n",
            "24\n",
            "12\n",
            "86\n",
            "25\n",
            "88\n",
            "49\n",
            "47\n",
            "95\n",
            "64\n",
            "17\n",
            "85\n",
            "41\n",
            "18\n",
            "33\n",
            "\n",
            "Last 20 items of \"sort_nums\": \n",
            "39\n",
            "7\n",
            "41\n",
            "9\n",
            "80\n",
            "93\n",
            "28\n",
            "40\n",
            "63\n",
            "78\n",
            "61\n",
            "35\n",
            "21\n",
            "70\n",
            "52\n",
            "97\n",
            "73\n",
            "26\n",
            "22\n",
            "41\n",
            "None\n"
          ]
        }
      ]
    },
    {
      "cell_type": "markdown",
      "metadata": {
        "id": "_OF-Xuj1UrW0"
      },
      "source": [
        "---\n",
        "### Exercise 7 - get statistics (max(), min(), sum() )\n",
        "\n",
        "Write a function which will:\n",
        "*   print the maximum and minimum numbers in the `nums` list  \n",
        "*   print the sum of the `nums` list\n",
        "*   calculate and print the average of the `nums` list (using `len()` to help)"
      ]
    },
    {
      "cell_type": "code",
      "metadata": {
        "id": "9YmYMenZVGod"
      },
      "source": [],
      "execution_count": null,
      "outputs": []
    },
    {
      "cell_type": "markdown",
      "metadata": {
        "id": "Mn4tHQ_KVbHa"
      },
      "source": [
        "---\n",
        "### Exercise 8 - percentage difference\n",
        "\n",
        "Write a function which will:\n",
        "*   generate a new list called **ex8_nums** using `get_num_list()`\n",
        "*   calculate and print the percentage difference between the first number in each list (as a percentage of the number in the nums list) (Hint:  find the difference between the two numbers, divide the difference by the number in `nums` and multiply by 100)\n",
        "*   calculate and print the percentage difference between the last numbers in each list in the same way\n",
        "*   calculate and print the percentage difference between the middle numbers in each list in the same way.\n",
        "*   calculate and print the percentage difference between the sums of each list in the same way"
      ]
    },
    {
      "cell_type": "code",
      "metadata": {
        "id": "nJCQjZIeZL0e"
      },
      "source": [],
      "execution_count": null,
      "outputs": []
    },
    {
      "cell_type": "markdown",
      "metadata": {
        "id": "HNs3lZmYawFO"
      },
      "source": [
        "---\n",
        "### Exercise 9 - characteristic counts\n",
        "\n",
        "Write a function which will:\n",
        "*  iterate through the `protected_characteristics` tuple and for each **characteristic**:\n",
        "*   *   count the number of occurrences of that `characteristic` in the `characteristics` list\n",
        "*   *   print the `protected_characteristic` and the **count**  \n",
        "\n",
        "Example expected output:\n",
        "\n",
        "age 100  \n",
        "disability 120  \n",
        "gender reassignment 120  \n",
        "marriage and civil partnership 111  \n",
        "pregnancy and maternity 103  \n",
        "race 106  \n",
        "religion or belief 95  \n",
        "sex 110  \n",
        "sexual orientation 113  \n",
        "\n",
        "Extra learning:  you can read [here](https://thispointer.com/python-how-to-pad-strings-with-zero-space-or-some-other-character/) how to justify the printed characteristic so that the output is organised into two columns as shown below:  \n",
        "![tabulated output](https://drive.google.com/uc?id=1CCXfX6K5ZeDefnq7vUsqxCDmqvcfY8Mz)\n",
        "\n",
        "\n",
        "\n"
      ]
    },
    {
      "cell_type": "code",
      "metadata": {
        "id": "GURT11albqUs"
      },
      "source": [],
      "execution_count": null,
      "outputs": []
    },
    {
      "cell_type": "markdown",
      "metadata": {
        "id": "9Po7yQj-ds38"
      },
      "source": [
        "---\n",
        "### Exercise 10 - characteristics statistics\n",
        "\n",
        "Assuming that the `characteristics` list may have been taken from a study of cases that have been taken to court in relation to the Equality Act.  \n",
        "\n",
        "Write a function which will:\n",
        "\n",
        "*   find the most common characteristic resulting in court action, from this population\n",
        "*   print this in a message, e.g. The characteristic with the highest number of court cases is:  *characteristic*\n",
        "*   print the list of `protected_characteristics`, on one line if possible - see [here](https://www.geeksforgeeks.org/g-fact-25-print-single-multiple-variable-python/)\n",
        "*   ask the user to enter a characteristic that they would like to see statistics on and use a while loop to continue until the user has entered a valid characteristic\n",
        "*   print the characteristic, its frequency and the percentage that this frequency is of the whole population."
      ]
    },
    {
      "cell_type": "code",
      "metadata": {
        "id": "uk_I5z7UgbDs"
      },
      "source": [],
      "execution_count": null,
      "outputs": []
    }
  ]
}