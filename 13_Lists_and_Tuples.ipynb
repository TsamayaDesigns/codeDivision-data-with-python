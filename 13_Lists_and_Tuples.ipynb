{
  "nbformat": 4,
  "nbformat_minor": 0,
  "metadata": {
    "colab": {
      "provenance": [],
      "include_colab_link": true
    },
    "kernelspec": {
      "name": "python3",
      "display_name": "Python 3"
    },
    "language_info": {
      "name": "python"
    }
  },
  "cells": [
    {
      "cell_type": "markdown",
      "metadata": {
        "id": "view-in-github",
        "colab_type": "text"
      },
      "source": [
        "<a href=\"https://colab.research.google.com/github/TsamayaDesigns/codeDivision-data-with-python/blob/main/13_Lists_and_Tuples.ipynb\" target=\"_parent\"><img src=\"https://colab.research.google.com/assets/colab-badge.svg\" alt=\"Open In Colab\"/></a>"
      ]
    },
    {
      "cell_type": "markdown",
      "metadata": {
        "id": "Z-M-RCWATK71"
      },
      "source": [
        "# Lists and tuples\n",
        "\n",
        "Often we need to store a number of single items of data together so that they can be processed together. This might be because all the data refers to one person (e.g. name, age, gender, etc) OR it might be because we have a set of data (e.g. all the items that should be displayed in a drop down list, such as all the years from this year back to 100 years ago so that someone can select their year of birth)\n",
        "\n",
        "Python has a range of data structures available including:\n",
        "*   lists  \n",
        "*   tuples  \n",
        "*   dictionaries  \n",
        "*   sets\n",
        "\n",
        "This worksheet looks at lists and tuples.\n",
        "\n",
        "## List\n",
        "A list is a set of related, individual data objects, that are indexed and can be processed as a whole, as subsets or as individual items.  Lists are stored, essentially, as contiguous items in memory so that access can be as quick as possible.  However, they are mutable (they can be changed after they are created and stored) and so those mechanisms need to include extra functionality to deal with changing list sizes.\n",
        "\n",
        "## Tuple\n",
        "Essentially the same as a list but it is immutable.  Once it has been created it can't be changed.  It is stored in memory as contiguous items, with the size required being fixed right from the start.  This makes it faster to access.\n",
        "\n",
        "The code below will create two lists and a tuple.\n",
        "*   the first list contains 1000 random numbers between 1 and 100\n",
        "*   the second list is of random length (up to 5000) and each item is one of the 9 characteristics that are protected under the Equality Act in the UK.\n",
        "*   the tuple contains the 9 protected characteristics\n",
        "\n",
        "Before you start the exercises, run the code below.  It will generate the lists and tuple so that you can use them in the exercises.  If you need to recreate the lists again (because you have changed them and need to work on the originals, just run this cell again).\n",
        "\n",
        "***Note:***  *a list variable contains a reference to the start of the list in memory, rather than storing the list itself.  This means that if you assign the list to another variable (to make a copy), it will only copy across the reference.  If you change the copy, you change the original list.*\n",
        "\n",
        "*If you need to make a copy of the list you will need to use a loop to create a new list and copy all items across.*"
      ]
    },
    {
      "cell_type": "code",
      "metadata": {
        "id": "BDRckXeQXFMT"
      },
      "source": [
        "from random import randint, choice\n",
        "\n",
        "def get_num_list():\n",
        "  num_list = [randint(1,100) for n in range(1000)]\n",
        "  return num_list\n",
        "\n",
        "def get_protected_characteristics():\n",
        "  characteristics_tuple = ('age','disability','gender reassignment','marriage and civil partnership','pregnancy and maternity','race','religion or belief','sex','sexual orientation')\n",
        "  return characteristics_tuple\n",
        "\n",
        "def get_protected_characteristic_list(protected_characteristics):\n",
        "  char_list = [choice(protected_characteristics) for ch in range(randint(1,5000))]\n",
        "  return char_list\n",
        "\n",
        "nums = get_num_list()\n",
        "protected_characteristics = get_protected_characteristics()\n",
        "characteristics = get_protected_characteristic_list(protected_characteristics)"
      ],
      "execution_count": 2,
      "outputs": []
    },
    {
      "cell_type": "markdown",
      "metadata": {
        "id": "xXT38-4ZV45n"
      },
      "source": [
        "## The exercises below will use the lists:  \n",
        "*   **nums** (a list of between 1 and 1000 random numbers, each number is between 0 and 1000)\n",
        "*   **characteristics** (a list of 5000 random protected_characteristics)\n",
        "\n",
        "and the tuple:\n",
        "*  **protected_characteristics** (a set of the 9 protected characteristics identified in the Equality Act)\n",
        "\n",
        "## You can run the cell above any number of times to generate new lists."
      ]
    },
    {
      "cell_type": "markdown",
      "metadata": {
        "id": "Ft0dXl7fUuaK"
      },
      "source": [
        "---\n",
        "### Exercise 1 - list head, tail and shape\n",
        "\n",
        "Write a function, **describe_list()** which will:\n",
        "*  print the length of the list `nums`\n",
        "*  print the first 10 items in `nums`  \n",
        "*  print the last 5 items in `nums`"
      ]
    },
    {
      "cell_type": "code",
      "metadata": {
        "id": "jUcZD7mmTJdA",
        "colab": {
          "base_uri": "https://localhost:8080/"
        },
        "outputId": "64967829-0369-465a-fa13-f428c84f33c9"
      },
      "source": [
        "def describe_list():\n",
        "  length_of_nums = len(nums)\n",
        "  print(\"Length of nums-list: \", length_of_nums)\n",
        "\n",
        "  # Print first 10 items\n",
        "  print(\"The first 10 items: \")\n",
        "  i = 0\n",
        "  while i < 10:\n",
        "    print(nums[i])\n",
        "    i = i + 1\n",
        "\n",
        "  # Print last 5 items\n",
        "  print(\"The last 5 items: \")\n",
        "  for n in nums[-1:-6:-1]:\n",
        "    print(n)\n",
        "\n",
        "describe_list()"
      ],
      "execution_count": 119,
      "outputs": [
        {
          "output_type": "stream",
          "name": "stdout",
          "text": [
            "Length of nums-list:  1000\n",
            "The first 10 items: \n",
            "83\n",
            "59\n",
            "30\n",
            "2\n",
            "100\n",
            "87\n",
            "24\n",
            "77\n",
            "47\n",
            "81\n",
            "The last 5 items: \n",
            "66\n",
            "19\n",
            "37\n",
            "72\n",
            "1\n"
          ]
        }
      ]
    },
    {
      "cell_type": "markdown",
      "metadata": {
        "id": "yNWg08k6bXv0"
      },
      "source": [
        "---\n",
        "### Exercise 2 - show tuple items\n",
        "\n",
        "Write a function which will:\n",
        "*   use a loop to print the list of protected characteristics from the `protected_characteristics` tuple.\n"
      ]
    },
    {
      "cell_type": "code",
      "metadata": {
        "id": "P2HnCG9pb1BS",
        "colab": {
          "base_uri": "https://localhost:8080/"
        },
        "outputId": "06bee9d6-b870-41b9-eec8-557d9905c08d"
      },
      "source": [
        "def show_tuple_items():\n",
        "  for i in protected_characteristics:\n",
        "    print(i)\n",
        "    i += i\n",
        "\n",
        "show_tuple_items()"
      ],
      "execution_count": 118,
      "outputs": [
        {
          "output_type": "stream",
          "name": "stdout",
          "text": [
            "age\n",
            "disability\n",
            "gender reassignment\n",
            "marriage and civil partnership\n",
            "pregnancy and maternity\n",
            "race\n",
            "religion or belief\n",
            "sex\n",
            "sexual orientation\n"
          ]
        }
      ]
    },
    {
      "cell_type": "markdown",
      "metadata": {
        "id": "RTSuQZs4b1JU"
      },
      "source": [
        "---\n",
        "### Exercise 3 - list a random subset\n",
        "\n",
        "Write a function which will:\n",
        "*  calculate the position of the middle item in the `characteristics` list   \n",
        "(*Hint: use len() to help with this*)\n",
        "*  calculate the position of the item that is 5 places before the middle item\n",
        "*  calculate the position of the item that is 5 places after the middle item\n",
        "*  print the part of the list that includes the items from 5 places before to 5 places after.  \n",
        "\n",
        "Expected output:  \n",
        "Your list will include 11 items."
      ]
    },
    {
      "cell_type": "code",
      "metadata": {
        "id": "OwhFnH2kdC11",
        "colab": {
          "base_uri": "https://localhost:8080/"
        },
        "outputId": "0d06895f-54a1-4efd-94a1-2b22ce85738b"
      },
      "source": [
        "# Calculate the middle of list\n",
        "def position_of_middle_item():\n",
        "  length_of_list = len(characteristics)\n",
        "  middle_of_list = length_of_list // 2\n",
        "\n",
        "  if (length_of_list % 2) >= 0.5:\n",
        "    middle_of_list += 1\n",
        "  return middle_of_list\n",
        "\n",
        "position_of_middle_item()\n",
        "\n",
        "# Find 5 places BEFORE middle\n",
        "def five_before():\n",
        "  five_places_before = (middle - 5)\n",
        "  return five_places_before\n",
        "\n",
        "five_before()\n",
        "\n",
        "# Find 5 places AFTER middle\n",
        "def five_after():\n",
        "  five_places_after = (middle + 6)\n",
        "  return five_places_after\n",
        "\n",
        "five_after()\n",
        "\n",
        "middle = position_of_middle_item()\n",
        "begin = five_before()\n",
        "end = five_after()\n",
        "\n",
        "message = \"List begins at position: {}, and ends at position: {} (this is to make provision for using \\\"range()\\\" in the \\\"for\\\" loop).\\nThe middle of the list is at position: {}.\\n\"\n",
        "print(message.format(begin, end, middle))\n",
        "\n",
        "# Print the part of the list that includes the items from 5 places before to 5 places after:\n",
        "def print_range():\n",
        "  print(\"The items from 5 places BEFORE to 5 places AFTER the middle of the list are:\")\n",
        "  for i in range(begin, end):\n",
        "    print(characteristics[i])\n",
        "\n",
        "print_range()\n",
        "\n"
      ],
      "execution_count": 117,
      "outputs": [
        {
          "output_type": "stream",
          "name": "stdout",
          "text": [
            "List begins at position: 341, and ends at position: 352 (this is to make provision for using \"range()\" in the \"for\" loop).\n",
            "The middle of the list is at position: 346.\n",
            "\n",
            "The items from 5 places BEFORE to 5 places AFTER the middle of the list are:\n",
            "religion or belief\n",
            "age\n",
            "gender reassignment\n",
            "sexual orientation\n",
            "race\n",
            "pregnancy and maternity\n",
            "sexual orientation\n",
            "pregnancy and maternity\n",
            "gender reassignment\n",
            "age\n",
            "disability\n"
          ]
        }
      ]
    },
    {
      "cell_type": "markdown",
      "metadata": {
        "id": "KS0x3oFNePI9"
      },
      "source": [
        "---\n",
        "### Exercise 4 - create a copy\n",
        "\n",
        "Write a function which will: use a for loop to create a copy of the `nums` list:\n",
        "\n",
        "*   create a new, empty, list called **new_nums**  (*Hint: an empty list is [ ]*)\n",
        "*   use a for loop which uses the following syntax:  `for num in nums:`\n",
        "*   each time round the loop append `num` to `new_nums`  ( *`new_nums.append(num)`*)\n",
        "*   print the first 10 items of `new_nums`\n",
        "*   print the first 10 items of `nums`\n",
        "*   print the length of both lists"
      ]
    },
    {
      "cell_type": "code",
      "metadata": {
        "id": "mpK1Ip3we-uC",
        "colab": {
          "base_uri": "https://localhost:8080/"
        },
        "outputId": "b526a662-655b-45bd-edce-fc85e63a0457"
      },
      "source": [
        "def create_copy():\n",
        "  new_nums = []\n",
        "\n",
        "  for num in nums:\n",
        "    new_nums.append(num)\n",
        "\n",
        "  print(\"Items in \\\"new_nums\\\": \", len(new_nums))\n",
        "  print(\"First 10 items of \\\"new_nums\\\": \")\n",
        "\n",
        "  for i in range(1, 11):\n",
        "    print(new_nums[i])\n",
        "\n",
        "  print(\"\\nItems in \\\"nums\\\": \", len(nums))\n",
        "  print(\"First 10 items of \\\"nums\\\": \")\n",
        "\n",
        "  for i in range(1, 11):\n",
        "    print(nums[i])\n",
        "\n",
        "create_copy()"
      ],
      "execution_count": 116,
      "outputs": [
        {
          "output_type": "stream",
          "name": "stdout",
          "text": [
            "Items in \"new_nums\":  1000\n",
            "First 10 items of \"new_nums\": \n",
            "59\n",
            "30\n",
            "2\n",
            "100\n",
            "87\n",
            "24\n",
            "77\n",
            "47\n",
            "81\n",
            "88\n",
            "\n",
            "Items in \"nums\":  1000\n",
            "First 10 items of \"nums\": \n",
            "59\n",
            "30\n",
            "2\n",
            "100\n",
            "87\n",
            "24\n",
            "77\n",
            "47\n",
            "81\n",
            "88\n"
          ]
        }
      ]
    },
    {
      "cell_type": "markdown",
      "metadata": {
        "id": "deUIFWjRe-3G"
      },
      "source": [
        "\n",
        "\n",
        "```\n",
        "# This is formatted as code\n",
        "```\n",
        "\n",
        "---\n",
        "### Exercise 5 - count the occurrence of age in characteristics\n",
        "\n",
        "Write a function which will use the list method:\n",
        "\n",
        "`num_items = list_name.count(item)`\n",
        "\n",
        "to count the number of occurrences of 'age' in the `characteristics` list.  Print the result."
      ]
    },
    {
      "cell_type": "code",
      "metadata": {
        "id": "b9TrHQ9hfoIU",
        "colab": {
          "base_uri": "https://localhost:8080/"
        },
        "outputId": "d3f62fe0-f9bb-45ef-e91a-c208c4506b9f"
      },
      "source": [
        "def count_occurence():\n",
        "  item = \"age\"\n",
        "  list_name = characteristics\n",
        "  num_items = list_name.count(item)\n",
        "  print(num_items, \"occurrences.\")\n",
        "\n",
        "count_occurence()"
      ],
      "execution_count": 127,
      "outputs": [
        {
          "output_type": "stream",
          "name": "stdout",
          "text": [
            "60 occurrences.\n"
          ]
        }
      ]
    },
    {
      "cell_type": "markdown",
      "metadata": {
        "id": "zm2VI5RmfoSy"
      },
      "source": [
        "---\n",
        "### Exercise 6 - sort the nums list\n",
        "\n",
        "Write a function which will:\n",
        "*   call the function `get_num_list()` and store the result in a new list called **sort_nums**\n",
        "*   print the first, and last, 20 items in the `sort_nums` list\n",
        "*   use the `list_name.sort()` method to sort the `sort_nums` list into ascending order\n",
        "*   print the first, and last, 20 items again  \n",
        "*   use the `list_name.sort()` method again to sort the `sort_nums` list into descending order\n",
        "*   print the first, and last, 20 items again"
      ]
    },
    {
      "cell_type": "code",
      "metadata": {
        "id": "Fksgpj9JgWDs",
        "colab": {
          "base_uri": "https://localhost:8080/"
        },
        "outputId": "c4001eb6-0b9a-46a6-d200-3858be8aa037"
      },
      "source": [
        "def sort_nums_list():\n",
        "  sort_nums = get_num_list()\n",
        "  print(sort_nums)\n",
        "\n",
        "# Print first 20 items\n",
        "  print(\"First 20 items of \\\"sort_nums\\\": \")\n",
        "\n",
        "  for i in range(0, 20):\n",
        "    print(sort_nums[i])\n",
        "\n",
        "# Print last 20 items\n",
        "  print(\"\\nLast 20 items of \\\"sort_nums\\\": \")\n",
        "\n",
        "  for i in range(len(sort_nums) - 20, len(sort_nums)):\n",
        "    print(sort_nums[i])\n",
        "\n",
        "# Sort list into ascending order\n",
        "  sort_ascending = sort_nums\n",
        "  sort_ascending.sort()\n",
        "  print(sort_ascending)\n",
        "\n",
        "# Print first 20 items\n",
        "  print(\"First 20 items of \\\"sort_ascending\\\": \")\n",
        "\n",
        "  for i in range(0, 20):\n",
        "    print(sort_ascending[i])\n",
        "\n",
        "# Print last 20 items\n",
        "  print(\"\\nLast 20 items of \\\"sort_ascending\\\": \")\n",
        "\n",
        "  for i in range(len(sort_ascending) - 20, len(sort_ascending)):\n",
        "    print(sort_ascending[i])\n",
        "\n",
        "# Sort list into descending order\n",
        "  sort_descending = sort_nums\n",
        "  sort_descending.sort(reverse = True)\n",
        "  print(sort_descending)\n",
        "\n",
        "# Print first 20 items\n",
        "  print(\"First 20 items of \\\"sort_descending\\\": \")\n",
        "\n",
        "  for i in range(0, 20):\n",
        "    print(sort_descending[i])\n",
        "\n",
        "# Print last 20 items\n",
        "  print(\"\\nLast 20 items of \\\"sort_descending\\\": \")\n",
        "\n",
        "  for i in range(len(sort_ascending) - 20, len(sort_descending)):\n",
        "    print(sort_descending[i])\n",
        "\n",
        "\n",
        "sort_nums_list()"
      ],
      "execution_count": 20,
      "outputs": [
        {
          "output_type": "stream",
          "name": "stdout",
          "text": [
            "[45, 58, 22, 85, 11, 80, 18, 47, 82, 92, 38, 36, 12, 54, 50, 37, 8, 14, 15, 67, 41, 50, 59, 17, 44, 1, 82, 59, 54, 12, 14, 9, 53, 51, 13, 31, 4, 48, 86, 81, 59, 35, 6, 62, 62, 30, 69, 2, 51, 79, 98, 79, 78, 7, 26, 7, 38, 4, 13, 89, 58, 82, 18, 16, 74, 44, 21, 10, 18, 4, 81, 4, 6, 38, 45, 73, 88, 67, 56, 72, 63, 8, 90, 33, 76, 84, 29, 39, 35, 31, 56, 78, 28, 72, 39, 1, 86, 25, 39, 69, 54, 69, 39, 63, 7, 22, 55, 44, 73, 96, 22, 99, 32, 85, 72, 49, 54, 83, 96, 27, 88, 34, 38, 64, 27, 28, 60, 51, 74, 38, 2, 69, 42, 29, 92, 37, 99, 62, 46, 52, 80, 9, 72, 70, 99, 28, 31, 47, 68, 94, 52, 85, 19, 15, 26, 95, 7, 33, 69, 50, 99, 6, 99, 78, 43, 26, 1, 35, 96, 99, 24, 73, 46, 89, 33, 47, 28, 95, 18, 24, 18, 82, 49, 46, 41, 16, 24, 85, 69, 38, 26, 95, 22, 28, 70, 16, 66, 68, 45, 29, 84, 90, 81, 86, 68, 55, 98, 61, 90, 82, 14, 80, 3, 6, 90, 22, 80, 79, 55, 5, 79, 23, 86, 62, 40, 13, 47, 64, 16, 12, 23, 23, 61, 24, 86, 68, 36, 15, 85, 21, 51, 73, 99, 16, 57, 47, 97, 50, 75, 79, 40, 40, 19, 94, 9, 32, 34, 90, 35, 27, 47, 86, 84, 57, 85, 42, 34, 27, 4, 90, 28, 30, 74, 7, 90, 32, 10, 74, 56, 44, 93, 19, 38, 89, 56, 48, 9, 80, 96, 34, 20, 21, 75, 55, 17, 3, 72, 46, 22, 18, 37, 33, 55, 73, 2, 37, 28, 27, 46, 71, 8, 79, 79, 15, 100, 35, 16, 81, 13, 36, 65, 97, 82, 41, 64, 84, 75, 57, 52, 15, 14, 61, 71, 24, 23, 12, 77, 73, 27, 65, 93, 20, 20, 44, 28, 3, 80, 59, 58, 25, 34, 91, 77, 82, 22, 27, 98, 5, 33, 31, 66, 39, 81, 77, 87, 89, 72, 85, 100, 38, 41, 72, 17, 34, 24, 62, 2, 45, 21, 75, 86, 89, 76, 44, 27, 53, 21, 100, 69, 9, 68, 3, 18, 13, 77, 72, 8, 84, 25, 21, 58, 100, 90, 2, 99, 29, 86, 85, 71, 87, 59, 83, 30, 74, 11, 62, 13, 62, 41, 64, 56, 20, 92, 30, 85, 10, 57, 61, 17, 91, 79, 52, 13, 69, 58, 28, 100, 49, 88, 23, 92, 35, 80, 53, 46, 34, 83, 53, 71, 88, 68, 59, 51, 99, 57, 95, 15, 11, 29, 80, 60, 29, 18, 91, 64, 21, 96, 48, 97, 29, 5, 23, 2, 59, 3, 66, 76, 99, 52, 10, 46, 12, 34, 95, 52, 65, 2, 1, 58, 13, 17, 85, 23, 84, 20, 35, 27, 7, 51, 85, 51, 60, 100, 28, 33, 47, 42, 87, 76, 95, 23, 44, 8, 67, 7, 60, 69, 61, 99, 78, 12, 48, 70, 54, 32, 43, 78, 65, 3, 18, 89, 70, 46, 48, 46, 92, 90, 8, 27, 61, 15, 13, 10, 11, 58, 13, 52, 43, 39, 24, 52, 76, 67, 13, 3, 45, 90, 18, 19, 82, 18, 14, 98, 74, 98, 91, 50, 84, 28, 73, 94, 17, 11, 53, 23, 60, 41, 49, 50, 88, 55, 87, 12, 94, 7, 54, 55, 83, 47, 85, 20, 71, 52, 70, 90, 86, 71, 94, 29, 68, 83, 59, 80, 73, 34, 58, 7, 40, 61, 66, 44, 84, 30, 19, 7, 83, 6, 70, 6, 52, 58, 12, 18, 65, 92, 92, 32, 33, 14, 28, 7, 28, 94, 100, 42, 66, 29, 91, 65, 30, 71, 76, 43, 16, 97, 73, 63, 35, 80, 61, 12, 73, 25, 28, 61, 53, 2, 4, 52, 91, 91, 50, 22, 3, 63, 59, 83, 36, 33, 73, 96, 48, 38, 88, 22, 59, 54, 39, 25, 91, 12, 72, 51, 9, 91, 59, 21, 2, 97, 93, 53, 40, 77, 41, 1, 51, 61, 93, 81, 93, 43, 89, 26, 97, 72, 25, 24, 4, 32, 37, 97, 13, 82, 56, 84, 18, 76, 75, 71, 68, 15, 92, 22, 21, 100, 92, 15, 7, 4, 71, 27, 99, 22, 98, 81, 95, 42, 29, 66, 33, 43, 4, 32, 100, 3, 38, 74, 87, 69, 65, 84, 29, 41, 24, 56, 36, 50, 4, 28, 72, 25, 66, 99, 98, 78, 91, 84, 97, 93, 10, 14, 76, 74, 86, 13, 23, 23, 61, 82, 28, 60, 38, 52, 99, 22, 16, 78, 61, 21, 68, 70, 12, 88, 54, 17, 58, 37, 88, 34, 79, 10, 4, 92, 9, 8, 68, 68, 35, 75, 34, 91, 87, 63, 19, 35, 74, 29, 63, 88, 100, 66, 88, 70, 27, 10, 72, 83, 16, 22, 16, 19, 98, 35, 9, 85, 12, 17, 90, 8, 97, 63, 53, 2, 3, 98, 50, 93, 82, 24, 29, 78, 54, 7, 41, 51, 71, 98, 84, 83, 39, 77, 75, 5, 84, 10, 76, 47, 23, 47, 4, 6, 60, 79, 62, 57, 6, 52, 68, 17, 81, 33, 76, 69, 10, 64, 1, 95, 85, 25, 20, 29, 100, 30, 97, 71, 52, 81, 50, 64, 54, 73, 13, 8, 85, 10, 48, 32, 74, 93, 56, 77, 56, 95, 62, 86, 14, 5, 17, 15, 26, 75, 13, 91, 5, 36, 23, 1, 8, 46, 75, 48, 52, 91, 86, 63, 31, 17, 45, 5, 76, 13, 21, 66, 42, 56, 36, 36, 42, 8, 47, 41, 42, 61, 10, 5, 44, 98, 43, 12, 26, 4, 69, 38, 14, 83, 14, 41, 35, 67, 62, 69, 50, 53, 23, 87, 71, 2, 82, 86, 43, 26, 43, 90, 54, 22, 73, 10, 96, 73, 79, 37, 47, 34, 66, 92, 88, 38, 4, 92, 71]\n",
            "First 20 items of \"sort_nums\": \n",
            "45\n",
            "58\n",
            "22\n",
            "85\n",
            "11\n",
            "80\n",
            "18\n",
            "47\n",
            "82\n",
            "92\n",
            "38\n",
            "36\n",
            "12\n",
            "54\n",
            "50\n",
            "37\n",
            "8\n",
            "14\n",
            "15\n",
            "67\n",
            "\n",
            "Last 20 items of \"sort_nums\": \n",
            "26\n",
            "43\n",
            "90\n",
            "54\n",
            "22\n",
            "73\n",
            "10\n",
            "96\n",
            "73\n",
            "79\n",
            "37\n",
            "47\n",
            "34\n",
            "66\n",
            "92\n",
            "88\n",
            "38\n",
            "4\n",
            "92\n",
            "71\n",
            "[1, 1, 1, 1, 1, 1, 1, 2, 2, 2, 2, 2, 2, 2, 2, 2, 2, 2, 3, 3, 3, 3, 3, 3, 3, 3, 3, 3, 4, 4, 4, 4, 4, 4, 4, 4, 4, 4, 4, 4, 4, 4, 5, 5, 5, 5, 5, 5, 5, 5, 6, 6, 6, 6, 6, 6, 6, 6, 7, 7, 7, 7, 7, 7, 7, 7, 7, 7, 7, 7, 7, 8, 8, 8, 8, 8, 8, 8, 8, 8, 8, 8, 9, 9, 9, 9, 9, 9, 9, 9, 10, 10, 10, 10, 10, 10, 10, 10, 10, 10, 10, 10, 10, 11, 11, 11, 11, 11, 12, 12, 12, 12, 12, 12, 12, 12, 12, 12, 12, 12, 12, 13, 13, 13, 13, 13, 13, 13, 13, 13, 13, 13, 13, 13, 13, 13, 13, 14, 14, 14, 14, 14, 14, 14, 14, 14, 14, 15, 15, 15, 15, 15, 15, 15, 15, 15, 15, 16, 16, 16, 16, 16, 16, 16, 16, 16, 16, 17, 17, 17, 17, 17, 17, 17, 17, 17, 17, 17, 18, 18, 18, 18, 18, 18, 18, 18, 18, 18, 18, 18, 18, 19, 19, 19, 19, 19, 19, 19, 20, 20, 20, 20, 20, 20, 20, 21, 21, 21, 21, 21, 21, 21, 21, 21, 21, 21, 22, 22, 22, 22, 22, 22, 22, 22, 22, 22, 22, 22, 22, 22, 23, 23, 23, 23, 23, 23, 23, 23, 23, 23, 23, 23, 23, 23, 24, 24, 24, 24, 24, 24, 24, 24, 24, 24, 25, 25, 25, 25, 25, 25, 25, 25, 26, 26, 26, 26, 26, 26, 26, 26, 27, 27, 27, 27, 27, 27, 27, 27, 27, 27, 27, 27, 28, 28, 28, 28, 28, 28, 28, 28, 28, 28, 28, 28, 28, 28, 28, 28, 29, 29, 29, 29, 29, 29, 29, 29, 29, 29, 29, 29, 29, 29, 30, 30, 30, 30, 30, 30, 30, 31, 31, 31, 31, 31, 32, 32, 32, 32, 32, 32, 32, 32, 33, 33, 33, 33, 33, 33, 33, 33, 33, 33, 34, 34, 34, 34, 34, 34, 34, 34, 34, 34, 34, 34, 35, 35, 35, 35, 35, 35, 35, 35, 35, 35, 35, 35, 36, 36, 36, 36, 36, 36, 36, 36, 37, 37, 37, 37, 37, 37, 37, 38, 38, 38, 38, 38, 38, 38, 38, 38, 38, 38, 38, 38, 39, 39, 39, 39, 39, 39, 39, 39, 40, 40, 40, 40, 40, 41, 41, 41, 41, 41, 41, 41, 41, 41, 41, 41, 42, 42, 42, 42, 42, 42, 42, 42, 43, 43, 43, 43, 43, 43, 43, 43, 43, 44, 44, 44, 44, 44, 44, 44, 44, 44, 45, 45, 45, 45, 45, 45, 46, 46, 46, 46, 46, 46, 46, 46, 46, 46, 47, 47, 47, 47, 47, 47, 47, 47, 47, 47, 47, 47, 48, 48, 48, 48, 48, 48, 48, 48, 49, 49, 49, 49, 50, 50, 50, 50, 50, 50, 50, 50, 50, 50, 50, 51, 51, 51, 51, 51, 51, 51, 51, 51, 51, 52, 52, 52, 52, 52, 52, 52, 52, 52, 52, 52, 52, 52, 52, 52, 53, 53, 53, 53, 53, 53, 53, 53, 53, 54, 54, 54, 54, 54, 54, 54, 54, 54, 54, 54, 55, 55, 55, 55, 55, 55, 55, 56, 56, 56, 56, 56, 56, 56, 56, 56, 56, 57, 57, 57, 57, 57, 57, 58, 58, 58, 58, 58, 58, 58, 58, 58, 58, 59, 59, 59, 59, 59, 59, 59, 59, 59, 59, 59, 60, 60, 60, 60, 60, 60, 60, 61, 61, 61, 61, 61, 61, 61, 61, 61, 61, 61, 61, 61, 62, 62, 62, 62, 62, 62, 62, 62, 62, 62, 63, 63, 63, 63, 63, 63, 63, 63, 64, 64, 64, 64, 64, 64, 64, 65, 65, 65, 65, 65, 65, 65, 66, 66, 66, 66, 66, 66, 66, 66, 66, 66, 67, 67, 67, 67, 67, 68, 68, 68, 68, 68, 68, 68, 68, 68, 68, 68, 68, 69, 69, 69, 69, 69, 69, 69, 69, 69, 69, 69, 69, 69, 70, 70, 70, 70, 70, 70, 70, 70, 71, 71, 71, 71, 71, 71, 71, 71, 71, 71, 71, 71, 71, 72, 72, 72, 72, 72, 72, 72, 72, 72, 72, 72, 72, 73, 73, 73, 73, 73, 73, 73, 73, 73, 73, 73, 73, 73, 73, 74, 74, 74, 74, 74, 74, 74, 74, 74, 74, 75, 75, 75, 75, 75, 75, 75, 75, 75, 76, 76, 76, 76, 76, 76, 76, 76, 76, 76, 76, 77, 77, 77, 77, 77, 77, 77, 78, 78, 78, 78, 78, 78, 78, 78, 79, 79, 79, 79, 79, 79, 79, 79, 79, 79, 79, 80, 80, 80, 80, 80, 80, 80, 80, 80, 80, 81, 81, 81, 81, 81, 81, 81, 81, 81, 82, 82, 82, 82, 82, 82, 82, 82, 82, 82, 82, 82, 83, 83, 83, 83, 83, 83, 83, 83, 83, 83, 84, 84, 84, 84, 84, 84, 84, 84, 84, 84, 84, 84, 84, 85, 85, 85, 85, 85, 85, 85, 85, 85, 85, 85, 85, 85, 85, 85, 86, 86, 86, 86, 86, 86, 86, 86, 86, 86, 86, 86, 86, 87, 87, 87, 87, 87, 87, 87, 88, 88, 88, 88, 88, 88, 88, 88, 88, 88, 88, 89, 89, 89, 89, 89, 89, 89, 90, 90, 90, 90, 90, 90, 90, 90, 90, 90, 90, 90, 90, 91, 91, 91, 91, 91, 91, 91, 91, 91, 91, 91, 91, 91, 92, 92, 92, 92, 92, 92, 92, 92, 92, 92, 92, 92, 93, 93, 93, 93, 93, 93, 93, 93, 94, 94, 94, 94, 94, 94, 95, 95, 95, 95, 95, 95, 95, 95, 95, 96, 96, 96, 96, 96, 96, 96, 97, 97, 97, 97, 97, 97, 97, 97, 97, 97, 98, 98, 98, 98, 98, 98, 98, 98, 98, 98, 98, 99, 99, 99, 99, 99, 99, 99, 99, 99, 99, 99, 99, 99, 99, 100, 100, 100, 100, 100, 100, 100, 100, 100, 100, 100]\n",
            "First 20 items of \"sort_ascending\": \n",
            "1\n",
            "1\n",
            "1\n",
            "1\n",
            "1\n",
            "1\n",
            "1\n",
            "2\n",
            "2\n",
            "2\n",
            "2\n",
            "2\n",
            "2\n",
            "2\n",
            "2\n",
            "2\n",
            "2\n",
            "2\n",
            "3\n",
            "3\n",
            "\n",
            "Last 20 items of \"sort_ascending\": \n",
            "99\n",
            "99\n",
            "99\n",
            "99\n",
            "99\n",
            "99\n",
            "99\n",
            "99\n",
            "99\n",
            "100\n",
            "100\n",
            "100\n",
            "100\n",
            "100\n",
            "100\n",
            "100\n",
            "100\n",
            "100\n",
            "100\n",
            "100\n",
            "[100, 100, 100, 100, 100, 100, 100, 100, 100, 100, 100, 99, 99, 99, 99, 99, 99, 99, 99, 99, 99, 99, 99, 99, 99, 98, 98, 98, 98, 98, 98, 98, 98, 98, 98, 98, 97, 97, 97, 97, 97, 97, 97, 97, 97, 97, 96, 96, 96, 96, 96, 96, 96, 95, 95, 95, 95, 95, 95, 95, 95, 95, 94, 94, 94, 94, 94, 94, 93, 93, 93, 93, 93, 93, 93, 93, 92, 92, 92, 92, 92, 92, 92, 92, 92, 92, 92, 92, 91, 91, 91, 91, 91, 91, 91, 91, 91, 91, 91, 91, 91, 90, 90, 90, 90, 90, 90, 90, 90, 90, 90, 90, 90, 90, 89, 89, 89, 89, 89, 89, 89, 88, 88, 88, 88, 88, 88, 88, 88, 88, 88, 88, 87, 87, 87, 87, 87, 87, 87, 86, 86, 86, 86, 86, 86, 86, 86, 86, 86, 86, 86, 86, 85, 85, 85, 85, 85, 85, 85, 85, 85, 85, 85, 85, 85, 85, 85, 84, 84, 84, 84, 84, 84, 84, 84, 84, 84, 84, 84, 84, 83, 83, 83, 83, 83, 83, 83, 83, 83, 83, 82, 82, 82, 82, 82, 82, 82, 82, 82, 82, 82, 82, 81, 81, 81, 81, 81, 81, 81, 81, 81, 80, 80, 80, 80, 80, 80, 80, 80, 80, 80, 79, 79, 79, 79, 79, 79, 79, 79, 79, 79, 79, 78, 78, 78, 78, 78, 78, 78, 78, 77, 77, 77, 77, 77, 77, 77, 76, 76, 76, 76, 76, 76, 76, 76, 76, 76, 76, 75, 75, 75, 75, 75, 75, 75, 75, 75, 74, 74, 74, 74, 74, 74, 74, 74, 74, 74, 73, 73, 73, 73, 73, 73, 73, 73, 73, 73, 73, 73, 73, 73, 72, 72, 72, 72, 72, 72, 72, 72, 72, 72, 72, 72, 71, 71, 71, 71, 71, 71, 71, 71, 71, 71, 71, 71, 71, 70, 70, 70, 70, 70, 70, 70, 70, 69, 69, 69, 69, 69, 69, 69, 69, 69, 69, 69, 69, 69, 68, 68, 68, 68, 68, 68, 68, 68, 68, 68, 68, 68, 67, 67, 67, 67, 67, 66, 66, 66, 66, 66, 66, 66, 66, 66, 66, 65, 65, 65, 65, 65, 65, 65, 64, 64, 64, 64, 64, 64, 64, 63, 63, 63, 63, 63, 63, 63, 63, 62, 62, 62, 62, 62, 62, 62, 62, 62, 62, 61, 61, 61, 61, 61, 61, 61, 61, 61, 61, 61, 61, 61, 60, 60, 60, 60, 60, 60, 60, 59, 59, 59, 59, 59, 59, 59, 59, 59, 59, 59, 58, 58, 58, 58, 58, 58, 58, 58, 58, 58, 57, 57, 57, 57, 57, 57, 56, 56, 56, 56, 56, 56, 56, 56, 56, 56, 55, 55, 55, 55, 55, 55, 55, 54, 54, 54, 54, 54, 54, 54, 54, 54, 54, 54, 53, 53, 53, 53, 53, 53, 53, 53, 53, 52, 52, 52, 52, 52, 52, 52, 52, 52, 52, 52, 52, 52, 52, 52, 51, 51, 51, 51, 51, 51, 51, 51, 51, 51, 50, 50, 50, 50, 50, 50, 50, 50, 50, 50, 50, 49, 49, 49, 49, 48, 48, 48, 48, 48, 48, 48, 48, 47, 47, 47, 47, 47, 47, 47, 47, 47, 47, 47, 47, 46, 46, 46, 46, 46, 46, 46, 46, 46, 46, 45, 45, 45, 45, 45, 45, 44, 44, 44, 44, 44, 44, 44, 44, 44, 43, 43, 43, 43, 43, 43, 43, 43, 43, 42, 42, 42, 42, 42, 42, 42, 42, 41, 41, 41, 41, 41, 41, 41, 41, 41, 41, 41, 40, 40, 40, 40, 40, 39, 39, 39, 39, 39, 39, 39, 39, 38, 38, 38, 38, 38, 38, 38, 38, 38, 38, 38, 38, 38, 37, 37, 37, 37, 37, 37, 37, 36, 36, 36, 36, 36, 36, 36, 36, 35, 35, 35, 35, 35, 35, 35, 35, 35, 35, 35, 35, 34, 34, 34, 34, 34, 34, 34, 34, 34, 34, 34, 34, 33, 33, 33, 33, 33, 33, 33, 33, 33, 33, 32, 32, 32, 32, 32, 32, 32, 32, 31, 31, 31, 31, 31, 30, 30, 30, 30, 30, 30, 30, 29, 29, 29, 29, 29, 29, 29, 29, 29, 29, 29, 29, 29, 29, 28, 28, 28, 28, 28, 28, 28, 28, 28, 28, 28, 28, 28, 28, 28, 28, 27, 27, 27, 27, 27, 27, 27, 27, 27, 27, 27, 27, 26, 26, 26, 26, 26, 26, 26, 26, 25, 25, 25, 25, 25, 25, 25, 25, 24, 24, 24, 24, 24, 24, 24, 24, 24, 24, 23, 23, 23, 23, 23, 23, 23, 23, 23, 23, 23, 23, 23, 23, 22, 22, 22, 22, 22, 22, 22, 22, 22, 22, 22, 22, 22, 22, 21, 21, 21, 21, 21, 21, 21, 21, 21, 21, 21, 20, 20, 20, 20, 20, 20, 20, 19, 19, 19, 19, 19, 19, 19, 18, 18, 18, 18, 18, 18, 18, 18, 18, 18, 18, 18, 18, 17, 17, 17, 17, 17, 17, 17, 17, 17, 17, 17, 16, 16, 16, 16, 16, 16, 16, 16, 16, 16, 15, 15, 15, 15, 15, 15, 15, 15, 15, 15, 14, 14, 14, 14, 14, 14, 14, 14, 14, 14, 13, 13, 13, 13, 13, 13, 13, 13, 13, 13, 13, 13, 13, 13, 13, 13, 12, 12, 12, 12, 12, 12, 12, 12, 12, 12, 12, 12, 12, 11, 11, 11, 11, 11, 10, 10, 10, 10, 10, 10, 10, 10, 10, 10, 10, 10, 10, 9, 9, 9, 9, 9, 9, 9, 9, 8, 8, 8, 8, 8, 8, 8, 8, 8, 8, 8, 7, 7, 7, 7, 7, 7, 7, 7, 7, 7, 7, 7, 7, 6, 6, 6, 6, 6, 6, 6, 6, 5, 5, 5, 5, 5, 5, 5, 5, 4, 4, 4, 4, 4, 4, 4, 4, 4, 4, 4, 4, 4, 4, 3, 3, 3, 3, 3, 3, 3, 3, 3, 3, 2, 2, 2, 2, 2, 2, 2, 2, 2, 2, 2, 1, 1, 1, 1, 1, 1, 1]\n",
            "First 20 items of \"sort_descending\": \n",
            "100\n",
            "100\n",
            "100\n",
            "100\n",
            "100\n",
            "100\n",
            "100\n",
            "100\n",
            "100\n",
            "100\n",
            "100\n",
            "99\n",
            "99\n",
            "99\n",
            "99\n",
            "99\n",
            "99\n",
            "99\n",
            "99\n",
            "99\n",
            "\n",
            "Last 20 items of \"sort_descending\": \n",
            "3\n",
            "3\n",
            "2\n",
            "2\n",
            "2\n",
            "2\n",
            "2\n",
            "2\n",
            "2\n",
            "2\n",
            "2\n",
            "2\n",
            "2\n",
            "1\n",
            "1\n",
            "1\n",
            "1\n",
            "1\n",
            "1\n",
            "1\n"
          ]
        }
      ]
    },
    {
      "cell_type": "markdown",
      "metadata": {
        "id": "_OF-Xuj1UrW0"
      },
      "source": [
        "---\n",
        "### Exercise 7 - get statistics (max(), min(), sum() )\n",
        "\n",
        "Write a function which will:\n",
        "*   print the maximum and minimum numbers in the `nums` list  \n",
        "*   print the sum of the `nums` list\n",
        "*   calculate and print the average of the `nums` list (using `len()` to help)"
      ]
    },
    {
      "cell_type": "code",
      "metadata": {
        "id": "9YmYMenZVGod",
        "colab": {
          "base_uri": "https://localhost:8080/"
        },
        "outputId": "9d125f47-088e-4643-dbce-02f4d980c8af"
      },
      "source": [
        "def get_statistics():\n",
        "  new_nums = nums\n",
        "  new_nums_max = max(new_nums)\n",
        "  print(\"Maximum number: \", new_nums_max)\n",
        "  new_nums_min = min(new_nums)\n",
        "  print(\"Minimum number: \", new_nums_min)\n",
        "\n",
        "  # Sum of \"new_nums\" list:\n",
        "  new_nums_sum = 0\n",
        "  for number in new_nums:\n",
        "    new_nums_sum += number\n",
        "  print(\"Sum of \\\"new_nums\\\" list: \", new_nums_sum)\n",
        "\n",
        "  # Average of \"new_nums\" list:\n",
        "  new_nums_length = len(new_nums)\n",
        "  print(\"Items in \\\"new_nums\\\" list: \", new_nums_length)\n",
        "  new_nums_average = (new_nums_sum / new_nums_length)\n",
        "  print(\"Average of \\\"new_nums\\\" list: \", round(new_nums_average, 2))\n",
        "get_statistics()"
      ],
      "execution_count": 29,
      "outputs": [
        {
          "output_type": "stream",
          "name": "stdout",
          "text": [
            "Maximum number:  100\n",
            "Minimum number:  1\n",
            "Sum of \"new_nums\" list:  49883\n",
            "Items in \"new_nums\" list:  1000\n",
            "Average of \"new_nums\" list:  49.88\n"
          ]
        }
      ]
    },
    {
      "cell_type": "markdown",
      "metadata": {
        "id": "Mn4tHQ_KVbHa"
      },
      "source": [
        "---\n",
        "### Exercise 8 - percentage difference\n",
        "\n",
        "Write a function which will:\n",
        "*   generate a new list called **ex8_nums** using `get_num_list()`\n",
        "*   calculate and print the percentage difference between the first number in each list (as a percentage of the number in the nums list) (Hint:  find the difference between the two numbers, divide the difference by the number in `nums` and multiply by 100)\n",
        "*   calculate and print the percentage difference between the last numbers in each list in the same way\n",
        "*   calculate and print the percentage difference between the middle numbers in each list in the same way.\n",
        "*   calculate and print the percentage difference between the sums of each list in the same way"
      ]
    },
    {
      "cell_type": "code",
      "metadata": {
        "id": "nJCQjZIeZL0e"
      },
      "source": [],
      "execution_count": null,
      "outputs": []
    },
    {
      "cell_type": "markdown",
      "metadata": {
        "id": "HNs3lZmYawFO"
      },
      "source": [
        "---\n",
        "### Exercise 9 - characteristic counts\n",
        "\n",
        "Write a function which will:\n",
        "*  iterate through the `protected_characteristics` tuple and for each **characteristic**:\n",
        "*   *   count the number of occurrences of that `characteristic` in the `characteristics` list\n",
        "*   *   print the `protected_characteristic` and the **count**  \n",
        "\n",
        "Example expected output:\n",
        "\n",
        "age 100  \n",
        "disability 120  \n",
        "gender reassignment 120  \n",
        "marriage and civil partnership 111  \n",
        "pregnancy and maternity 103  \n",
        "race 106  \n",
        "religion or belief 95  \n",
        "sex 110  \n",
        "sexual orientation 113  \n",
        "\n",
        "Extra learning:  you can read [here](https://thispointer.com/python-how-to-pad-strings-with-zero-space-or-some-other-character/) how to justify the printed characteristic so that the output is organised into two columns as shown below:  \n",
        "![tabulated output](https://drive.google.com/uc?id=1CCXfX6K5ZeDefnq7vUsqxCDmqvcfY8Mz)\n",
        "\n",
        "\n",
        "\n"
      ]
    },
    {
      "cell_type": "code",
      "metadata": {
        "id": "GURT11albqUs"
      },
      "source": [],
      "execution_count": null,
      "outputs": []
    },
    {
      "cell_type": "markdown",
      "metadata": {
        "id": "9Po7yQj-ds38"
      },
      "source": [
        "---\n",
        "### Exercise 10 - characteristics statistics\n",
        "\n",
        "Assuming that the `characteristics` list may have been taken from a study of cases that have been taken to court in relation to the Equality Act.  \n",
        "\n",
        "Write a function which will:\n",
        "\n",
        "*   find the most common characteristic resulting in court action, from this population\n",
        "*   print this in a message, e.g. The characteristic with the highest number of court cases is:  *characteristic*\n",
        "*   print the list of `protected_characteristics`, on one line if possible - see [here](https://www.geeksforgeeks.org/g-fact-25-print-single-multiple-variable-python/)\n",
        "*   ask the user to enter a characteristic that they would like to see statistics on and use a while loop to continue until the user has entered a valid characteristic\n",
        "*   print the characteristic, its frequency and the percentage that this frequency is of the whole population."
      ]
    },
    {
      "cell_type": "code",
      "metadata": {
        "id": "uk_I5z7UgbDs"
      },
      "source": [],
      "execution_count": null,
      "outputs": []
    }
  ]
}