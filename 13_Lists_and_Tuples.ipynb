{
  "nbformat": 4,
  "nbformat_minor": 0,
  "metadata": {
    "colab": {
      "provenance": [],
      "include_colab_link": true
    },
    "kernelspec": {
      "name": "python3",
      "display_name": "Python 3"
    },
    "language_info": {
      "name": "python"
    }
  },
  "cells": [
    {
      "cell_type": "markdown",
      "metadata": {
        "id": "view-in-github",
        "colab_type": "text"
      },
      "source": [
        "<a href=\"https://colab.research.google.com/github/TsamayaDesigns/codeDivision-data-with-python/blob/main/13_Lists_and_Tuples.ipynb\" target=\"_parent\"><img src=\"https://colab.research.google.com/assets/colab-badge.svg\" alt=\"Open In Colab\"/></a>"
      ]
    },
    {
      "cell_type": "markdown",
      "metadata": {
        "id": "Z-M-RCWATK71"
      },
      "source": [
        "# Lists and tuples\n",
        "\n",
        "Often we need to store a number of single items of data together so that they can be processed together. This might be because all the data refers to one person (e.g. name, age, gender, etc) OR it might be because we have a set of data (e.g. all the items that should be displayed in a drop down list, such as all the years from this year back to 100 years ago so that someone can select their year of birth)\n",
        "\n",
        "Python has a range of data structures available including:\n",
        "*   lists  \n",
        "*   tuples  \n",
        "*   dictionaries  \n",
        "*   sets\n",
        "\n",
        "This worksheet looks at lists and tuples.\n",
        "\n",
        "## List\n",
        "A list is a set of related, individual data objects, that are indexed and can be processed as a whole, as subsets or as individual items.  Lists are stored, essentially, as contiguous items in memory so that access can be as quick as possible.  However, they are mutable (they can be changed after they are created and stored) and so those mechanisms need to include extra functionality to deal with changing list sizes.\n",
        "\n",
        "## Tuple\n",
        "Essentially the same as a list but it is immutable.  Once it has been created it can't be changed.  It is stored in memory as contiguous items, with the size required being fixed right from the start.  This makes it faster to access.\n",
        "\n",
        "The code below will create two lists and a tuple.\n",
        "*   the first list contains 1000 random numbers between 1 and 100\n",
        "*   the second list is of random length (up to 5000) and each item is one of the 9 characteristics that are protected under the Equality Act in the UK.\n",
        "*   the tuple contains the 9 protected characteristics\n",
        "\n",
        "Before you start the exercises, run the code below.  It will generate the lists and tuple so that you can use them in the exercises.  If you need to recreate the lists again (because you have changed them and need to work on the originals, just run this cell again).\n",
        "\n",
        "***Note:***  *a list variable contains a reference to the start of the list in memory, rather than storing the list itself.  This means that if you assign the list to another variable (to make a copy), it will only copy across the reference.  If you change the copy, you change the original list.*\n",
        "\n",
        "*If you need to make a copy of the list you will need to use a loop to create a new list and copy all items across.*"
      ]
    },
    {
      "cell_type": "code",
      "metadata": {
        "id": "BDRckXeQXFMT"
      },
      "source": [
        "from random import randint, choice\n",
        "\n",
        "def get_num_list():\n",
        "  num_list = [randint(1,100) for n in range(1000)]\n",
        "  return num_list\n",
        "\n",
        "def get_protected_characteristics():\n",
        "  characteristics_tuple = ('age','disability','gender reassignment','marriage and civil partnership','pregnancy and maternity','race','religion or belief','sex','sexual orientation')\n",
        "  return characteristics_tuple\n",
        "\n",
        "def get_protected_characteristic_list(protected_characteristics):\n",
        "  char_list = [choice(protected_characteristics) for ch in range(randint(1,5000))]\n",
        "  return char_list\n",
        "\n",
        "nums = get_num_list()\n",
        "protected_characteristics = get_protected_characteristics()\n",
        "characteristics = get_protected_characteristic_list(protected_characteristics)"
      ],
      "execution_count": null,
      "outputs": []
    },
    {
      "cell_type": "markdown",
      "metadata": {
        "id": "xXT38-4ZV45n"
      },
      "source": [
        "## The exercises below will use the lists:  \n",
        "*   **nums** (a list of between 1 and 1000 random numbers, each number is between 0 and 1000)\n",
        "*   **characteristics** (a list of 5000 random protected_characteristics)\n",
        "\n",
        "and the tuple:\n",
        "*  **protected_characteristics** (a set of the 9 protected characteristics identified in the Equality Act)\n",
        "\n",
        "## You can run the cell above any number of times to generate new lists."
      ]
    },
    {
      "cell_type": "markdown",
      "metadata": {
        "id": "Ft0dXl7fUuaK"
      },
      "source": [
        "---\n",
        "### Exercise 1 - list head, tail and shape\n",
        "\n",
        "Write a function, **describe_list()** which will:\n",
        "*  print the length of the list `nums`\n",
        "*  print the first 10 items in `nums`  \n",
        "*  print the last 5 items in `nums`"
      ]
    },
    {
      "cell_type": "code",
      "metadata": {
        "id": "jUcZD7mmTJdA",
        "colab": {
          "base_uri": "https://localhost:8080/"
        },
        "outputId": "64967829-0369-465a-fa13-f428c84f33c9"
      },
      "source": [
        "def describe_list():\n",
        "  length_of_nums = len(nums)\n",
        "  print(\"Length of nums-list: \", length_of_nums)\n",
        "\n",
        "  # Print first 10 items\n",
        "  print(\"The first 10 items: \")\n",
        "  i = 0\n",
        "  while i < 10:\n",
        "    print(nums[i])\n",
        "    i = i + 1\n",
        "\n",
        "  # Print last 5 items\n",
        "  print(\"The last 5 items: \")\n",
        "  for n in nums[-1:-6:-1]:\n",
        "    print(n)\n",
        "\n",
        "describe_list()"
      ],
      "execution_count": null,
      "outputs": [
        {
          "output_type": "stream",
          "name": "stdout",
          "text": [
            "Length of nums-list:  1000\n",
            "The first 10 items: \n",
            "83\n",
            "59\n",
            "30\n",
            "2\n",
            "100\n",
            "87\n",
            "24\n",
            "77\n",
            "47\n",
            "81\n",
            "The last 5 items: \n",
            "66\n",
            "19\n",
            "37\n",
            "72\n",
            "1\n"
          ]
        }
      ]
    },
    {
      "cell_type": "markdown",
      "metadata": {
        "id": "yNWg08k6bXv0"
      },
      "source": [
        "---\n",
        "### Exercise 2 - show tuple items\n",
        "\n",
        "Write a function which will:\n",
        "*   use a loop to print the list of protected characteristics from the `protected_characteristics` tuple.\n"
      ]
    },
    {
      "cell_type": "code",
      "metadata": {
        "id": "P2HnCG9pb1BS",
        "colab": {
          "base_uri": "https://localhost:8080/"
        },
        "outputId": "06bee9d6-b870-41b9-eec8-557d9905c08d"
      },
      "source": [
        "def show_tuple_items():\n",
        "  for i in protected_characteristics:\n",
        "    print(i)\n",
        "    i += i\n",
        "\n",
        "show_tuple_items()"
      ],
      "execution_count": null,
      "outputs": [
        {
          "output_type": "stream",
          "name": "stdout",
          "text": [
            "age\n",
            "disability\n",
            "gender reassignment\n",
            "marriage and civil partnership\n",
            "pregnancy and maternity\n",
            "race\n",
            "religion or belief\n",
            "sex\n",
            "sexual orientation\n"
          ]
        }
      ]
    },
    {
      "cell_type": "markdown",
      "metadata": {
        "id": "RTSuQZs4b1JU"
      },
      "source": [
        "---\n",
        "### Exercise 3 - list a random subset\n",
        "\n",
        "Write a function which will:\n",
        "*  calculate the position of the middle item in the `characteristics` list   \n",
        "(*Hint: use len() to help with this*)\n",
        "*  calculate the position of the item that is 5 places before the middle item\n",
        "*  calculate the position of the item that is 5 places after the middle item\n",
        "*  print the part of the list that includes the items from 5 places before to 5 places after.  \n",
        "\n",
        "Expected output:  \n",
        "Your list will include 11 items."
      ]
    },
    {
      "cell_type": "code",
      "metadata": {
        "id": "OwhFnH2kdC11",
        "colab": {
          "base_uri": "https://localhost:8080/"
        },
        "outputId": "0d06895f-54a1-4efd-94a1-2b22ce85738b"
      },
      "source": [
        "# Calculate the middle of list\n",
        "def position_of_middle_item():\n",
        "  length_of_list = len(characteristics)\n",
        "  middle_of_list = length_of_list // 2\n",
        "\n",
        "  if (length_of_list % 2) >= 0.5:\n",
        "    middle_of_list += 1\n",
        "  return middle_of_list\n",
        "\n",
        "position_of_middle_item()\n",
        "\n",
        "# Find 5 places BEFORE middle\n",
        "def five_before():\n",
        "  five_places_before = (middle - 5)\n",
        "  return five_places_before\n",
        "\n",
        "five_before()\n",
        "\n",
        "# Find 5 places AFTER middle\n",
        "def five_after():\n",
        "  five_places_after = (middle + 6)\n",
        "  return five_places_after\n",
        "\n",
        "five_after()\n",
        "\n",
        "middle = position_of_middle_item()\n",
        "begin = five_before()\n",
        "end = five_after()\n",
        "\n",
        "message = \"List begins at position: {}, and ends at position: {} (this is to make provision for using \\\"range()\\\" in the \\\"for\\\" loop).\\nThe middle of the list is at position: {}.\\n\"\n",
        "print(message.format(begin, end, middle))\n",
        "\n",
        "# Print the part of the list that includes the items from 5 places before to 5 places after:\n",
        "def print_range():\n",
        "  print(\"The items from 5 places BEFORE to 5 places AFTER the middle of the list are:\")\n",
        "  for i in range(begin, end):\n",
        "    print(characteristics[i])\n",
        "\n",
        "print_range()\n",
        "\n"
      ],
      "execution_count": null,
      "outputs": [
        {
          "output_type": "stream",
          "name": "stdout",
          "text": [
            "List begins at position: 341, and ends at position: 352 (this is to make provision for using \"range()\" in the \"for\" loop).\n",
            "The middle of the list is at position: 346.\n",
            "\n",
            "The items from 5 places BEFORE to 5 places AFTER the middle of the list are:\n",
            "religion or belief\n",
            "age\n",
            "gender reassignment\n",
            "sexual orientation\n",
            "race\n",
            "pregnancy and maternity\n",
            "sexual orientation\n",
            "pregnancy and maternity\n",
            "gender reassignment\n",
            "age\n",
            "disability\n"
          ]
        }
      ]
    },
    {
      "cell_type": "markdown",
      "metadata": {
        "id": "KS0x3oFNePI9"
      },
      "source": [
        "---\n",
        "### Exercise 4 - create a copy\n",
        "\n",
        "Write a function which will: use a for loop to create a copy of the `nums` list:\n",
        "\n",
        "*   create a new, empty, list called **new_nums**  (*Hint: an empty list is [ ]*)\n",
        "*   use a for loop which uses the following syntax:  `for num in nums:`\n",
        "*   each time round the loop append `num` to `new_nums`  ( *`new_nums.append(num)`*)\n",
        "*   print the first 10 items of `new_nums`\n",
        "*   print the first 10 items of `nums`\n",
        "*   print the length of both lists"
      ]
    },
    {
      "cell_type": "code",
      "metadata": {
        "id": "mpK1Ip3we-uC",
        "colab": {
          "base_uri": "https://localhost:8080/"
        },
        "outputId": "b526a662-655b-45bd-edce-fc85e63a0457"
      },
      "source": [
        "def create_copy():\n",
        "  new_nums = []\n",
        "\n",
        "  for num in nums:\n",
        "    new_nums.append(num)\n",
        "\n",
        "  print(\"Items in \\\"new_nums\\\": \", len(new_nums))\n",
        "  print(\"First 10 items of \\\"new_nums\\\": \")\n",
        "\n",
        "  for i in range(1, 11):\n",
        "    print(new_nums[i])\n",
        "\n",
        "  print(\"\\nItems in \\\"nums\\\": \", len(nums))\n",
        "  print(\"First 10 items of \\\"nums\\\": \")\n",
        "\n",
        "  for i in range(1, 11):\n",
        "    print(nums[i])\n",
        "\n",
        "create_copy()"
      ],
      "execution_count": null,
      "outputs": [
        {
          "output_type": "stream",
          "name": "stdout",
          "text": [
            "Items in \"new_nums\":  1000\n",
            "First 10 items of \"new_nums\": \n",
            "59\n",
            "30\n",
            "2\n",
            "100\n",
            "87\n",
            "24\n",
            "77\n",
            "47\n",
            "81\n",
            "88\n",
            "\n",
            "Items in \"nums\":  1000\n",
            "First 10 items of \"nums\": \n",
            "59\n",
            "30\n",
            "2\n",
            "100\n",
            "87\n",
            "24\n",
            "77\n",
            "47\n",
            "81\n",
            "88\n"
          ]
        }
      ]
    },
    {
      "cell_type": "markdown",
      "metadata": {
        "id": "deUIFWjRe-3G"
      },
      "source": [
        "\n",
        "\n",
        "```\n",
        "# This is formatted as code\n",
        "```\n",
        "\n",
        "---\n",
        "### Exercise 5 - count the occurrence of age in characteristics\n",
        "\n",
        "Write a function which will use the list method:\n",
        "\n",
        "`num_items = list_name.count(item)`\n",
        "\n",
        "to count the number of occurrences of 'age' in the `characteristics` list.  Print the result."
      ]
    },
    {
      "cell_type": "code",
      "metadata": {
        "id": "b9TrHQ9hfoIU",
        "colab": {
          "base_uri": "https://localhost:8080/"
        },
        "outputId": "d3f62fe0-f9bb-45ef-e91a-c208c4506b9f"
      },
      "source": [
        "def count_occurence():\n",
        "  item = \"age\"\n",
        "  list_name = characteristics\n",
        "  num_items = list_name.count(item)\n",
        "  print(num_items, \"occurrences.\")\n",
        "\n",
        "count_occurence()"
      ],
      "execution_count": null,
      "outputs": [
        {
          "output_type": "stream",
          "name": "stdout",
          "text": [
            "60 occurrences.\n"
          ]
        }
      ]
    },
    {
      "cell_type": "markdown",
      "metadata": {
        "id": "zm2VI5RmfoSy"
      },
      "source": [
        "---\n",
        "### Exercise 6 - sort the nums list\n",
        "\n",
        "Write a function which will:\n",
        "*   call the function `get_num_list()` and store the result in a new list called **sort_nums**\n",
        "*   print the first, and last, 20 items in the `sort_nums` list\n",
        "*   use the `list_name.sort()` method to sort the `sort_nums` list into ascending order\n",
        "*   print the first, and last, 20 items again  \n",
        "*   use the `list_name.sort()` method again to sort the `sort_nums` list into descending order\n",
        "*   print the first, and last, 20 items again"
      ]
    },
    {
      "cell_type": "code",
      "metadata": {
        "id": "Fksgpj9JgWDs",
        "colab": {
          "base_uri": "https://localhost:8080/"
        },
        "outputId": "5e700c0b-0c62-4a00-f2a7-6739fb0d2645"
      },
      "source": [
        "def sort_nums_list():\n",
        "  sort_nums = get_num_list()\n",
        "  print(sort_nums)\n",
        "\n",
        "# Print first 20 items\n",
        "  print(\"First 20 items of \\\"sort_nums\\\": \")\n",
        "\n",
        "  for i in range(0, 20):\n",
        "    print(sort_nums[i])\n",
        "\n",
        "# Print last 20 items\n",
        "  print(\"\\nLast 20 items of \\\"sort_nums\\\": \")\n",
        "\n",
        "  for i in range(len(sort_nums) - 20, len(sort_nums)):\n",
        "    print(sort_nums[i])\n",
        "\n",
        "# Sort list into ascending order\n",
        "  sort_ascending = sort_nums\n",
        "  sort_ascending.sort()\n",
        "  print(sort_ascending)\n",
        "\n",
        "# Print first 20 items\n",
        "  print(\"First 20 items of \\\"sort_ascending\\\": \")\n",
        "\n",
        "  for i in range(0, 20):\n",
        "    print(sort_ascending[i])\n",
        "\n",
        "# Print last 20 items\n",
        "  print(\"\\nLast 20 items of \\\"sort_ascending\\\": \")\n",
        "\n",
        "  for i in range(len(sort_ascending) - 20, len(sort_ascending)):\n",
        "    print(sort_ascending[i])\n",
        "\n",
        "# Sort list into descending order\n",
        "  sort_descending = sort_nums\n",
        "  sort_descending.sort(reverse = True)\n",
        "  print(sort_descending)\n",
        "\n",
        "# Print first 20 items\n",
        "  print(\"First 20 items of \\\"sort_descending\\\": \")\n",
        "\n",
        "  for i in range(0, 20):\n",
        "    print(sort_descending[i])\n",
        "\n",
        "# Print last 20 items\n",
        "  print(\"\\nLast 20 items of \\\"sort_descending\\\": \")\n",
        "\n",
        "  for i in range(len(sort_ascending) - 20, len(sort_descending)):\n",
        "    print(sort_descending[i])\n",
        "\n",
        "sort_nums_list()"
      ],
      "execution_count": null,
      "outputs": [
        {
          "output_type": "stream",
          "name": "stdout",
          "text": [
            "[88, 68, 97, 86, 35, 86, 19, 100, 50, 71, 10, 47, 53, 71, 91, 47, 6, 35, 65, 70, 99, 45, 37, 31, 6, 17, 78, 81, 78, 9, 7, 92, 15, 71, 41, 19, 55, 36, 52, 30, 99, 66, 13, 35, 87, 32, 86, 19, 8, 18, 94, 2, 96, 55, 28, 23, 25, 67, 2, 45, 95, 33, 63, 67, 69, 59, 70, 9, 11, 83, 36, 55, 39, 53, 15, 71, 22, 52, 17, 4, 27, 62, 32, 12, 8, 32, 49, 21, 39, 95, 3, 71, 49, 52, 3, 23, 62, 15, 95, 79, 68, 37, 66, 48, 10, 85, 29, 81, 27, 57, 26, 9, 30, 31, 2, 28, 12, 4, 13, 31, 32, 86, 90, 16, 86, 82, 24, 96, 32, 93, 35, 86, 64, 28, 15, 68, 85, 7, 1, 19, 64, 38, 19, 4, 46, 46, 58, 93, 72, 99, 50, 74, 57, 96, 29, 83, 95, 17, 59, 15, 87, 55, 65, 71, 56, 37, 53, 21, 4, 8, 39, 50, 20, 6, 53, 42, 8, 22, 91, 97, 54, 34, 48, 26, 24, 46, 15, 63, 41, 85, 86, 8, 42, 10, 42, 23, 47, 32, 40, 7, 89, 6, 92, 45, 74, 11, 91, 55, 8, 5, 26, 92, 15, 13, 16, 42, 92, 14, 49, 97, 91, 20, 17, 74, 51, 9, 82, 48, 23, 63, 60, 76, 15, 34, 53, 17, 31, 65, 49, 48, 25, 86, 10, 27, 76, 76, 78, 80, 47, 67, 49, 59, 73, 89, 71, 94, 7, 95, 45, 86, 18, 14, 97, 91, 60, 87, 52, 76, 1, 97, 46, 42, 79, 15, 57, 2, 74, 73, 46, 80, 29, 54, 74, 93, 100, 98, 51, 30, 61, 24, 49, 34, 97, 2, 10, 51, 58, 77, 56, 99, 33, 83, 27, 57, 20, 13, 26, 45, 16, 54, 85, 53, 69, 40, 96, 26, 38, 92, 100, 81, 11, 80, 51, 79, 60, 87, 37, 97, 95, 32, 12, 71, 51, 3, 45, 88, 94, 34, 65, 56, 37, 13, 5, 91, 33, 88, 61, 66, 15, 48, 33, 38, 21, 65, 82, 14, 30, 91, 27, 15, 94, 90, 53, 40, 47, 87, 37, 20, 21, 100, 88, 60, 36, 32, 88, 40, 40, 77, 95, 100, 67, 68, 71, 22, 3, 54, 8, 72, 64, 25, 9, 31, 93, 21, 8, 83, 98, 100, 32, 47, 45, 77, 62, 8, 99, 63, 15, 25, 55, 43, 27, 59, 88, 39, 98, 43, 23, 58, 67, 15, 95, 76, 78, 98, 74, 95, 16, 46, 75, 37, 28, 47, 78, 94, 18, 17, 61, 37, 36, 96, 59, 2, 84, 17, 5, 79, 48, 82, 24, 38, 95, 85, 81, 37, 74, 95, 3, 66, 99, 81, 95, 2, 33, 13, 33, 85, 39, 7, 66, 24, 38, 3, 74, 77, 87, 67, 68, 9, 93, 64, 86, 70, 73, 62, 79, 13, 46, 61, 74, 85, 53, 29, 33, 12, 99, 57, 31, 28, 74, 35, 8, 99, 23, 13, 23, 87, 41, 93, 2, 17, 53, 79, 74, 32, 63, 15, 36, 80, 44, 14, 30, 54, 10, 41, 56, 52, 58, 87, 99, 75, 99, 39, 69, 33, 11, 16, 8, 43, 20, 77, 68, 55, 24, 100, 39, 91, 36, 69, 9, 48, 44, 81, 17, 38, 98, 50, 7, 4, 87, 15, 62, 83, 94, 6, 41, 10, 42, 75, 41, 88, 90, 18, 41, 41, 93, 76, 87, 31, 74, 65, 47, 62, 91, 40, 75, 95, 33, 59, 11, 11, 62, 98, 33, 65, 31, 13, 59, 48, 85, 55, 86, 97, 5, 36, 1, 60, 97, 46, 35, 15, 54, 93, 27, 89, 24, 21, 60, 52, 64, 27, 20, 78, 13, 7, 85, 8, 51, 52, 4, 21, 31, 7, 50, 13, 38, 79, 62, 92, 60, 60, 8, 81, 91, 45, 44, 25, 23, 52, 76, 2, 86, 90, 78, 29, 51, 42, 49, 1, 74, 21, 79, 23, 72, 39, 5, 59, 56, 59, 73, 36, 52, 63, 75, 41, 51, 99, 72, 85, 84, 47, 53, 46, 67, 31, 60, 4, 88, 60, 89, 31, 64, 63, 58, 37, 36, 47, 2, 96, 32, 15, 50, 36, 20, 84, 29, 88, 32, 47, 82, 21, 56, 84, 75, 93, 40, 85, 46, 33, 13, 10, 34, 39, 36, 45, 31, 76, 36, 22, 45, 71, 48, 91, 93, 44, 32, 71, 98, 38, 56, 1, 71, 36, 39, 46, 13, 6, 90, 77, 63, 55, 71, 68, 37, 96, 22, 14, 13, 17, 92, 9, 55, 30, 18, 91, 1, 37, 87, 54, 31, 14, 70, 27, 91, 43, 95, 12, 86, 51, 11, 28, 32, 50, 71, 96, 70, 29, 2, 7, 97, 62, 97, 63, 81, 42, 55, 30, 49, 76, 43, 62, 74, 56, 71, 79, 23, 62, 74, 88, 87, 34, 63, 3, 1, 71, 1, 71, 25, 67, 73, 87, 90, 5, 25, 88, 6, 36, 49, 41, 79, 80, 19, 22, 15, 16, 88, 38, 67, 50, 14, 89, 99, 89, 63, 25, 53, 26, 9, 93, 61, 32, 81, 52, 68, 40, 69, 82, 100, 80, 74, 84, 29, 74, 61, 54, 45, 32, 84, 100, 70, 43, 64, 30, 30, 56, 75, 27, 55, 47, 43, 52, 90, 36, 17, 30, 53, 71, 63, 11, 70, 34, 32, 42, 7, 2, 100, 14, 69, 91, 14, 82, 82, 99, 8, 72, 75, 14, 19, 3, 54, 87, 7, 5, 37, 93, 47, 42, 51, 71, 96, 29, 83, 45, 50, 30, 83, 45, 87, 100, 5, 82, 36, 29, 99, 34, 95, 35, 58, 91, 57, 39, 33, 78, 39, 6, 51, 66, 94, 83, 5, 90, 56, 9, 99, 100, 3, 22, 29, 49, 39, 50, 11, 44, 100, 18, 93, 74, 37, 41, 50, 7, 87, 64, 71, 62, 92, 86, 61, 66, 64, 35, 95, 90, 53, 31, 18, 37, 4, 49, 88, 41, 13, 94, 76, 100, 32, 26, 64, 93, 4, 6]\n",
            "First 20 items of \"sort_nums\": \n",
            "88\n",
            "68\n",
            "97\n",
            "86\n",
            "35\n",
            "86\n",
            "19\n",
            "100\n",
            "50\n",
            "71\n",
            "10\n",
            "47\n",
            "53\n",
            "71\n",
            "91\n",
            "47\n",
            "6\n",
            "35\n",
            "65\n",
            "70\n",
            "\n",
            "Last 20 items of \"sort_nums\": \n",
            "95\n",
            "90\n",
            "53\n",
            "31\n",
            "18\n",
            "37\n",
            "4\n",
            "49\n",
            "88\n",
            "41\n",
            "13\n",
            "94\n",
            "76\n",
            "100\n",
            "32\n",
            "26\n",
            "64\n",
            "93\n",
            "4\n",
            "6\n",
            "[1, 1, 1, 1, 1, 1, 1, 1, 2, 2, 2, 2, 2, 2, 2, 2, 2, 2, 2, 2, 3, 3, 3, 3, 3, 3, 3, 3, 3, 4, 4, 4, 4, 4, 4, 4, 4, 4, 5, 5, 5, 5, 5, 5, 5, 5, 5, 6, 6, 6, 6, 6, 6, 6, 6, 6, 7, 7, 7, 7, 7, 7, 7, 7, 7, 7, 7, 7, 8, 8, 8, 8, 8, 8, 8, 8, 8, 8, 8, 8, 8, 8, 9, 9, 9, 9, 9, 9, 9, 9, 9, 9, 10, 10, 10, 10, 10, 10, 10, 10, 11, 11, 11, 11, 11, 11, 11, 11, 11, 12, 12, 12, 12, 12, 13, 13, 13, 13, 13, 13, 13, 13, 13, 13, 13, 13, 13, 13, 13, 14, 14, 14, 14, 14, 14, 14, 14, 14, 14, 15, 15, 15, 15, 15, 15, 15, 15, 15, 15, 15, 15, 15, 15, 15, 15, 15, 15, 16, 16, 16, 16, 16, 16, 17, 17, 17, 17, 17, 17, 17, 17, 17, 17, 17, 18, 18, 18, 18, 18, 18, 18, 19, 19, 19, 19, 19, 19, 19, 20, 20, 20, 20, 20, 20, 20, 21, 21, 21, 21, 21, 21, 21, 21, 21, 22, 22, 22, 22, 22, 22, 22, 23, 23, 23, 23, 23, 23, 23, 23, 23, 23, 24, 24, 24, 24, 24, 24, 24, 25, 25, 25, 25, 25, 25, 25, 25, 26, 26, 26, 26, 26, 26, 26, 27, 27, 27, 27, 27, 27, 27, 27, 27, 27, 28, 28, 28, 28, 28, 28, 29, 29, 29, 29, 29, 29, 29, 29, 29, 29, 29, 30, 30, 30, 30, 30, 30, 30, 30, 30, 30, 30, 31, 31, 31, 31, 31, 31, 31, 31, 31, 31, 31, 31, 31, 31, 32, 32, 32, 32, 32, 32, 32, 32, 32, 32, 32, 32, 32, 32, 32, 32, 32, 32, 33, 33, 33, 33, 33, 33, 33, 33, 33, 33, 33, 33, 34, 34, 34, 34, 34, 34, 34, 34, 35, 35, 35, 35, 35, 35, 35, 35, 36, 36, 36, 36, 36, 36, 36, 36, 36, 36, 36, 36, 36, 36, 36, 36, 37, 37, 37, 37, 37, 37, 37, 37, 37, 37, 37, 37, 37, 37, 37, 38, 38, 38, 38, 38, 38, 38, 38, 38, 39, 39, 39, 39, 39, 39, 39, 39, 39, 39, 39, 39, 39, 40, 40, 40, 40, 40, 40, 40, 40, 41, 41, 41, 41, 41, 41, 41, 41, 41, 41, 41, 41, 42, 42, 42, 42, 42, 42, 42, 42, 42, 42, 43, 43, 43, 43, 43, 43, 43, 44, 44, 44, 44, 44, 45, 45, 45, 45, 45, 45, 45, 45, 45, 45, 45, 45, 45, 46, 46, 46, 46, 46, 46, 46, 46, 46, 46, 46, 47, 47, 47, 47, 47, 47, 47, 47, 47, 47, 47, 47, 47, 48, 48, 48, 48, 48, 48, 48, 48, 48, 49, 49, 49, 49, 49, 49, 49, 49, 49, 49, 49, 50, 50, 50, 50, 50, 50, 50, 50, 50, 50, 50, 51, 51, 51, 51, 51, 51, 51, 51, 51, 51, 51, 52, 52, 52, 52, 52, 52, 52, 52, 52, 52, 52, 53, 53, 53, 53, 53, 53, 53, 53, 53, 53, 53, 53, 53, 54, 54, 54, 54, 54, 54, 54, 54, 54, 55, 55, 55, 55, 55, 55, 55, 55, 55, 55, 55, 55, 56, 56, 56, 56, 56, 56, 56, 56, 56, 56, 57, 57, 57, 57, 57, 57, 58, 58, 58, 58, 58, 58, 59, 59, 59, 59, 59, 59, 59, 59, 59, 60, 60, 60, 60, 60, 60, 60, 60, 60, 60, 61, 61, 61, 61, 61, 61, 61, 62, 62, 62, 62, 62, 62, 62, 62, 62, 62, 62, 62, 63, 63, 63, 63, 63, 63, 63, 63, 63, 63, 63, 63, 64, 64, 64, 64, 64, 64, 64, 64, 64, 64, 65, 65, 65, 65, 65, 65, 65, 66, 66, 66, 66, 66, 66, 66, 67, 67, 67, 67, 67, 67, 67, 67, 67, 68, 68, 68, 68, 68, 68, 68, 68, 69, 69, 69, 69, 69, 69, 70, 70, 70, 70, 70, 70, 70, 71, 71, 71, 71, 71, 71, 71, 71, 71, 71, 71, 71, 71, 71, 71, 71, 71, 71, 71, 71, 72, 72, 72, 72, 72, 73, 73, 73, 73, 73, 74, 74, 74, 74, 74, 74, 74, 74, 74, 74, 74, 74, 74, 74, 74, 74, 74, 74, 75, 75, 75, 75, 75, 75, 75, 75, 76, 76, 76, 76, 76, 76, 76, 76, 76, 76, 77, 77, 77, 77, 77, 77, 78, 78, 78, 78, 78, 78, 78, 78, 79, 79, 79, 79, 79, 79, 79, 79, 79, 79, 80, 80, 80, 80, 80, 80, 81, 81, 81, 81, 81, 81, 81, 81, 81, 82, 82, 82, 82, 82, 82, 82, 82, 82, 83, 83, 83, 83, 83, 83, 83, 83, 84, 84, 84, 84, 84, 84, 85, 85, 85, 85, 85, 85, 85, 85, 85, 85, 85, 86, 86, 86, 86, 86, 86, 86, 86, 86, 86, 86, 86, 86, 86, 87, 87, 87, 87, 87, 87, 87, 87, 87, 87, 87, 87, 87, 87, 87, 87, 88, 88, 88, 88, 88, 88, 88, 88, 88, 88, 88, 88, 88, 89, 89, 89, 89, 89, 89, 90, 90, 90, 90, 90, 90, 90, 90, 90, 91, 91, 91, 91, 91, 91, 91, 91, 91, 91, 91, 91, 91, 91, 91, 92, 92, 92, 92, 92, 92, 92, 92, 93, 93, 93, 93, 93, 93, 93, 93, 93, 93, 93, 93, 93, 93, 94, 94, 94, 94, 94, 94, 94, 94, 95, 95, 95, 95, 95, 95, 95, 95, 95, 95, 95, 95, 95, 95, 95, 95, 96, 96, 96, 96, 96, 96, 96, 96, 96, 97, 97, 97, 97, 97, 97, 97, 97, 97, 97, 97, 98, 98, 98, 98, 98, 98, 98, 99, 99, 99, 99, 99, 99, 99, 99, 99, 99, 99, 99, 99, 99, 99, 100, 100, 100, 100, 100, 100, 100, 100, 100, 100, 100, 100, 100, 100]\n",
            "First 20 items of \"sort_ascending\": \n",
            "1\n",
            "1\n",
            "1\n",
            "1\n",
            "1\n",
            "1\n",
            "1\n",
            "1\n",
            "2\n",
            "2\n",
            "2\n",
            "2\n",
            "2\n",
            "2\n",
            "2\n",
            "2\n",
            "2\n",
            "2\n",
            "2\n",
            "2\n",
            "\n",
            "Last 20 items of \"sort_ascending\": \n",
            "99\n",
            "99\n",
            "99\n",
            "99\n",
            "99\n",
            "99\n",
            "100\n",
            "100\n",
            "100\n",
            "100\n",
            "100\n",
            "100\n",
            "100\n",
            "100\n",
            "100\n",
            "100\n",
            "100\n",
            "100\n",
            "100\n",
            "100\n",
            "[100, 100, 100, 100, 100, 100, 100, 100, 100, 100, 100, 100, 100, 100, 99, 99, 99, 99, 99, 99, 99, 99, 99, 99, 99, 99, 99, 99, 99, 98, 98, 98, 98, 98, 98, 98, 97, 97, 97, 97, 97, 97, 97, 97, 97, 97, 97, 96, 96, 96, 96, 96, 96, 96, 96, 96, 95, 95, 95, 95, 95, 95, 95, 95, 95, 95, 95, 95, 95, 95, 95, 95, 94, 94, 94, 94, 94, 94, 94, 94, 93, 93, 93, 93, 93, 93, 93, 93, 93, 93, 93, 93, 93, 93, 92, 92, 92, 92, 92, 92, 92, 92, 91, 91, 91, 91, 91, 91, 91, 91, 91, 91, 91, 91, 91, 91, 91, 90, 90, 90, 90, 90, 90, 90, 90, 90, 89, 89, 89, 89, 89, 89, 88, 88, 88, 88, 88, 88, 88, 88, 88, 88, 88, 88, 88, 87, 87, 87, 87, 87, 87, 87, 87, 87, 87, 87, 87, 87, 87, 87, 87, 86, 86, 86, 86, 86, 86, 86, 86, 86, 86, 86, 86, 86, 86, 85, 85, 85, 85, 85, 85, 85, 85, 85, 85, 85, 84, 84, 84, 84, 84, 84, 83, 83, 83, 83, 83, 83, 83, 83, 82, 82, 82, 82, 82, 82, 82, 82, 82, 81, 81, 81, 81, 81, 81, 81, 81, 81, 80, 80, 80, 80, 80, 80, 79, 79, 79, 79, 79, 79, 79, 79, 79, 79, 78, 78, 78, 78, 78, 78, 78, 78, 77, 77, 77, 77, 77, 77, 76, 76, 76, 76, 76, 76, 76, 76, 76, 76, 75, 75, 75, 75, 75, 75, 75, 75, 74, 74, 74, 74, 74, 74, 74, 74, 74, 74, 74, 74, 74, 74, 74, 74, 74, 74, 73, 73, 73, 73, 73, 72, 72, 72, 72, 72, 71, 71, 71, 71, 71, 71, 71, 71, 71, 71, 71, 71, 71, 71, 71, 71, 71, 71, 71, 71, 70, 70, 70, 70, 70, 70, 70, 69, 69, 69, 69, 69, 69, 68, 68, 68, 68, 68, 68, 68, 68, 67, 67, 67, 67, 67, 67, 67, 67, 67, 66, 66, 66, 66, 66, 66, 66, 65, 65, 65, 65, 65, 65, 65, 64, 64, 64, 64, 64, 64, 64, 64, 64, 64, 63, 63, 63, 63, 63, 63, 63, 63, 63, 63, 63, 63, 62, 62, 62, 62, 62, 62, 62, 62, 62, 62, 62, 62, 61, 61, 61, 61, 61, 61, 61, 60, 60, 60, 60, 60, 60, 60, 60, 60, 60, 59, 59, 59, 59, 59, 59, 59, 59, 59, 58, 58, 58, 58, 58, 58, 57, 57, 57, 57, 57, 57, 56, 56, 56, 56, 56, 56, 56, 56, 56, 56, 55, 55, 55, 55, 55, 55, 55, 55, 55, 55, 55, 55, 54, 54, 54, 54, 54, 54, 54, 54, 54, 53, 53, 53, 53, 53, 53, 53, 53, 53, 53, 53, 53, 53, 52, 52, 52, 52, 52, 52, 52, 52, 52, 52, 52, 51, 51, 51, 51, 51, 51, 51, 51, 51, 51, 51, 50, 50, 50, 50, 50, 50, 50, 50, 50, 50, 50, 49, 49, 49, 49, 49, 49, 49, 49, 49, 49, 49, 48, 48, 48, 48, 48, 48, 48, 48, 48, 47, 47, 47, 47, 47, 47, 47, 47, 47, 47, 47, 47, 47, 46, 46, 46, 46, 46, 46, 46, 46, 46, 46, 46, 45, 45, 45, 45, 45, 45, 45, 45, 45, 45, 45, 45, 45, 44, 44, 44, 44, 44, 43, 43, 43, 43, 43, 43, 43, 42, 42, 42, 42, 42, 42, 42, 42, 42, 42, 41, 41, 41, 41, 41, 41, 41, 41, 41, 41, 41, 41, 40, 40, 40, 40, 40, 40, 40, 40, 39, 39, 39, 39, 39, 39, 39, 39, 39, 39, 39, 39, 39, 38, 38, 38, 38, 38, 38, 38, 38, 38, 37, 37, 37, 37, 37, 37, 37, 37, 37, 37, 37, 37, 37, 37, 37, 36, 36, 36, 36, 36, 36, 36, 36, 36, 36, 36, 36, 36, 36, 36, 36, 35, 35, 35, 35, 35, 35, 35, 35, 34, 34, 34, 34, 34, 34, 34, 34, 33, 33, 33, 33, 33, 33, 33, 33, 33, 33, 33, 33, 32, 32, 32, 32, 32, 32, 32, 32, 32, 32, 32, 32, 32, 32, 32, 32, 32, 32, 31, 31, 31, 31, 31, 31, 31, 31, 31, 31, 31, 31, 31, 31, 30, 30, 30, 30, 30, 30, 30, 30, 30, 30, 30, 29, 29, 29, 29, 29, 29, 29, 29, 29, 29, 29, 28, 28, 28, 28, 28, 28, 27, 27, 27, 27, 27, 27, 27, 27, 27, 27, 26, 26, 26, 26, 26, 26, 26, 25, 25, 25, 25, 25, 25, 25, 25, 24, 24, 24, 24, 24, 24, 24, 23, 23, 23, 23, 23, 23, 23, 23, 23, 23, 22, 22, 22, 22, 22, 22, 22, 21, 21, 21, 21, 21, 21, 21, 21, 21, 20, 20, 20, 20, 20, 20, 20, 19, 19, 19, 19, 19, 19, 19, 18, 18, 18, 18, 18, 18, 18, 17, 17, 17, 17, 17, 17, 17, 17, 17, 17, 17, 16, 16, 16, 16, 16, 16, 15, 15, 15, 15, 15, 15, 15, 15, 15, 15, 15, 15, 15, 15, 15, 15, 15, 15, 14, 14, 14, 14, 14, 14, 14, 14, 14, 14, 13, 13, 13, 13, 13, 13, 13, 13, 13, 13, 13, 13, 13, 13, 13, 12, 12, 12, 12, 12, 11, 11, 11, 11, 11, 11, 11, 11, 11, 10, 10, 10, 10, 10, 10, 10, 10, 9, 9, 9, 9, 9, 9, 9, 9, 9, 9, 8, 8, 8, 8, 8, 8, 8, 8, 8, 8, 8, 8, 8, 8, 7, 7, 7, 7, 7, 7, 7, 7, 7, 7, 7, 7, 6, 6, 6, 6, 6, 6, 6, 6, 6, 5, 5, 5, 5, 5, 5, 5, 5, 5, 4, 4, 4, 4, 4, 4, 4, 4, 4, 3, 3, 3, 3, 3, 3, 3, 3, 3, 2, 2, 2, 2, 2, 2, 2, 2, 2, 2, 2, 2, 1, 1, 1, 1, 1, 1, 1, 1]\n",
            "First 20 items of \"sort_descending\": \n",
            "100\n",
            "100\n",
            "100\n",
            "100\n",
            "100\n",
            "100\n",
            "100\n",
            "100\n",
            "100\n",
            "100\n",
            "100\n",
            "100\n",
            "100\n",
            "100\n",
            "99\n",
            "99\n",
            "99\n",
            "99\n",
            "99\n",
            "99\n",
            "\n",
            "Last 20 items of \"sort_descending\": \n",
            "2\n",
            "2\n",
            "2\n",
            "2\n",
            "2\n",
            "2\n",
            "2\n",
            "2\n",
            "2\n",
            "2\n",
            "2\n",
            "2\n",
            "1\n",
            "1\n",
            "1\n",
            "1\n",
            "1\n",
            "1\n",
            "1\n",
            "1\n"
          ]
        }
      ]
    },
    {
      "cell_type": "markdown",
      "metadata": {
        "id": "_OF-Xuj1UrW0"
      },
      "source": [
        "---\n",
        "### Exercise 7 - get statistics (max(), min(), sum() )\n",
        "\n",
        "Write a function which will:\n",
        "*   print the maximum and minimum numbers in the `nums` list  \n",
        "*   print the sum of the `nums` list\n",
        "*   calculate and print the average of the `nums` list (using `len()` to help)"
      ]
    },
    {
      "cell_type": "code",
      "metadata": {
        "id": "9YmYMenZVGod",
        "colab": {
          "base_uri": "https://localhost:8080/"
        },
        "outputId": "0a35b8a5-89ff-40eb-e5bf-70db2768d89e"
      },
      "source": [
        "def get_statistics():\n",
        "  new_nums = nums\n",
        "  new_nums_max = max(new_nums)\n",
        "  print(\"Maximum number: \", new_nums_max)\n",
        "  new_nums_min = min(new_nums)\n",
        "  print(\"Minimum number: \", new_nums_min)\n",
        "\n",
        "  # Sum of \"new_nums\" list:\n",
        "  new_nums_sum = 0\n",
        "  for number in new_nums:\n",
        "    new_nums_sum += number\n",
        "  print(\"Sum of \\\"new_nums\\\" list: \", new_nums_sum)\n",
        "\n",
        "  # Average of \"new_nums\" list:\n",
        "  new_nums_length = len(new_nums)\n",
        "  print(\"Items in \\\"new_nums\\\" list: \", new_nums_length)\n",
        "  new_nums_average = (new_nums_sum / new_nums_length)\n",
        "  print(\"Average (rounded) of \\\"new_nums\\\" list: \", round(new_nums_average))\n",
        "\n",
        "get_statistics()"
      ],
      "execution_count": null,
      "outputs": [
        {
          "output_type": "stream",
          "name": "stdout",
          "text": [
            "Maximum number:  100\n",
            "Minimum number:  1\n",
            "Sum of \"new_nums\" list:  49883\n",
            "Items in \"new_nums\" list:  1000\n",
            "Average (rounded) of \"new_nums\" list:  50\n"
          ]
        }
      ]
    },
    {
      "cell_type": "markdown",
      "metadata": {
        "id": "Mn4tHQ_KVbHa"
      },
      "source": [
        "---\n",
        "### Exercise 8 - percentage difference\n",
        "\n",
        "Write a function which will:\n",
        "*   generate a new list called **ex8_nums** using `get_num_list()`\n",
        "*   calculate and print the percentage difference between the first number in each list (as a percentage of the number in the nums list) (Hint:  find the difference between the two numbers, divide the difference by the number in `nums` and multiply by 100)\n",
        "*   calculate and print the percentage difference between the last numbers in each list in the same way\n",
        "*   calculate and print the percentage difference between the middle numbers in each list in the same way.\n",
        "*   calculate and print the percentage difference between the sums of each list in the same way"
      ]
    },
    {
      "cell_type": "code",
      "metadata": {
        "id": "nJCQjZIeZL0e",
        "colab": {
          "base_uri": "https://localhost:8080/"
        },
        "outputId": "6e10deeb-6c9c-4f3e-c621-fafe82d04f9f"
      },
      "source": [
        "def percentage_difference():\n",
        "  ex8_nums = get_num_list()\n",
        "\n",
        "  # First Number Percentage Difference\n",
        "  print(\"First number of \\\"nums\\\" :\", nums[0])\n",
        "  print(\"First number of \\\"ex8_nums\\\" :\", ex8_nums[0])\n",
        "\n",
        "  first_difference = (nums[0] - ex8_nums[0])\n",
        "  print(\"Difference: \", first_difference)\n",
        "  first_num_percentage_difference = ((first_difference / nums[0]) * 100)\n",
        "  print(\"Percentage Difference (First Numbers): \", round(first_num_percentage_difference), \"%\")\n",
        "\n",
        "  # Last Number Percentage Difference\n",
        "  print(\"\\nLast number of \\\"nums\\\" :\", nums[-1])\n",
        "  print(\"Last number of \\\"ex8_nums\\\" :\", ex8_nums[-1])\n",
        "\n",
        "  last_difference = (nums[-1] - ex8_nums[-1])\n",
        "  print(\"Difference: \", last_difference)\n",
        "  last_num_percentage_difference = ((last_difference / nums[-1]) * 100)\n",
        "  print(\"Percentage Difference (Last Numbers): \", round(last_num_percentage_difference), \"%\")\n",
        "\n",
        "# Middle Number Percentage Difference\n",
        "  nums_middle = nums[(len(nums) // 2)]\n",
        "  ex8_nums_middle = ex8_nums[(len(ex8_nums) // 2)]\n",
        "  print(\"\\nMiddle number of \\\"nums\\\" :\", nums_middle)\n",
        "  print(\"Middle number of \\\"ex8_nums\\\" :\", ex8_nums_middle)\n",
        "\n",
        "  middle_difference = (nums_middle - ex8_nums_middle)\n",
        "  print(\"Difference: \", middle_difference)\n",
        "  middle_num_percentage_difference = ((middle_difference / nums_middle) * 100)\n",
        "  print(\"Percentage Difference (Middle Numbers): \", round(middle_num_percentage_difference), \"%\")\n",
        "\n",
        "\n",
        "percentage_difference()"
      ],
      "execution_count": null,
      "outputs": [
        {
          "output_type": "stream",
          "name": "stdout",
          "text": [
            "First number of \"nums\" : 72\n",
            "First number of \"ex8_nums\" : 67\n",
            "Difference:  5\n",
            "Percentage Difference (First Numbers):  7 %\n",
            "\n",
            "Last number of \"nums\" : 22\n",
            "Last number of \"ex8_nums\" : 58\n",
            "Difference:  -36\n",
            "Percentage Difference (Last Numbers):  -164 %\n",
            "\n",
            "Middle number of \"nums\" : 60\n",
            "Middle number of \"ex8_nums\" : 25\n",
            "Difference:  35\n",
            "Percentage Difference (Middle Numbers):  58 %\n"
          ]
        }
      ]
    },
    {
      "cell_type": "markdown",
      "metadata": {
        "id": "HNs3lZmYawFO"
      },
      "source": [
        "---\n",
        "### Exercise 9 - characteristic counts\n",
        "\n",
        "Write a function which will:\n",
        "*  iterate through the `protected_characteristics` tuple and for each **characteristic**:\n",
        "*   *   count the number of occurrences of that `characteristic` in the `characteristics` list\n",
        "*   *   print the `protected_characteristic` and the **count**  \n",
        "\n",
        "Example expected output:\n",
        "\n",
        "age 100  \n",
        "disability 120  \n",
        "gender reassignment 120  \n",
        "marriage and civil partnership 111  \n",
        "pregnancy and maternity 103  \n",
        "race 106  \n",
        "religion or belief 95  \n",
        "sex 110  \n",
        "sexual orientation 113  \n",
        "\n",
        "Extra learning:  you can read [here](https://thispointer.com/python-how-to-pad-strings-with-zero-space-or-some-other-character/) how to justify the printed characteristic so that the output is organised into two columns as shown below:  \n",
        "![tabulated output](https://drive.google.com/uc?id=1CCXfX6K5ZeDefnq7vUsqxCDmqvcfY8Mz)\n",
        "\n",
        "\n",
        "\n"
      ]
    },
    {
      "cell_type": "code",
      "metadata": {
        "id": "GURT11albqUs",
        "colab": {
          "base_uri": "https://localhost:8080/"
        },
        "outputId": "6905b455-fcd3-4096-ec07-fc0e00cb06de"
      },
      "source": [
        "def characteristic_counts():\n",
        "  # Find the maximum length of the characteristic\n",
        "  max_length = max(len(i) for i in protected_characteristics)\n",
        "\n",
        "  # Print column headings\n",
        "  print(f\"{'Protected Characteristic':{max_length}}    Frequency\\n\")\n",
        "  print\n",
        "  # Print characteristic counts\n",
        "  for i in protected_characteristics:\n",
        "    x = characteristics.count(i)\n",
        "    print(f\"{i:{max_length}}    {x}\")\n",
        "\n",
        "characteristic_counts()"
      ],
      "execution_count": null,
      "outputs": [
        {
          "output_type": "stream",
          "name": "stdout",
          "text": [
            "Protected Characteristic          Frequency\n",
            "\n",
            "age                               441\n",
            "disability                        409\n",
            "gender reassignment               435\n",
            "marriage and civil partnership    405\n",
            "pregnancy and maternity           402\n",
            "race                              437\n",
            "religion or belief                414\n",
            "sex                               392\n",
            "sexual orientation                425\n"
          ]
        }
      ]
    },
    {
      "cell_type": "markdown",
      "metadata": {
        "id": "9Po7yQj-ds38"
      },
      "source": [
        "---\n",
        "### Exercise 10 - characteristics statistics\n",
        "\n",
        "Assuming that the `characteristics` list may have been taken from a study of cases that have been taken to court in relation to the Equality Act.  \n",
        "\n",
        "Write a function which will:\n",
        "\n",
        "*   find the most common characteristic resulting in court action, from this population\n",
        "*   print this in a message, e.g. The characteristic with the highest number of court cases is:  *characteristic*\n",
        "*   print the list of `protected_characteristics`, on one line if possible - see [here](https://www.geeksforgeeks.org/g-fact-25-print-single-multiple-variable-python/)\n",
        "*   ask the user to enter a characteristic that they would like to see statistics on and use a while loop to continue until the user has entered a valid characteristic\n",
        "*   print the characteristic, its frequency and the percentage that this frequency is of the whole population."
      ]
    },
    {
      "cell_type": "code",
      "metadata": {
        "id": "uk_I5z7UgbDs",
        "colab": {
          "base_uri": "https://localhost:8080/"
        },
        "outputId": "285cf9f0-dfe9-4d9b-eb87-f4859ece4174"
      },
      "source": [
        "def characteristics_statistics(characteristics):\n",
        "  # Count the frequency of each characteristic\n",
        "  characteristic_count = {}\n",
        "  for char in characteristics:\n",
        "    if char in characteristic_count:\n",
        "      characteristic_count[char] += 1\n",
        "    else:\n",
        "      characteristic_count[char] = 1\n",
        "  print(characteristic_count)\n",
        "\n",
        "  # Find the most common characteristic\n",
        "  most_common = max(characteristic_count, key=characteristic_count.get)\n",
        "\n",
        "  # Print the most common characteristic\n",
        "  print(\"Characteristic with the highest number of court cases: \", most_common)\n",
        "\n",
        "  # Print the list of protected characteristics\n",
        "  print(\"List of protected characteristics:\", \", \".join(set(characteristics)))\n",
        "\n",
        "# Prompt user to enter a characteristic\n",
        "  user_input = input(\"For statistics, please enter the characteristic: \")\n",
        "\n",
        "  while user_input in characteristic_count:\n",
        "    frequency = characteristic_count[user_input]\n",
        "    percentage = (frequency / len(characteristics)) * 100\n",
        "    print(f\"Frequency of {user_input}: {frequency}\")\n",
        "    print(f\"Percentage of the whole population: {percentage:.2f}%\")\n",
        "    break\n",
        "  else:\n",
        "    print(f\"Please enter a valid characteristic\")\n",
        "    user_input = input(\"For statistics, please enter the characteristic: \")\n",
        "\n",
        "\n",
        "characteristics_statistics(characteristics)"
      ],
      "execution_count": 4,
      "outputs": [
        {
          "name": "stdout",
          "output_type": "stream",
          "text": [
            "{'sex': 410, 'sexual orientation': 404, 'marriage and civil partnership': 434, 'race': 473, 'religion or belief': 399, 'age': 392, 'pregnancy and maternity': 419, 'gender reassignment': 412, 'disability': 394}\n",
            "Characteristic with the highest number of court cases:  race\n",
            "List of protected characteristics: sex, age, religion or belief, gender reassignment, disability, sexual orientation, pregnancy and maternity, race, marriage and civil partnership\n",
            "For statistics, please enter the characteristic: sax\n",
            "Please enter a valid characteristic\n",
            "For statistics, please enter the characteristic: ade\n"
          ]
        }
      ]
    }
  ]
}